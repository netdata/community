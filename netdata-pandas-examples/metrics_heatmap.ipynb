{
 "metadata": {
  "language_info": {
   "codemirror_mode": {
    "name": "ipython",
    "version": 3
   },
   "file_extension": ".py",
   "mimetype": "text/x-python",
   "name": "python",
   "nbconvert_exporter": "python",
   "pygments_lexer": "ipython3",
   "version": "3.8.1-final"
  },
  "orig_nbformat": 2,
  "kernelspec": {
   "name": "python3",
   "display_name": "Python 3.8.1 64-bit ('venv')",
   "metadata": {
    "interpreter": {
     "hash": "f898777614c9e76283339cd3ad97bf2702d60cb6d5263ff41e85acecd6462b41"
    }
   }
  }
 },
 "nbformat": 4,
 "nbformat_minor": 2,
 "cells": [
  {
   "source": [
    "# Metrics Heatmap"
   ],
   "cell_type": "markdown",
   "metadata": {}
  },
  {
   "source": [
    "<a href=\"https://colab.research.google.com/github/netdata/netdata-community/blob/main/netdata-agent-api/netdata-pandas/metrics_heatmap.ipynb\" target=\"_blank\"><img src=\"https://colab.research.google.com/assets/colab-badge.svg\" alt=\"Open In Colab\"/></a>"
   ],
   "cell_type": "markdown",
   "metadata": {}
  },
  {
   "source": [
    "In this notebook we will use the [netdata-pandas](https://github.com/netdata/netdata-pandas) Python package to pull some data from some demo Netdata servers and make some pretty looking heatmaps, because we all love a good heatmap don't we. \n",
    "\n",
    "**Note**: you can click the \"Open in Colab\" button above to open this notebook in [Google Colab](https://colab.research.google.com/notebooks/intro.ipynb#recent=true) where you can just get going with it without having to set up python enviornments or any messy stuff like that."
   ],
   "cell_type": "markdown",
   "metadata": {}
  },
  {
   "cell_type": "code",
   "execution_count": 1,
   "metadata": {},
   "outputs": [],
   "source": [
    "# if you need to, uncomment below to install netdata-pandas and seaborn packages\n",
    "#!pip install plotly==4.14.1 netdata-pandas==0.0.33 scikit-learn==0.23.2"
   ]
  },
  {
   "cell_type": "code",
   "execution_count": 2,
   "metadata": {},
   "outputs": [],
   "source": [
    "import numpy as np\n",
    "import pandas as pd\n",
    "from netdata_pandas.data import get_data\n",
    "import plotly.express as px\n",
    "from sklearn.cluster import KMeans, AgglomerativeClustering"
   ]
  },
  {
   "source": [
    "Lets pull some data for the last 30 minutes."
   ],
   "cell_type": "markdown",
   "metadata": {}
  },
  {
   "cell_type": "code",
   "execution_count": 3,
   "metadata": {},
   "outputs": [],
   "source": [
    "# inputs\n",
    "hosts = ['london.my-netdata.io']\n",
    "charts_regex = 'system.*'\n",
    "before = 0\n",
    "after = -60*30\n",
    "resample_freq = '30s'"
   ]
  },
  {
   "cell_type": "code",
   "execution_count": 4,
   "metadata": {},
   "outputs": [
    {
     "output_type": "stream",
     "name": "stdout",
     "text": [
      "(1800, 72)\n"
     ]
    },
    {
     "output_type": "execute_result",
     "data": {
      "text/plain": [
       "                     system.active_processes|active  system.cpu|guest  \\\n",
       "time_idx                                                                \n",
       "2020-12-17 21:55:00                           210.0               0.0   \n",
       "2020-12-17 21:55:01                           210.0               0.0   \n",
       "2020-12-17 21:55:02                           210.0               0.0   \n",
       "2020-12-17 21:55:03                           210.0               0.0   \n",
       "2020-12-17 21:55:04                           210.0               0.0   \n",
       "\n",
       "                     system.cpu|guest_nice  system.cpu|iowait  system.cpu|irq  \\\n",
       "time_idx                                                                        \n",
       "2020-12-17 21:55:00                    0.0                0.0             0.0   \n",
       "2020-12-17 21:55:01                    0.0                0.0             0.0   \n",
       "2020-12-17 21:55:02                    0.0                0.0             0.0   \n",
       "2020-12-17 21:55:03                    0.0                0.0             0.0   \n",
       "2020-12-17 21:55:04                    0.0                0.0             0.0   \n",
       "\n",
       "                     system.cpu|nice  system.cpu|softirq  system.cpu|steal  \\\n",
       "time_idx                                                                     \n",
       "2020-12-17 21:55:00              0.0            0.000000          0.000000   \n",
       "2020-12-17 21:55:01              0.0            0.000000          0.746269   \n",
       "2020-12-17 21:55:02              0.0            0.246305          3.201970   \n",
       "2020-12-17 21:55:03              0.0            0.249377          1.246883   \n",
       "2020-12-17 21:55:04              0.0            0.000000          2.948403   \n",
       "\n",
       "                     system.cpu|system  system.cpu|user  ...  \\\n",
       "time_idx                                                 ...   \n",
       "2020-12-17 21:55:00           1.007557         0.755668  ...   \n",
       "2020-12-17 21:55:01           0.995025         1.990050  ...   \n",
       "2020-12-17 21:55:02           1.970443         0.985222  ...   \n",
       "2020-12-17 21:55:03           0.997506         0.997506  ...   \n",
       "2020-12-17 21:55:04           1.228501         0.491401  ...   \n",
       "\n",
       "                     system.softirqs|RCU  system.softirqs|SCHED  \\\n",
       "time_idx                                                          \n",
       "2020-12-17 21:55:00            121.13332              111.50723   \n",
       "2020-12-17 21:55:01            121.63017              116.31840   \n",
       "2020-12-17 21:55:02            145.14163              126.40951   \n",
       "2020-12-17 21:55:03            113.24100              103.32201   \n",
       "2020-12-17 21:55:04             94.56372               92.56660   \n",
       "\n",
       "                     system.softirqs|TASKLET  system.softirqs|TIMER  \\\n",
       "time_idx                                                              \n",
       "2020-12-17 21:55:00                 30.80371              157.56646   \n",
       "2020-12-17 21:55:01                 35.65587              166.67364   \n",
       "2020-12-17 21:55:02                 24.51585              174.24960   \n",
       "2020-12-17 21:55:03                 24.06558              140.32398   \n",
       "2020-12-17 21:55:04                 31.32625              127.20239   \n",
       "\n",
       "                     system.softnet_stat|dropped  \\\n",
       "time_idx                                           \n",
       "2020-12-17 21:55:00                          0.0   \n",
       "2020-12-17 21:55:01                          0.0   \n",
       "2020-12-17 21:55:02                          0.0   \n",
       "2020-12-17 21:55:03                          0.0   \n",
       "2020-12-17 21:55:04                          0.0   \n",
       "\n",
       "                     system.softnet_stat|flow_limit_count  \\\n",
       "time_idx                                                    \n",
       "2020-12-17 21:55:00                                   0.0   \n",
       "2020-12-17 21:55:01                                   0.0   \n",
       "2020-12-17 21:55:02                                   0.0   \n",
       "2020-12-17 21:55:03                                   0.0   \n",
       "2020-12-17 21:55:04                                   0.0   \n",
       "\n",
       "                     system.softnet_stat|processed  \\\n",
       "time_idx                                             \n",
       "2020-12-17 21:55:00                       89.31269   \n",
       "2020-12-17 21:55:01                      102.66124   \n",
       "2020-12-17 21:55:02                       65.57535   \n",
       "2020-12-17 21:55:03                       68.19300   \n",
       "2020-12-17 21:55:04                      100.12846   \n",
       "\n",
       "                     system.softnet_stat|received_rps  \\\n",
       "time_idx                                                \n",
       "2020-12-17 21:55:00                               0.0   \n",
       "2020-12-17 21:55:01                               0.0   \n",
       "2020-12-17 21:55:02                               0.0   \n",
       "2020-12-17 21:55:03                               0.0   \n",
       "2020-12-17 21:55:04                               0.0   \n",
       "\n",
       "                     system.softnet_stat|squeezed  system.uptime|uptime  \n",
       "time_idx                                                                 \n",
       "2020-12-17 21:55:00                           0.0            67378100.0  \n",
       "2020-12-17 21:55:01                           0.0            67378110.0  \n",
       "2020-12-17 21:55:02                           0.0            67378110.0  \n",
       "2020-12-17 21:55:03                           0.0            67378110.0  \n",
       "2020-12-17 21:55:04                           0.0            67378110.0  \n",
       "\n",
       "[5 rows x 72 columns]"
      ],
      "text/html": "<div>\n<style scoped>\n    .dataframe tbody tr th:only-of-type {\n        vertical-align: middle;\n    }\n\n    .dataframe tbody tr th {\n        vertical-align: top;\n    }\n\n    .dataframe thead th {\n        text-align: right;\n    }\n</style>\n<table border=\"1\" class=\"dataframe\">\n  <thead>\n    <tr style=\"text-align: right;\">\n      <th></th>\n      <th>system.active_processes|active</th>\n      <th>system.cpu|guest</th>\n      <th>system.cpu|guest_nice</th>\n      <th>system.cpu|iowait</th>\n      <th>system.cpu|irq</th>\n      <th>system.cpu|nice</th>\n      <th>system.cpu|softirq</th>\n      <th>system.cpu|steal</th>\n      <th>system.cpu|system</th>\n      <th>system.cpu|user</th>\n      <th>...</th>\n      <th>system.softirqs|RCU</th>\n      <th>system.softirqs|SCHED</th>\n      <th>system.softirqs|TASKLET</th>\n      <th>system.softirqs|TIMER</th>\n      <th>system.softnet_stat|dropped</th>\n      <th>system.softnet_stat|flow_limit_count</th>\n      <th>system.softnet_stat|processed</th>\n      <th>system.softnet_stat|received_rps</th>\n      <th>system.softnet_stat|squeezed</th>\n      <th>system.uptime|uptime</th>\n    </tr>\n    <tr>\n      <th>time_idx</th>\n      <th></th>\n      <th></th>\n      <th></th>\n      <th></th>\n      <th></th>\n      <th></th>\n      <th></th>\n      <th></th>\n      <th></th>\n      <th></th>\n      <th></th>\n      <th></th>\n      <th></th>\n      <th></th>\n      <th></th>\n      <th></th>\n      <th></th>\n      <th></th>\n      <th></th>\n      <th></th>\n      <th></th>\n    </tr>\n  </thead>\n  <tbody>\n    <tr>\n      <th>2020-12-17 21:55:00</th>\n      <td>210.0</td>\n      <td>0.0</td>\n      <td>0.0</td>\n      <td>0.0</td>\n      <td>0.0</td>\n      <td>0.0</td>\n      <td>0.000000</td>\n      <td>0.000000</td>\n      <td>1.007557</td>\n      <td>0.755668</td>\n      <td>...</td>\n      <td>121.13332</td>\n      <td>111.50723</td>\n      <td>30.80371</td>\n      <td>157.56646</td>\n      <td>0.0</td>\n      <td>0.0</td>\n      <td>89.31269</td>\n      <td>0.0</td>\n      <td>0.0</td>\n      <td>67378100.0</td>\n    </tr>\n    <tr>\n      <th>2020-12-17 21:55:01</th>\n      <td>210.0</td>\n      <td>0.0</td>\n      <td>0.0</td>\n      <td>0.0</td>\n      <td>0.0</td>\n      <td>0.0</td>\n      <td>0.000000</td>\n      <td>0.746269</td>\n      <td>0.995025</td>\n      <td>1.990050</td>\n      <td>...</td>\n      <td>121.63017</td>\n      <td>116.31840</td>\n      <td>35.65587</td>\n      <td>166.67364</td>\n      <td>0.0</td>\n      <td>0.0</td>\n      <td>102.66124</td>\n      <td>0.0</td>\n      <td>0.0</td>\n      <td>67378110.0</td>\n    </tr>\n    <tr>\n      <th>2020-12-17 21:55:02</th>\n      <td>210.0</td>\n      <td>0.0</td>\n      <td>0.0</td>\n      <td>0.0</td>\n      <td>0.0</td>\n      <td>0.0</td>\n      <td>0.246305</td>\n      <td>3.201970</td>\n      <td>1.970443</td>\n      <td>0.985222</td>\n      <td>...</td>\n      <td>145.14163</td>\n      <td>126.40951</td>\n      <td>24.51585</td>\n      <td>174.24960</td>\n      <td>0.0</td>\n      <td>0.0</td>\n      <td>65.57535</td>\n      <td>0.0</td>\n      <td>0.0</td>\n      <td>67378110.0</td>\n    </tr>\n    <tr>\n      <th>2020-12-17 21:55:03</th>\n      <td>210.0</td>\n      <td>0.0</td>\n      <td>0.0</td>\n      <td>0.0</td>\n      <td>0.0</td>\n      <td>0.0</td>\n      <td>0.249377</td>\n      <td>1.246883</td>\n      <td>0.997506</td>\n      <td>0.997506</td>\n      <td>...</td>\n      <td>113.24100</td>\n      <td>103.32201</td>\n      <td>24.06558</td>\n      <td>140.32398</td>\n      <td>0.0</td>\n      <td>0.0</td>\n      <td>68.19300</td>\n      <td>0.0</td>\n      <td>0.0</td>\n      <td>67378110.0</td>\n    </tr>\n    <tr>\n      <th>2020-12-17 21:55:04</th>\n      <td>210.0</td>\n      <td>0.0</td>\n      <td>0.0</td>\n      <td>0.0</td>\n      <td>0.0</td>\n      <td>0.0</td>\n      <td>0.000000</td>\n      <td>2.948403</td>\n      <td>1.228501</td>\n      <td>0.491401</td>\n      <td>...</td>\n      <td>94.56372</td>\n      <td>92.56660</td>\n      <td>31.32625</td>\n      <td>127.20239</td>\n      <td>0.0</td>\n      <td>0.0</td>\n      <td>100.12846</td>\n      <td>0.0</td>\n      <td>0.0</td>\n      <td>67378110.0</td>\n    </tr>\n  </tbody>\n</table>\n<p>5 rows × 72 columns</p>\n</div>"
     },
     "metadata": {},
     "execution_count": 4
    }
   ],
   "source": [
    "# get the data\n",
    "df_raw = get_data(hosts=hosts, charts_regex=charts_regex, after=after, before=before, index_as_datetime=True)\n",
    "print(df_raw.shape)\n",
    "df_raw.head()"
   ]
  },
  {
   "source": [
    "## Heatmaps!"
   ],
   "cell_type": "markdown",
   "metadata": {}
  },
  {
   "cell_type": "code",
   "execution_count": 5,
   "metadata": {},
   "outputs": [
    {
     "output_type": "stream",
     "name": "stdout",
     "text": [
      "(60, 47)\n"
     ]
    },
    {
     "output_type": "execute_result",
     "data": {
      "text/plain": [
       "                     system.interrupts|qxl_11  system.cpu|steal  \\\n",
       "time_idx                                                          \n",
       "2020-12-17 21:55:00                  0.000000          0.222574   \n",
       "2020-12-17 21:55:30                  1.000000          0.087554   \n",
       "2020-12-17 21:56:00                  0.673989          0.378078   \n",
       "2020-12-17 21:56:30                  0.326011          0.396085   \n",
       "2020-12-17 21:57:00                  1.000000          0.687260   \n",
       "2020-12-17 21:57:30                  0.000000          0.029581   \n",
       "2020-12-17 21:58:00                  1.000000          0.076275   \n",
       "2020-12-17 21:58:30                  0.673375          0.234837   \n",
       "2020-12-17 21:59:00                  0.326625          0.147947   \n",
       "2020-12-17 21:59:30                  1.000000          0.058828   \n",
       "\n",
       "                     system.entropy|entropy  system.ctxt|switches  \\\n",
       "time_idx                                                            \n",
       "2020-12-17 21:55:00                0.983504              0.807816   \n",
       "2020-12-17 21:55:30                0.084234              0.867975   \n",
       "2020-12-17 21:56:00                0.198540              0.550063   \n",
       "2020-12-17 21:56:30                0.307299              0.564800   \n",
       "2020-12-17 21:57:00                0.415182              0.323184   \n",
       "2020-12-17 21:57:30                0.521168              0.930842   \n",
       "2020-12-17 21:58:00                0.635182              0.717451   \n",
       "2020-12-17 21:58:30                0.754745              0.711628   \n",
       "2020-12-17 21:59:00                0.868613              0.878319   \n",
       "2020-12-17 21:59:30                0.985109              0.814631   \n",
       "\n",
       "                     system.uptime|uptime  system.ram|cached  \\\n",
       "time_idx                                                       \n",
       "2020-12-17 21:55:00              0.000000           0.000000   \n",
       "2020-12-17 21:55:30              0.016949           0.011443   \n",
       "2020-12-17 21:56:00              0.033898           0.041257   \n",
       "2020-12-17 21:56:30              0.050847           0.053775   \n",
       "2020-12-17 21:57:00              0.067797           0.072130   \n",
       "2020-12-17 21:57:30              0.084746           0.089725   \n",
       "2020-12-17 21:58:00              0.101695           0.105070   \n",
       "2020-12-17 21:58:30              0.118644           0.123458   \n",
       "2020-12-17 21:59:00              0.135593           0.135513   \n",
       "2020-12-17 21:59:30              0.152542           0.150792   \n",
       "\n",
       "                     system.interrupts|TLB  system.intr|interrupts  \\\n",
       "time_idx                                                             \n",
       "2020-12-17 21:55:00               0.666969                0.756294   \n",
       "2020-12-17 21:55:30               0.847968                0.826571   \n",
       "2020-12-17 21:56:00               0.380655                0.466751   \n",
       "2020-12-17 21:56:30               0.387496                0.521437   \n",
       "2020-12-17 21:57:00               0.329303                0.335555   \n",
       "2020-12-17 21:57:30               0.864195                0.867495   \n",
       "2020-12-17 21:58:00               0.505091                0.677252   \n",
       "2020-12-17 21:58:30               0.476352                0.711761   \n",
       "2020-12-17 21:59:00               0.651264                0.922187   \n",
       "2020-12-17 21:59:30               0.714177                0.703213   \n",
       "\n",
       "                     system.interrupts|RES  system.idlejitter|average  ...  \\\n",
       "time_idx                                                               ...   \n",
       "2020-12-17 21:55:00               0.730444                   0.172490  ...   \n",
       "2020-12-17 21:55:30               0.815922                   0.121355  ...   \n",
       "2020-12-17 21:56:00               0.479479                   0.413721  ...   \n",
       "2020-12-17 21:56:30               0.444300                   0.349800  ...   \n",
       "2020-12-17 21:57:00               0.264216                   0.586346  ...   \n",
       "2020-12-17 21:57:30               0.846815                   0.065381  ...   \n",
       "2020-12-17 21:58:00               0.631775                   0.093603  ...   \n",
       "2020-12-17 21:58:30               0.535099                   0.271709  ...   \n",
       "2020-12-17 21:59:00               0.665861                   0.166107  ...   \n",
       "2020-12-17 21:59:30               0.778257                   0.097164  ...   \n",
       "\n",
       "                     system.net|received  system.softirqs|TIMER  \\\n",
       "time_idx                                                          \n",
       "2020-12-17 21:55:00             0.340323               0.264969   \n",
       "2020-12-17 21:55:30             0.464811               0.375521   \n",
       "2020-12-17 21:56:00             0.237395               0.190924   \n",
       "2020-12-17 21:56:30             0.259510               0.328464   \n",
       "2020-12-17 21:57:00             0.315733               0.430230   \n",
       "2020-12-17 21:57:30             0.161651               0.157091   \n",
       "2020-12-17 21:58:00             0.284549               0.113713   \n",
       "2020-12-17 21:58:30             0.340436               0.338715   \n",
       "2020-12-17 21:59:00             0.251623               0.255279   \n",
       "2020-12-17 21:59:30             0.079362               0.099253   \n",
       "\n",
       "                     system.softnet_stat|processed  system.softirqs|NET_RX  \\\n",
       "time_idx                                                                     \n",
       "2020-12-17 21:55:00                       0.271254                0.305197   \n",
       "2020-12-17 21:55:30                       0.333994                0.387389   \n",
       "2020-12-17 21:56:00                       0.148356                0.198073   \n",
       "2020-12-17 21:56:30                       0.228352                0.249885   \n",
       "2020-12-17 21:57:00                       0.341456                0.262346   \n",
       "2020-12-17 21:57:30                       0.125202                0.148650   \n",
       "2020-12-17 21:58:00                       0.256175                0.228951   \n",
       "2020-12-17 21:58:30                       0.300076                0.259544   \n",
       "2020-12-17 21:59:00                       0.234432                0.242105   \n",
       "2020-12-17 21:59:30                       0.064254                0.063047   \n",
       "\n",
       "                     system.cpu|softirq  system.softirqs|TASKLET  \\\n",
       "time_idx                                                           \n",
       "2020-12-17 21:55:00            0.353530                 0.250110   \n",
       "2020-12-17 21:55:30            0.407064                 0.312999   \n",
       "2020-12-17 21:56:00            0.400833                 0.158191   \n",
       "2020-12-17 21:56:30            0.153454                 0.241310   \n",
       "2020-12-17 21:57:00            0.399676                 0.233902   \n",
       "2020-12-17 21:57:30            0.104740                 0.123046   \n",
       "2020-12-17 21:58:00            0.305172                 0.221009   \n",
       "2020-12-17 21:58:30            0.303536                 0.268532   \n",
       "2020-12-17 21:59:00            0.306825                 0.240432   \n",
       "2020-12-17 21:59:30            0.306805                 0.058326   \n",
       "\n",
       "                     system.interrupts|virtio0-input.0_25  \\\n",
       "time_idx                                                    \n",
       "2020-12-17 21:55:00                              0.224691   \n",
       "2020-12-17 21:55:30                              0.297184   \n",
       "2020-12-17 21:56:00                              0.161296   \n",
       "2020-12-17 21:56:30                              0.224634   \n",
       "2020-12-17 21:57:00                              0.187124   \n",
       "2020-12-17 21:57:30                              0.120252   \n",
       "2020-12-17 21:58:00                              0.175892   \n",
       "2020-12-17 21:58:30                              0.209690   \n",
       "2020-12-17 21:59:00                              0.205119   \n",
       "2020-12-17 21:59:30                              0.056520   \n",
       "\n",
       "                     system.softnet_stat|squeezed  system.ipv6|sent  \\\n",
       "time_idx                                                              \n",
       "2020-12-17 21:55:00                           0.0               1.0   \n",
       "2020-12-17 21:55:30                           0.0               1.0   \n",
       "2020-12-17 21:56:00                           0.4               1.0   \n",
       "2020-12-17 21:56:30                           0.0               1.0   \n",
       "2020-12-17 21:57:00                           0.2               1.0   \n",
       "2020-12-17 21:57:30                           0.0               1.0   \n",
       "2020-12-17 21:58:00                           0.0               1.0   \n",
       "2020-12-17 21:58:30                           0.0               1.0   \n",
       "2020-12-17 21:59:00                           0.0               1.0   \n",
       "2020-12-17 21:59:30                           0.0               1.0   \n",
       "\n",
       "                     system.interrupts|virtio0-output.0_26  \n",
       "time_idx                                                    \n",
       "2020-12-17 21:55:00                                    0.0  \n",
       "2020-12-17 21:55:30                                    0.0  \n",
       "2020-12-17 21:56:00                                    0.0  \n",
       "2020-12-17 21:56:30                                    0.0  \n",
       "2020-12-17 21:57:00                                    0.0  \n",
       "2020-12-17 21:57:30                                    0.0  \n",
       "2020-12-17 21:58:00                                    0.0  \n",
       "2020-12-17 21:58:30                                    0.0  \n",
       "2020-12-17 21:59:00                                    0.0  \n",
       "2020-12-17 21:59:30                                    0.0  \n",
       "\n",
       "[10 rows x 47 columns]"
      ],
      "text/html": "<div>\n<style scoped>\n    .dataframe tbody tr th:only-of-type {\n        vertical-align: middle;\n    }\n\n    .dataframe tbody tr th {\n        vertical-align: top;\n    }\n\n    .dataframe thead th {\n        text-align: right;\n    }\n</style>\n<table border=\"1\" class=\"dataframe\">\n  <thead>\n    <tr style=\"text-align: right;\">\n      <th></th>\n      <th>system.interrupts|qxl_11</th>\n      <th>system.cpu|steal</th>\n      <th>system.entropy|entropy</th>\n      <th>system.ctxt|switches</th>\n      <th>system.uptime|uptime</th>\n      <th>system.ram|cached</th>\n      <th>system.interrupts|TLB</th>\n      <th>system.intr|interrupts</th>\n      <th>system.interrupts|RES</th>\n      <th>system.idlejitter|average</th>\n      <th>...</th>\n      <th>system.net|received</th>\n      <th>system.softirqs|TIMER</th>\n      <th>system.softnet_stat|processed</th>\n      <th>system.softirqs|NET_RX</th>\n      <th>system.cpu|softirq</th>\n      <th>system.softirqs|TASKLET</th>\n      <th>system.interrupts|virtio0-input.0_25</th>\n      <th>system.softnet_stat|squeezed</th>\n      <th>system.ipv6|sent</th>\n      <th>system.interrupts|virtio0-output.0_26</th>\n    </tr>\n    <tr>\n      <th>time_idx</th>\n      <th></th>\n      <th></th>\n      <th></th>\n      <th></th>\n      <th></th>\n      <th></th>\n      <th></th>\n      <th></th>\n      <th></th>\n      <th></th>\n      <th></th>\n      <th></th>\n      <th></th>\n      <th></th>\n      <th></th>\n      <th></th>\n      <th></th>\n      <th></th>\n      <th></th>\n      <th></th>\n      <th></th>\n    </tr>\n  </thead>\n  <tbody>\n    <tr>\n      <th>2020-12-17 21:55:00</th>\n      <td>0.000000</td>\n      <td>0.222574</td>\n      <td>0.983504</td>\n      <td>0.807816</td>\n      <td>0.000000</td>\n      <td>0.000000</td>\n      <td>0.666969</td>\n      <td>0.756294</td>\n      <td>0.730444</td>\n      <td>0.172490</td>\n      <td>...</td>\n      <td>0.340323</td>\n      <td>0.264969</td>\n      <td>0.271254</td>\n      <td>0.305197</td>\n      <td>0.353530</td>\n      <td>0.250110</td>\n      <td>0.224691</td>\n      <td>0.0</td>\n      <td>1.0</td>\n      <td>0.0</td>\n    </tr>\n    <tr>\n      <th>2020-12-17 21:55:30</th>\n      <td>1.000000</td>\n      <td>0.087554</td>\n      <td>0.084234</td>\n      <td>0.867975</td>\n      <td>0.016949</td>\n      <td>0.011443</td>\n      <td>0.847968</td>\n      <td>0.826571</td>\n      <td>0.815922</td>\n      <td>0.121355</td>\n      <td>...</td>\n      <td>0.464811</td>\n      <td>0.375521</td>\n      <td>0.333994</td>\n      <td>0.387389</td>\n      <td>0.407064</td>\n      <td>0.312999</td>\n      <td>0.297184</td>\n      <td>0.0</td>\n      <td>1.0</td>\n      <td>0.0</td>\n    </tr>\n    <tr>\n      <th>2020-12-17 21:56:00</th>\n      <td>0.673989</td>\n      <td>0.378078</td>\n      <td>0.198540</td>\n      <td>0.550063</td>\n      <td>0.033898</td>\n      <td>0.041257</td>\n      <td>0.380655</td>\n      <td>0.466751</td>\n      <td>0.479479</td>\n      <td>0.413721</td>\n      <td>...</td>\n      <td>0.237395</td>\n      <td>0.190924</td>\n      <td>0.148356</td>\n      <td>0.198073</td>\n      <td>0.400833</td>\n      <td>0.158191</td>\n      <td>0.161296</td>\n      <td>0.4</td>\n      <td>1.0</td>\n      <td>0.0</td>\n    </tr>\n    <tr>\n      <th>2020-12-17 21:56:30</th>\n      <td>0.326011</td>\n      <td>0.396085</td>\n      <td>0.307299</td>\n      <td>0.564800</td>\n      <td>0.050847</td>\n      <td>0.053775</td>\n      <td>0.387496</td>\n      <td>0.521437</td>\n      <td>0.444300</td>\n      <td>0.349800</td>\n      <td>...</td>\n      <td>0.259510</td>\n      <td>0.328464</td>\n      <td>0.228352</td>\n      <td>0.249885</td>\n      <td>0.153454</td>\n      <td>0.241310</td>\n      <td>0.224634</td>\n      <td>0.0</td>\n      <td>1.0</td>\n      <td>0.0</td>\n    </tr>\n    <tr>\n      <th>2020-12-17 21:57:00</th>\n      <td>1.000000</td>\n      <td>0.687260</td>\n      <td>0.415182</td>\n      <td>0.323184</td>\n      <td>0.067797</td>\n      <td>0.072130</td>\n      <td>0.329303</td>\n      <td>0.335555</td>\n      <td>0.264216</td>\n      <td>0.586346</td>\n      <td>...</td>\n      <td>0.315733</td>\n      <td>0.430230</td>\n      <td>0.341456</td>\n      <td>0.262346</td>\n      <td>0.399676</td>\n      <td>0.233902</td>\n      <td>0.187124</td>\n      <td>0.2</td>\n      <td>1.0</td>\n      <td>0.0</td>\n    </tr>\n    <tr>\n      <th>2020-12-17 21:57:30</th>\n      <td>0.000000</td>\n      <td>0.029581</td>\n      <td>0.521168</td>\n      <td>0.930842</td>\n      <td>0.084746</td>\n      <td>0.089725</td>\n      <td>0.864195</td>\n      <td>0.867495</td>\n      <td>0.846815</td>\n      <td>0.065381</td>\n      <td>...</td>\n      <td>0.161651</td>\n      <td>0.157091</td>\n      <td>0.125202</td>\n      <td>0.148650</td>\n      <td>0.104740</td>\n      <td>0.123046</td>\n      <td>0.120252</td>\n      <td>0.0</td>\n      <td>1.0</td>\n      <td>0.0</td>\n    </tr>\n    <tr>\n      <th>2020-12-17 21:58:00</th>\n      <td>1.000000</td>\n      <td>0.076275</td>\n      <td>0.635182</td>\n      <td>0.717451</td>\n      <td>0.101695</td>\n      <td>0.105070</td>\n      <td>0.505091</td>\n      <td>0.677252</td>\n      <td>0.631775</td>\n      <td>0.093603</td>\n      <td>...</td>\n      <td>0.284549</td>\n      <td>0.113713</td>\n      <td>0.256175</td>\n      <td>0.228951</td>\n      <td>0.305172</td>\n      <td>0.221009</td>\n      <td>0.175892</td>\n      <td>0.0</td>\n      <td>1.0</td>\n      <td>0.0</td>\n    </tr>\n    <tr>\n      <th>2020-12-17 21:58:30</th>\n      <td>0.673375</td>\n      <td>0.234837</td>\n      <td>0.754745</td>\n      <td>0.711628</td>\n      <td>0.118644</td>\n      <td>0.123458</td>\n      <td>0.476352</td>\n      <td>0.711761</td>\n      <td>0.535099</td>\n      <td>0.271709</td>\n      <td>...</td>\n      <td>0.340436</td>\n      <td>0.338715</td>\n      <td>0.300076</td>\n      <td>0.259544</td>\n      <td>0.303536</td>\n      <td>0.268532</td>\n      <td>0.209690</td>\n      <td>0.0</td>\n      <td>1.0</td>\n      <td>0.0</td>\n    </tr>\n    <tr>\n      <th>2020-12-17 21:59:00</th>\n      <td>0.326625</td>\n      <td>0.147947</td>\n      <td>0.868613</td>\n      <td>0.878319</td>\n      <td>0.135593</td>\n      <td>0.135513</td>\n      <td>0.651264</td>\n      <td>0.922187</td>\n      <td>0.665861</td>\n      <td>0.166107</td>\n      <td>...</td>\n      <td>0.251623</td>\n      <td>0.255279</td>\n      <td>0.234432</td>\n      <td>0.242105</td>\n      <td>0.306825</td>\n      <td>0.240432</td>\n      <td>0.205119</td>\n      <td>0.0</td>\n      <td>1.0</td>\n      <td>0.0</td>\n    </tr>\n    <tr>\n      <th>2020-12-17 21:59:30</th>\n      <td>1.000000</td>\n      <td>0.058828</td>\n      <td>0.985109</td>\n      <td>0.814631</td>\n      <td>0.152542</td>\n      <td>0.150792</td>\n      <td>0.714177</td>\n      <td>0.703213</td>\n      <td>0.778257</td>\n      <td>0.097164</td>\n      <td>...</td>\n      <td>0.079362</td>\n      <td>0.099253</td>\n      <td>0.064254</td>\n      <td>0.063047</td>\n      <td>0.306805</td>\n      <td>0.058326</td>\n      <td>0.056520</td>\n      <td>0.0</td>\n      <td>1.0</td>\n      <td>0.0</td>\n    </tr>\n  </tbody>\n</table>\n<p>10 rows × 47 columns</p>\n</div>"
     },
     "metadata": {},
     "execution_count": 5
    }
   ],
   "source": [
    "# lets resample to 10 sec frequency\n",
    "df = df_raw.resample(resample_freq).mean()\n",
    "\n",
    "# lets min-max normalize our data so metrics can be compared on a heatmap\n",
    "df=(df-df.min())/(df.max()-df.min())\n",
    "\n",
    "# drop na cols\n",
    "df = df.dropna(how='all', axis=1)\n",
    "\n",
    "# lets sort cols by their std to try make heatmap prettier\n",
    "df = df[df.std().sort_values(ascending=False).index]\n",
    "\n",
    "print(df.shape)\n",
    "df.head(10)"
   ]
  },
  {
   "cell_type": "code",
   "execution_count": 6,
   "metadata": {},
   "outputs": [],
   "source": [
    "# lets cluster the columns to show similar metrics next to each other on the heatmap\n",
    "#clustering = KMeans(n_clusters=int(round(len(df.columns)*0.2,0))).fit(df.fillna(0).transpose().values)\n",
    "clustering = AgglomerativeClustering(n_clusters=int(round(len(df.columns)*0.2,0))).fit(df.fillna(0).transpose().values)\n",
    "\n",
    "# get order of cols from the cluster labels\n",
    "cols_sorted = pd.DataFrame(\n",
    "    zip(df.columns, clustering.labels_), \n",
    "    columns=['metric', 'cluster']\n",
    "    ).sort_values('cluster')['metric'].values.tolist()\n",
    "\n",
    "# re-order cols\n",
    "df = df[cols_sorted]"
   ]
  },
  {
   "cell_type": "code",
   "execution_count": 18,
   "metadata": {},
   "outputs": [
    {
     "output_type": "display_data",
     "data": {
      "image/svg+xml": "<svg class=\"main-svg\" xmlns=\"http://www.w3.org/2000/svg\" xmlns:xlink=\"http://www.w3.org/1999/xlink\" width=\"700\" height=\"450\" style=\"\" viewBox=\"0 0 700 450\"><rect x=\"0\" y=\"0\" width=\"700\" height=\"450\" style=\"fill: rgb(255, 255, 255); fill-opacity: 1;\"/><defs id=\"defs-386de0\"><g class=\"clips\"><clipPath id=\"clip386de0xyplot\" class=\"plotclip\"><rect width=\"368\" height=\"310\"/></clipPath><clipPath class=\"axesclip\" id=\"clip386de0x\"><rect x=\"243\" y=\"0\" width=\"368\" height=\"450\"/></clipPath><clipPath class=\"axesclip\" id=\"clip386de0y\"><rect x=\"0\" y=\"60\" width=\"700\" height=\"310\"/></clipPath><clipPath class=\"axesclip\" id=\"clip386de0xy\"><rect x=\"243\" y=\"60\" width=\"368\" height=\"310\"/></clipPath></g><g class=\"gradients\"><linearGradient x1=\"0\" x2=\"0\" y1=\"1\" y2=\"0\" id=\"g386de0-cbcoloraxis\"><stop offset=\"0%\" stop-color=\"rgb(247, 252, 245)\" stop-opacity=\"1\"/><stop offset=\"12.5%\" stop-color=\"rgb(229, 245, 224)\" stop-opacity=\"1\"/><stop offset=\"25%\" stop-color=\"rgb(199, 233, 192)\" stop-opacity=\"1\"/><stop offset=\"37.5%\" stop-color=\"rgb(161, 217, 155)\" stop-opacity=\"1\"/><stop offset=\"50%\" stop-color=\"rgb(116, 196, 118)\" stop-opacity=\"1\"/><stop offset=\"62.5%\" stop-color=\"rgb(65, 171, 93)\" stop-opacity=\"1\"/><stop offset=\"75%\" stop-color=\"rgb(35, 139, 69)\" stop-opacity=\"1\"/><stop offset=\"87.5%\" stop-color=\"rgb(0, 109, 44)\" stop-opacity=\"1\"/><stop offset=\"100%\" stop-color=\"rgb(0, 68, 27)\" stop-opacity=\"1\"/></linearGradient></g></defs><g class=\"bglayer\"><rect class=\"bg\" x=\"243\" y=\"60\" width=\"368\" height=\"310\" style=\"fill: rgb(229, 236, 246); fill-opacity: 1; stroke-width: 0;\"/></g><g class=\"layer-below\"><g class=\"imagelayer\"/><g class=\"shapelayer\"/></g><g class=\"cartesianlayer\"><g class=\"subplot xy\"><g class=\"layer-subplot\"><g class=\"shapelayer\"/><g class=\"imagelayer\"/></g><g class=\"gridlayer\"><g class=\"x\"><path class=\"xgrid crisp\" transform=\"translate(307.4,0)\" d=\"M0,60v310\" style=\"stroke: rgb(255, 255, 255); stroke-opacity: 1; stroke-width: 1px;\"/><path class=\"xgrid crisp\" transform=\"translate(430.07,0)\" d=\"M0,60v310\" style=\"stroke: rgb(255, 255, 255); stroke-opacity: 1; stroke-width: 1px;\"/><path class=\"xgrid crisp\" transform=\"translate(552.73,0)\" d=\"M0,60v310\" style=\"stroke: rgb(255, 255, 255); stroke-opacity: 1; stroke-width: 1px;\"/></g><g class=\"y\"><path class=\"ygrid crisp\" transform=\"translate(0,360.11)\" d=\"M243,0h368\" style=\"stroke: rgb(255, 255, 255); stroke-opacity: 1; stroke-width: 1px;\"/><path class=\"ygrid crisp\" transform=\"translate(0,340.32)\" d=\"M243,0h368\" style=\"stroke: rgb(255, 255, 255); stroke-opacity: 1; stroke-width: 1px;\"/><path class=\"ygrid crisp\" transform=\"translate(0,320.53)\" d=\"M243,0h368\" style=\"stroke: rgb(255, 255, 255); stroke-opacity: 1; stroke-width: 1px;\"/><path class=\"ygrid crisp\" transform=\"translate(0,300.74)\" d=\"M243,0h368\" style=\"stroke: rgb(255, 255, 255); stroke-opacity: 1; stroke-width: 1px;\"/><path class=\"ygrid crisp\" transform=\"translate(0,280.96000000000004)\" d=\"M243,0h368\" style=\"stroke: rgb(255, 255, 255); stroke-opacity: 1; stroke-width: 1px;\"/><path class=\"ygrid crisp\" transform=\"translate(0,261.16999999999996)\" d=\"M243,0h368\" style=\"stroke: rgb(255, 255, 255); stroke-opacity: 1; stroke-width: 1px;\"/><path class=\"ygrid crisp\" transform=\"translate(0,241.38)\" d=\"M243,0h368\" style=\"stroke: rgb(255, 255, 255); stroke-opacity: 1; stroke-width: 1px;\"/><path class=\"ygrid crisp\" transform=\"translate(0,221.6)\" d=\"M243,0h368\" style=\"stroke: rgb(255, 255, 255); stroke-opacity: 1; stroke-width: 1px;\"/><path class=\"ygrid crisp\" transform=\"translate(0,201.81)\" d=\"M243,0h368\" style=\"stroke: rgb(255, 255, 255); stroke-opacity: 1; stroke-width: 1px;\"/><path class=\"ygrid crisp\" transform=\"translate(0,182.01999999999998)\" d=\"M243,0h368\" style=\"stroke: rgb(255, 255, 255); stroke-opacity: 1; stroke-width: 1px;\"/><path class=\"ygrid crisp\" transform=\"translate(0,162.23000000000002)\" d=\"M243,0h368\" style=\"stroke: rgb(255, 255, 255); stroke-opacity: 1; stroke-width: 1px;\"/><path class=\"ygrid crisp\" transform=\"translate(0,142.45)\" d=\"M243,0h368\" style=\"stroke: rgb(255, 255, 255); stroke-opacity: 1; stroke-width: 1px;\"/><path class=\"ygrid crisp\" transform=\"translate(0,122.66)\" d=\"M243,0h368\" style=\"stroke: rgb(255, 255, 255); stroke-opacity: 1; stroke-width: 1px;\"/><path class=\"ygrid crisp\" transform=\"translate(0,102.87)\" d=\"M243,0h368\" style=\"stroke: rgb(255, 255, 255); stroke-opacity: 1; stroke-width: 1px;\"/><path class=\"ygrid crisp\" transform=\"translate(0,83.09)\" d=\"M243,0h368\" style=\"stroke: rgb(255, 255, 255); stroke-opacity: 1; stroke-width: 1px;\"/><path class=\"ygrid crisp\" transform=\"translate(0,63.3)\" d=\"M243,0h368\" style=\"stroke: rgb(255, 255, 255); stroke-opacity: 1; stroke-width: 1px;\"/></g></g><g class=\"zerolinelayer\"/><path class=\"xlines-below\"/><path class=\"ylines-below\"/><g class=\"overlines-below\"/><g class=\"xaxislayer-below\"/><g class=\"yaxislayer-below\"/><g class=\"overaxes-below\"/><g class=\"plot\" transform=\"translate(243,60)\" clip-path=\"url('#clip386de0xyplot')\"><g class=\"heatmaplayer mlayer\"><g class=\"hm\"><image xmlns=\"http://www.w3.org/2000/svg\" preserveAspectRatio=\"none\" height=\"310\" width=\"368\" x=\"0\" y=\"0\" xlink:href=\"data:image/png;base64,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\" style=\"opacity: 1;\"/></g></g></g><g class=\"overplot\"/><path class=\"xlines-above crisp\" d=\"M0,0\" style=\"fill: none;\"/><path class=\"ylines-above crisp\" d=\"M0,0\" style=\"fill: none;\"/><g class=\"overlines-above\"/><g class=\"xaxislayer-above\"><g class=\"xtick\"><text text-anchor=\"middle\" x=\"0\" y=\"383\" transform=\"translate(307.4,0)\" style=\"font-family: 'Open Sans', verdana, arial, sans-serif; font-size: 12px; fill: rgb(42, 63, 95); fill-opacity: 1; white-space: pre;\"><tspan class=\"line\" dy=\"0em\" x=\"0\" y=\"383\">22:00</tspan><tspan class=\"line\" dy=\"1.3em\" x=\"0\" y=\"383\">Dec 17, 2020</tspan></text></g><g class=\"xtick\"><text text-anchor=\"middle\" x=\"0\" y=\"383\" transform=\"translate(430.07,0)\" style=\"font-family: 'Open Sans', verdana, arial, sans-serif; font-size: 12px; fill: rgb(42, 63, 95); fill-opacity: 1; white-space: pre;\">22:10</text></g><g class=\"xtick\"><text text-anchor=\"middle\" x=\"0\" y=\"383\" transform=\"translate(552.73,0)\" style=\"font-family: 'Open Sans', verdana, arial, sans-serif; font-size: 12px; fill: rgb(42, 63, 95); fill-opacity: 1; white-space: pre;\">22:20</text></g></g><g class=\"yaxislayer-above\"><g class=\"ytick\"><text text-anchor=\"end\" x=\"242\" y=\"4.199999999999999\" transform=\"translate(0,360.11)\" style=\"font-family: 'Open Sans', verdana, arial, sans-serif; font-size: 12px; fill: rgb(42, 63, 95); fill-opacity: 1; white-space: pre;\">system.ram|used</text></g><g class=\"ytick\"><text text-anchor=\"end\" x=\"242\" y=\"4.199999999999999\" transform=\"translate(0,340.32)\" style=\"font-family: 'Open Sans', verdana, arial, sans-serif; font-size: 12px; fill: rgb(42, 63, 95); fill-opacity: 1; white-space: pre;\">system.interrupts|qxl_11</text></g><g class=\"ytick\"><text text-anchor=\"end\" x=\"242\" y=\"4.199999999999999\" transform=\"translate(0,320.53)\" style=\"font-family: 'Open Sans', verdana, arial, sans-serif; font-size: 12px; fill: rgb(42, 63, 95); fill-opacity: 1; white-space: pre;\">system.interrupts|virtio0-output.0_26</text></g><g class=\"ytick\"><text text-anchor=\"end\" x=\"242\" y=\"4.199999999999999\" transform=\"translate(0,300.74)\" style=\"font-family: 'Open Sans', verdana, arial, sans-serif; font-size: 12px; fill: rgb(42, 63, 95); fill-opacity: 1; white-space: pre;\">system.intr|interrupts</text></g><g class=\"ytick\"><text text-anchor=\"end\" x=\"242\" y=\"4.199999999999999\" transform=\"translate(0,280.96000000000004)\" style=\"font-family: 'Open Sans', verdana, arial, sans-serif; font-size: 12px; fill: rgb(42, 63, 95); fill-opacity: 1; white-space: pre;\">system.interrupts|RES</text></g><g class=\"ytick\"><text text-anchor=\"end\" x=\"242\" y=\"4.199999999999999\" transform=\"translate(0,261.16999999999996)\" style=\"font-family: 'Open Sans', verdana, arial, sans-serif; font-size: 12px; fill: rgb(42, 63, 95); fill-opacity: 1; white-space: pre;\">system.idlejitter|average</text></g><g class=\"ytick\"><text text-anchor=\"end\" x=\"242\" y=\"4.199999999999999\" transform=\"translate(0,241.38)\" style=\"font-family: 'Open Sans', verdana, arial, sans-serif; font-size: 12px; fill: rgb(42, 63, 95); fill-opacity: 1; white-space: pre;\">system.active_processes|active</text></g><g class=\"ytick\"><text text-anchor=\"end\" x=\"242\" y=\"4.199999999999999\" transform=\"translate(0,221.6)\" style=\"font-family: 'Open Sans', verdana, arial, sans-serif; font-size: 12px; fill: rgb(42, 63, 95); fill-opacity: 1; white-space: pre;\">system.entropy|entropy</text></g><g class=\"ytick\"><text text-anchor=\"end\" x=\"242\" y=\"4.199999999999999\" transform=\"translate(0,201.81)\" style=\"font-family: 'Open Sans', verdana, arial, sans-serif; font-size: 12px; fill: rgb(42, 63, 95); fill-opacity: 1; white-space: pre;\">system.uptime|uptime</text></g><g class=\"ytick\"><text text-anchor=\"end\" x=\"242\" y=\"4.199999999999999\" transform=\"translate(0,182.01999999999998)\" style=\"font-family: 'Open Sans', verdana, arial, sans-serif; font-size: 12px; fill: rgb(42, 63, 95); fill-opacity: 1; white-space: pre;\">system.softirqs|TIMER</text></g><g class=\"ytick\"><text text-anchor=\"end\" x=\"242\" y=\"4.199999999999999\" transform=\"translate(0,162.23000000000002)\" style=\"font-family: 'Open Sans', verdana, arial, sans-serif; font-size: 12px; fill: rgb(42, 63, 95); fill-opacity: 1; white-space: pre;\">system.interrupts|virtio2-req.0_32</text></g><g class=\"ytick\"><text text-anchor=\"end\" x=\"242\" y=\"4.199999999999999\" transform=\"translate(0,142.45)\" style=\"font-family: 'Open Sans', verdana, arial, sans-serif; font-size: 12px; fill: rgb(42, 63, 95); fill-opacity: 1; white-space: pre;\">system.softirqs|RCU</text></g><g class=\"ytick\"><text text-anchor=\"end\" x=\"242\" y=\"4.199999999999999\" transform=\"translate(0,122.66)\" style=\"font-family: 'Open Sans', verdana, arial, sans-serif; font-size: 12px; fill: rgb(42, 63, 95); fill-opacity: 1; white-space: pre;\">system.ip|received</text></g><g class=\"ytick\"><text text-anchor=\"end\" x=\"242\" y=\"4.199999999999999\" transform=\"translate(0,102.87)\" style=\"font-family: 'Open Sans', verdana, arial, sans-serif; font-size: 12px; fill: rgb(42, 63, 95); fill-opacity: 1; white-space: pre;\">system.cpu|iowait</text></g><g class=\"ytick\"><text text-anchor=\"end\" x=\"242\" y=\"4.199999999999999\" transform=\"translate(0,83.09)\" style=\"font-family: 'Open Sans', verdana, arial, sans-serif; font-size: 12px; fill: rgb(42, 63, 95); fill-opacity: 1; white-space: pre;\">system.ipv6|sent</text></g><g class=\"ytick\"><text text-anchor=\"end\" x=\"242\" y=\"4.199999999999999\" transform=\"translate(0,63.3)\" style=\"font-family: 'Open Sans', verdana, arial, sans-serif; font-size: 12px; fill: rgb(42, 63, 95); fill-opacity: 1; white-space: pre;\">system.net|sent</text></g></g><g class=\"overaxes-above\"/></g></g><g class=\"polarlayer\"/><g class=\"ternarylayer\"/><g class=\"geolayer\"/><g class=\"funnelarealayer\"/><g class=\"pielayer\"/><g class=\"treemaplayer\"/><g class=\"sunburstlayer\"/><g class=\"glimages\"/><defs id=\"topdefs-386de0\"><g class=\"clips\"/></defs><g class=\"layer-above\"><g class=\"imagelayer\"/><g class=\"shapelayer\"/></g><g class=\"infolayer\"><g class=\"cbcoloraxis colorbar\" transform=\"translate(243,60)\"><rect class=\"cbbg\" x=\"375\" y=\"0\" width=\"70.015625\" height=\"310\" style=\"fill: rgb(0, 0, 0); fill-opacity: 0; stroke: rgb(68, 68, 68); stroke-opacity: 1; stroke-width: 0;\"/><g class=\"cbfills\" transform=\"translate(0,10)\"><rect class=\"cbfill\" x=\"385\" width=\"30\" y=\"0\" height=\"290\" style=\"fill: url('#g386de0-cbcoloraxis');\"/></g><g class=\"cblines\" transform=\"translate(0,10)\"/><g class=\"cbaxis crisp\" transform=\"translate(0,-60)\"><g class=\"ycbcoloraxistick\"><text text-anchor=\"start\" x=\"417.9\" y=\"4.199999999999999\" transform=\"translate(0,360)\" style=\"font-family: 'Open Sans', verdana, arial, sans-serif; font-size: 12px; fill: rgb(42, 63, 95); fill-opacity: 1; white-space: pre;\">0</text></g><g class=\"ycbcoloraxistick\"><text text-anchor=\"start\" x=\"417.9\" y=\"4.199999999999999\" transform=\"translate(0,302)\" style=\"font-family: 'Open Sans', verdana, arial, sans-serif; font-size: 12px; fill: rgb(42, 63, 95); fill-opacity: 1; white-space: pre;\">0.2</text></g><g class=\"ycbcoloraxistick\"><text text-anchor=\"start\" x=\"417.9\" y=\"4.199999999999999\" transform=\"translate(0,244)\" style=\"font-family: 'Open Sans', verdana, arial, sans-serif; font-size: 12px; fill: rgb(42, 63, 95); fill-opacity: 1; white-space: pre;\">0.4</text></g><g class=\"ycbcoloraxistick\"><text text-anchor=\"start\" x=\"417.9\" y=\"4.199999999999999\" transform=\"translate(0,186)\" style=\"font-family: 'Open Sans', verdana, arial, sans-serif; font-size: 12px; fill: rgb(42, 63, 95); fill-opacity: 1; white-space: pre;\">0.6</text></g><g class=\"ycbcoloraxistick\"><text text-anchor=\"start\" x=\"417.9\" y=\"4.199999999999999\" transform=\"translate(0,127.99999999999999)\" style=\"font-family: 'Open Sans', verdana, arial, sans-serif; font-size: 12px; fill: rgb(42, 63, 95); fill-opacity: 1; white-space: pre;\">0.8</text></g><g class=\"ycbcoloraxistick\"><text text-anchor=\"start\" x=\"417.9\" y=\"4.199999999999999\" transform=\"translate(0,69.99999999999999)\" style=\"font-family: 'Open Sans', verdana, arial, sans-serif; font-size: 12px; fill: rgb(42, 63, 95); fill-opacity: 1; white-space: pre;\">1</text></g></g><g class=\"cbtitleunshift\" transform=\"translate(-243,-60)\"><g class=\"cbtitle\"/></g><rect class=\"cboutline\" x=\"385\" y=\"10\" width=\"30\" height=\"290\" style=\"stroke: rgb(68, 68, 68); stroke-opacity: 1; fill: none; stroke-width: 0;\"/></g><g class=\"g-gtitle\"/><g class=\"g-xtitle\"><text class=\"xtitle\" x=\"427\" y=\"426.409375\" text-anchor=\"middle\" style=\"font-family: 'Open Sans', verdana, arial, sans-serif; font-size: 14px; fill: rgb(42, 63, 95); opacity: 1; font-weight: normal; white-space: pre;\">time_idx</text></g><g class=\"g-ytitle\"/></g></svg>"
     },
     "metadata": {}
    }
   ],
   "source": [
    "# now plot our heatmap\n",
    "fig = px.imshow(df.transpose(), color_continuous_scale='Greens')\n",
    "fig.update_layout(\n",
    "    autosize=False,\n",
    "    width=1000,\n",
    "    height=1200)\n",
    "# fig.show() # for interactive\n",
    "fig.show(\"svg\") # static svg so can be displayed on github, best use above line"
   ]
  },
  {
   "cell_type": "code",
   "execution_count": 7,
   "metadata": {},
   "outputs": [],
   "source": [
    " \n"
   ]
  },
  {
   "cell_type": "code",
   "execution_count": null,
   "metadata": {},
   "outputs": [],
   "source": []
  },
  {
   "cell_type": "code",
   "execution_count": null,
   "metadata": {},
   "outputs": [],
   "source": []
  }
 ]
}