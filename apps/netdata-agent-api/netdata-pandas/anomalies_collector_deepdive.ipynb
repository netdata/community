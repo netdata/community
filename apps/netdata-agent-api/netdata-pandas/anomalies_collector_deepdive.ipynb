{
 "cells": [
  {
   "cell_type": "markdown",
   "metadata": {},
   "source": [
    "# Anomalies collector - deepdive tutorial!"
   ]
  },
  {
   "cell_type": "markdown",
   "metadata": {},
   "source": [
    "<a href=\"https://colab.research.google.com/github/netdata/community/blob/main/netdata-agent-api/netdata-pandas/anomalies_collector_deepdive.ipynb\" target=\"_blank\"><img src=\"https://colab.research.google.com/assets/colab-badge.svg\" alt=\"Open In Colab\"/></a>"
   ]
  },
  {
   "cell_type": "markdown",
   "metadata": {},
   "source": [
    "This notebook will walk through, step by step, a worked example of how the [netdata anomalies collector](https://github.com/netdata/netdata/tree/master/collectors/python.d.plugin/anomalies) works under the hood. \n",
    "\n",
    "**Note**: you can click the \"Open in Colab\" button above to open this notebook in [Google Colab](https://colab.research.google.com/notebooks/intro.ipynb#recent=true) where you can just get going with it without having to set up python environments or any messy stuff like that. If the button does not work then just [click here](https://colab.research.google.com/github/netdata/community/blob/main/netdata-agent-api/netdata-pandas/anomalies_collector_deepdive.ipynb).\n",
    "\n",
    "**Another Note**: If you are just reading through this notebook then it might be better to view it using nbviewer [here](https://nbviewer.jupyter.org/github/netdata/community/blob/main/netdata-agent-api/netdata-pandas/anomalies_collector_deepdive.ipynb) or colab [here](https://colab.research.google.com/github/netdata/community/blob/main/netdata-agent-api/netdata-pandas/anomalies_collector_deepdive.ipynb) as it will render a bit prettier than in Github."
   ]
  },
  {
   "cell_type": "code",
   "execution_count": null,
   "metadata": {},
   "outputs": [],
   "source": [
    "# uncomment the below line to install required packages if needed (you will need to do this the first time if running in Google Colab).\n",
    "#!pip install netdata-pandas==0.0.28 numba==0.50.1 scikit-learn==0.23.2 pyod==0.8.3"
   ]
  },
  {
   "cell_type": "markdown",
   "metadata": {},
   "source": [
    "## Contents:\n",
    "- [Overview](#Overview)\n",
    "- [Inputs & configuration](#Inputs-&-configuration)\n",
    "- [An aside on PCA](#An-aside-on-PCA)\n",
    "- [Initialize our models](#Initialize-our-models)\n",
    "- [Get training data](#Get-training-data)\n",
    "- [Preprocess or \"featurize\" the training data](#Preprocess-or-\"featurize\"-the-training-data)\n",
    "- [Train models](#Train-models)\n",
    "- [Get pediction data](#Get-pediction-data)\n",
    "- [Get predictions](#Get-predictions)\n",
    "- [But what _is_ the model?](#But-what-is-the-model?)\n",
    "- [Ok so lets step through that!](#Ok-so-lets-step-through-that!)"
   ]
  },
  {
   "cell_type": "markdown",
   "metadata": {},
   "source": [
    "But first, lets start with a meme..."
   ]
  },
  {
   "cell_type": "markdown",
   "metadata": {},
   "source": [
    "![image](img/mlfunny.jpg)"
   ]
  },
  {
   "cell_type": "markdown",
   "metadata": {},
   "source": [
    "## Overview"
   ]
  },
  {
   "cell_type": "markdown",
   "metadata": {},
   "source": [
    "There are three main concepts central to what the anomalies collector does:\n",
    "\n",
    "- **Featurization**: This is how we take the raw data for each chart and preprocess it into a feature representation or \"[feature vector](https://en.wikipedia.org/wiki/Feature_(machine_learning\\))\" used by the model. A simple way to think of this is that we just take each row of data and add some extra columns to encode some additional information. For example, a smoothed average of the last `lags_n` values for each dimension on the chart so the model can have some knowledge of the recent past beyond just the latest raw values of the dimensions.\n",
    "\n",
    "- **Training**: A function to take our \"featurized\" training data and train our models, one for each chart (or [custom models](https://github.com/netdata/netdata/tree/master/collectors/python.d.plugin/anomalies#custom-models) if you have defined any). This function will do slightly different things depending on what [model](https://pyod.readthedocs.io/en/latest/pyod.models.html#) you use. In a broad sense, its job is to train the model to form a useful, more compact, representation of the training data and then we can use this representation to measure our level of surprise at new data that we want to get anomaly scores for. So for the default PCA model this involves leveraging finding a lower dimensional representation that does a good job at reconstructing the main characteristics of the variance in our training data. Some other models might take a slightly different approach use different representations and algorithms to get to that \"measure of surprise\" for each feature vector. For the purpose of what we are doing this is largely abstracted away by the [API of the PyOD library](https://pyod.readthedocs.io/en/latest/pyod.html#api-reference), such that as a user we can easily switch between various models and still have broadly the same inputs ([Numpy arrays](https://numpy.org/doc/stable/reference/generated/numpy.array.html)) and outputs (also Numpy array's of anomaly scores, probabilities, and flags).\n",
    "\n",
    "- **Prediction**: Each trained model has a [`predict()`](https://pyod.readthedocs.io/en/latest/api_cc.html#pyod.models.base.BaseDetector.predict) function that we can use by passing in a new feature vector and getting back an anomaly probability and anomaly flag from the trained model. This is the part where we actually use the trained model as new data arrives to ask - \"how unusual does this new data look?\"  "
   ]
  },
  {
   "cell_type": "markdown",
   "metadata": {},
   "source": [
    "## Lets go!"
   ]
  },
  {
   "cell_type": "code",
   "execution_count": 2,
   "metadata": {},
   "outputs": [],
   "source": [
    "import time\n",
    "from datetime import datetime\n",
    "import matplotlib.pyplot as plt\n",
    "\n",
    "from IPython.display import display, Markdown\n",
    "from IPython.lib.display import YouTubeVideo\n",
    "import numpy as np\n",
    "import pandas as pd\n",
    "from netdata_pandas.data import get_data, get_allmetrics\n",
    "from pyod.models.hbos import HBOS\n",
    "from pyod.models.pca import PCA\n",
    "from pyod.models.cblof import CBLOF\n",
    "from pyod.models.iforest import IForest\n",
    "\n",
    "\n",
    "def make_features(df, lags_n, diffs_n, smooth_n):\n",
    "    \"\"\"Given a pandas dataframe preprocess it to take differences, add smoothing, and lags as specified. \n",
    "    \"\"\"\n",
    "    if diffs_n >= 1:\n",
    "        # take differences\n",
    "        df = df.diff(diffs_n).dropna()\n",
    "    if smooth_n >= 2:\n",
    "        # apply a rolling average to smooth out the data a bit\n",
    "        df = df.rolling(smooth_n).mean().dropna()\n",
    "    if lags_n >= 1:\n",
    "        # for each dimension add a new columns for each of lags_n lags of the differenced and smoothed values for that dimension\n",
    "        df_columns_new = [f'{col}_lag{n}' for n in range(lags_n+1) for col in df.columns]\n",
    "        df = pd.concat([df.shift(n) for n in range(lags_n + 1)], axis=1).dropna()\n",
    "        df.columns = df_columns_new\n",
    "    # sort columns to have lagged values next to each other for clarity when looking at the feature vectors\n",
    "    df = df.reindex(sorted(df.columns), axis=1)\n",
    "    \n",
    "    return df\n"
   ]
  },
  {
   "cell_type": "markdown",
   "metadata": {},
   "source": [
    "## Inputs & configuration"
   ]
  },
  {
   "cell_type": "markdown",
   "metadata": {},
   "source": [
    "In the next cell we will define all the inputs we will use in this tutorial. Feel free to play with them once you are familiar with how it all hangs together.\n",
    "\n",
    "Below you will see that the paramater values map to a subset of the inputs (the most important ones to help explain whats going on) required as part of the [`anomalies.conf`](https://github.com/netdata/netdata/tree/master/collectors/python.d.plugin/anomalies/anomalies.conf) configuration for the [anomalies collector](https://github.com/netdata/netdata/tree/master/collectors/python.d.plugin/anomalies) itself."
   ]
  },
  {
   "cell_type": "code",
   "execution_count": 3,
   "metadata": {},
   "outputs": [],
   "source": [
    "# inputs\n",
    "\n",
    "# what host will we use\n",
    "host = 'london.my-netdata.io'\n",
    "#host= 'cdn77.my-netdata.io'\n",
    "#host = 'odyslam.me/netdata/webserver'\n",
    "\n",
    "# for this tutorial we will just use a few charts\n",
    "charts_in_scope = ['system.cpu', 'system.load', 'system.net', 'system.io', 'system.ip', 'system.idlejitter']\n",
    "\n",
    "# what model from PyOD will we use under the hood\n",
    "model = 'pca'\n",
    "\n",
    "# how many seconds of data will we train our models on\n",
    "train_n_secs = 14400\n",
    "\n",
    "# what contamination rate will we use, see some discussion here to understand this one more: https://github.com/yzhao062/pyod/issues/144\n",
    "contamination = 0.001\n",
    "\n",
    "# if we want to ignore a recent window of data when training the model we can use this\n",
    "offset_n_secs = 0\n",
    "\n",
    "# how many lags to include in our feature vector\n",
    "lags_n = 5\n",
    "\n",
    "# how much smoothing to apply in our feature vector\n",
    "smooth_n = 3\n",
    "\n",
    "# if we want to do everything in terms of differences then we set diffs_n=1\n",
    "diffs_n = 1\n",
    "\n",
    "# for purpose of this turorial how many prediction steps will we take once we have a trained model\n",
    "n_prediction_steps = 20"
   ]
  },
  {
   "cell_type": "markdown",
   "metadata": {},
   "source": [
    "## An aside on PCA"
   ]
  },
  {
   "cell_type": "markdown",
   "metadata": {},
   "source": [
    "By default the anomalies collector uses the `PCA` model, primarily this is because the PCA model gives a good combination of being able to capture and model flexible patterns in the data while also being computationally cheap since under the hood it is using the well researched, optimized and understood [SVD](https://en.wikipedia.org/wiki/Singular_value_decomposition) algorithm to decompose our featurized data and project it onto a lower dimensional space. At a high level, when we see new data that is in a strange or unexpected part of this lower dimensional space then this is symptomatic of some anomalous data and so will get a higher anomaly score. \n",
    "\n",
    "- api: https://pyod.readthedocs.io/en/latest/pyod.models.html#module-pyod.models.pca\n",
    "- source: https://pyod.readthedocs.io/en/latest/_modules/pyod/models/pca.html"
   ]
  },
  {
   "cell_type": "markdown",
   "metadata": {},
   "source": [
    "**Note**: If you want to learn more about PCA and play with some notebooks exploring PCA in a similar manner to this one then check out [this chapter](https://jakevdp.github.io/PythonDataScienceHandbook/05.09-principal-component-analysis.html) from the great [Python Data Science Handbook](https://jakevdp.github.io/PythonDataScienceHandbook) by [Jake Vander Plas](https://twitter.com/jakevdp).\n",
    "\n",
    "The image below (taken from the book) gives a good intuition about a way of thinking of PCA as (almost) dimensionality reduction. In the image below we are looking at how PCA could be used to \"compress\" the X and Y data into one single dimension of numbers by projecting each pair of points onto the corresponding solid blue line of dots. \n",
    "\n",
    "![image](img/pca1.png)"
   ]
  },
  {
   "cell_type": "markdown",
   "metadata": {},
   "source": [
    "Or if a [Computerfile](https://www.youtube.com/channel/UC9-y-6csu5WGm29I7JiwpnA) video is more your thing then check out the below one as it does a better job then we can here."
   ]
  },
  {
   "cell_type": "code",
   "execution_count": 4,
   "metadata": {},
   "outputs": [
    {
     "data": {
      "image/jpeg": "[encoded data removed]",
      "text/html": [
       "\n",
       "        <iframe\n",
       "            width=\"400\"\n",
       "            height=\"300\"\n",
       "            src=\"https://www.youtube.com/embed/TJdH6rPA-TI\"\n",
       "            frameborder=\"0\"\n",
       "            allowfullscreen\n",
       "        ></iframe>\n",
       "        "
      ],
      "text/plain": [
       "<IPython.lib.display.YouTubeVideo at 0x1ba9c2846a0>"
      ]
     },
     "execution_count": 4,
     "metadata": {},
     "output_type": "execute_result"
    }
   ],
   "source": [
    "YouTubeVideo('TJdH6rPA-TI')"
   ]
  },
  {
   "cell_type": "markdown",
   "metadata": {},
   "source": [
    "In this sense the PCA is learning a compressed representation of the data (technically, as mentioned in the video above, its a transformed representation in a different space, but we dont need to get too bogged down in that for our purposes here). This is essentially how PyOD uses PCA for anomaly detection under the hood. \n",
    "\n",
    "So we use PCA to learn a compressed representation of all the training data for each chart is some more abstract lower dimensional space that can be of use to us. The \"of use to us\" part here comes from the fact that PCA picks these lower dimensional representations in a clever way (using [SVD](https://en.wikipedia.org/wiki/Singular_value_decomposition)) that maximises the amount of information about the main directions of variance of the original dataset. e.g. in the image above the line of blue dots is the best line we could project our data onto in order to maintain as much information as possible about the variance of the original 2 dimensional dataset, as you can see there is much more 'spread' in the data along the original x-axis than the y-axis and that is what is captured by the 'spread' in the solid blue line of dots.  \n",
    "\n",
    "So when we see a new observation if it does not map well into this lower level representation we have learned during training, then that tells us that this new observation does not fit well into the representation we learned during training and as such it's probably somewhat anomalous, at least in comparison to what we observed in general in our training data. "
   ]
  },
  {
   "cell_type": "markdown",
   "metadata": {},
   "source": [
    "**Note**: We have looked at PCA a little bit above, but the point of awesome libraries like PyOD is that you don't really need to go that far down into the details - once you understand how the API works and a little bit about the various types of models/approaches used you can consider playing with and trying out other models on your data that take completely different approaches under the hood, for example:\n",
    "\n",
    "- **hbos**: uses histograms as the underlying representations of your data used to then measure the surprise of new data ([more info](https://www.dfki.de/fileadmin/user_upload/import/6431_HBOS-poster.pdf)).\n",
    "- **cblof**: somewhat similar in approach to pca but learned clusters as the representation of your training data and then it's the distance of new observations to the learned cluster centroids that is used to generate an anomaly score ([a good blog post](http://towardsdatascience.com/local-outlier-factor-for-anomaly-detection-cc0c770d2ebe)).\n",
    "- **iforest**: uses a [isolation forest](https://en.wikipedia.org/wiki/Isolation_forest) as the underlying model and then observations that end up on strnage partso f that learned forest are then considered more anomalous ([sklearn user guide](https://scikit-learn.org/stable/modules/outlier_detection.html#isolation-forest)). \n",
    "- ...[etc](https://pyod.readthedocs.io/en/latest/pyod.models.html).\n",
    "\n",
    "**Note**: Not all models from PyOD have been implemented in the anomalies collector as some turned out to be too expensive for the specific use case of unsupervised anomaly detection on your Netdata node itself (or even on a parent node). To that end, the models available in the collector are [`pca`](https://pyod.readthedocs.io/en/latest/pyod.models.html#module-pyod.models.pca), [`hbos`](https://pyod.readthedocs.io/en/latest/pyod.models.html#module-pyod.models.hbos), [`iforest`](https://pyod.readthedocs.io/en/latest/pyod.models.html#module-pyod.models.iforest), [`cblof`](https://pyod.readthedocs.io/en/latest/pyod.models.html#module-pyod.models.cblof), [`loda`](https://pyod.readthedocs.io/en/latest/pyod.models.html#module-pyod.models.loda), [`copod`](https://pyod.readthedocs.io/en/latest/pyod.models.html#module-pyod.models.copod) or [`feature_bagging`](https://pyod.readthedocs.io/en/latest/pyod.models.html#module-pyod.models.feature_bagging).\n"
   ]
  },
  {
   "cell_type": "markdown",
   "metadata": {},
   "source": [
    "## Initialize our models"
   ]
  },
  {
   "cell_type": "markdown",
   "metadata": {},
   "source": [
    "Now we will initialize a PyOD model for each chart in `charts_in_scope`. Each model type in PyOD will have various different input parameters that a user can play with, we will tend to use the defaults and override them sometimes with ones we have picked based on what we know about the task we are working on. Generally (where relevant) these model parameters, apart from `contamination`, are hardcoded into the anomalies collector based on our internal research as we developed the collector, you can see this in the [collector code here](https://github.com/netdata/netdata/blob/master/collectors/python.d.plugin/anomalies/anomalies.chart.py#L133).\n",
    "\n",
    "In the cell below we have added a comment for the source and API reference of each model from PyOD so you can take a look and read more about each one."
   ]
  },
  {
   "cell_type": "code",
   "execution_count": 5,
   "metadata": {},
   "outputs": [],
   "source": [
    "# initialize a model for each chart\n",
    "if model == 'pca':\n",
    "    # api: https://pyod.readthedocs.io/en/latest/pyod.models.html#module-pyod.models.pca\n",
    "    # source: https://pyod.readthedocs.io/en/latest/_modules/pyod/models/pca.html\n",
    "    models = {c: PCA(contamination=contamination, n_components=2, n_selected_components=2) for c in charts_in_scope}\n",
    "elif model == 'hbos':\n",
    "    # api: https://pyod.readthedocs.io/en/latest/pyod.models.html#module-pyod.models.hbos\n",
    "    # source: https://pyod.readthedocs.io/en/latest/_modules/pyod/models/hbos.html\n",
    "    models = {c: HBOS(contamination=contamination) for c in charts_in_scope}\n",
    "elif model == 'cblof':\n",
    "    # api: https://pyod.readthedocs.io/en/latest/pyod.models.html#module-pyod.models.cblof\n",
    "    # source: https://pyod.readthedocs.io/en/latest/_modules/pyod/models/cblof.html\n",
    "    models = {c: CBLOF(contamination=contamination, n_clusters=4) for c in charts_in_scope}\n",
    "elif model == 'iforest':\n",
    "    # api: https://pyod.readthedocs.io/en/latest/pyod.models.html#module-pyod.models.iforest\n",
    "    # source: https://pyod.readthedocs.io/en/latest/_modules/pyod/models/iforest.html\n",
    "    models = {c: IForest(contamination=contamination, n_estimators=50, bootstrap=True, behaviour='new') for c in charts_in_scope}\n",
    "else:\n",
    "    # we used the HBOS as default as it is both fast and robust to many different types of data and has proven in internal development \n",
    "    # to have less failure modes then some other models given the wide variaty of data we are expecting to be thrown at it\n",
    "    models = {c: HBOS(contamination=contamination) for c in charts_in_scope}"
   ]
  },
  {
   "cell_type": "markdown",
   "metadata": {},
   "source": [
    "## Get training data"
   ]
  },
  {
   "cell_type": "markdown",
   "metadata": {},
   "source": [
    "The first thing we need to do is get our raw training data for each chart we want to build a model for.\n",
    "\n",
    "To get the data we will make use of the [netdata-pandas](https://github.com/netdata/netdata-pandas) library we have built to make multiple asynchronous calls (using [asks](https://github.com/theelous3/asks) and [trio](https://github.com/python-trio/trio)) to the [Netdata REST API](https://learn.netdata.cloud/docs/agent/web/api) and basically wrangle the results into a nice [Pandas](https://pandas.pydata.org/) [`DataFrame`](https://pandas.pydata.org/pandas-docs/stable/reference/api/pandas.DataFrame.html)."
   ]
  },
  {
   "cell_type": "code",
   "execution_count": 6,
   "metadata": {},
   "outputs": [
    {
     "name": "stdout",
     "output_type": "stream",
     "text": [
      "<class 'pandas.core.frame.DataFrame'>\n",
      "Int64Index: 14399 entries, 1604474576 to 1604488974\n",
      "Data columns (total 21 columns):\n",
      " #   Column                     Non-Null Count  Dtype  \n",
      "---  ------                     --------------  -----  \n",
      " 0   system.cpu|guest           14399 non-null  float32\n",
      " 1   system.cpu|guest_nice      14399 non-null  float32\n",
      " 2   system.cpu|iowait          14399 non-null  float32\n",
      " 3   system.cpu|irq             14399 non-null  float32\n",
      " 4   system.cpu|nice            14399 non-null  float32\n",
      " 5   system.cpu|softirq         14399 non-null  float32\n",
      " 6   system.cpu|steal           14399 non-null  float32\n",
      " 7   system.cpu|system          14399 non-null  float32\n",
      " 8   system.cpu|user            14399 non-null  float32\n",
      " 9   system.idlejitter|average  14399 non-null  float32\n",
      " 10  system.idlejitter|max      14399 non-null  float32\n",
      " 11  system.idlejitter|min      14399 non-null  float32\n",
      " 12  system.io|in               14399 non-null  float32\n",
      " 13  system.io|out              14399 non-null  float32\n",
      " 14  system.ip|received         14399 non-null  float32\n",
      " 15  system.ip|sent             14399 non-null  float32\n",
      " 16  system.load|load1          14395 non-null  float32\n",
      " 17  system.load|load15         14395 non-null  float32\n",
      " 18  system.load|load5          14395 non-null  float32\n",
      " 19  system.net|received        14399 non-null  float32\n",
      " 20  system.net|sent            14399 non-null  float32\n",
      "dtypes: float32(21)\n",
      "memory usage: 1.3 MB\n",
      "None\n"
     ]
    },
    {
     "data": {
      "text/html": [
       "<div>\n",
       "<style scoped>\n",
       "    .dataframe tbody tr th:only-of-type {\n",
       "        vertical-align: middle;\n",
       "    }\n",
       "\n",
       "    .dataframe tbody tr th {\n",
       "        vertical-align: top;\n",
       "    }\n",
       "\n",
       "    .dataframe thead th {\n",
       "        text-align: right;\n",
       "    }\n",
       "</style>\n",
       "<table border=\"1\" class=\"dataframe\">\n",
       "  <thead>\n",
       "    <tr style=\"text-align: right;\">\n",
       "      <th></th>\n",
       "      <th>system.cpu|guest</th>\n",
       "      <th>system.cpu|guest_nice</th>\n",
       "      <th>system.cpu|iowait</th>\n",
       "      <th>system.cpu|irq</th>\n",
       "      <th>system.cpu|nice</th>\n",
       "      <th>system.cpu|softirq</th>\n",
       "      <th>system.cpu|steal</th>\n",
       "      <th>system.cpu|system</th>\n",
       "      <th>system.cpu|user</th>\n",
       "      <th>system.idlejitter|average</th>\n",
       "      <th>...</th>\n",
       "      <th>system.idlejitter|min</th>\n",
       "      <th>system.io|in</th>\n",
       "      <th>system.io|out</th>\n",
       "      <th>system.ip|received</th>\n",
       "      <th>system.ip|sent</th>\n",
       "      <th>system.load|load1</th>\n",
       "      <th>system.load|load15</th>\n",
       "      <th>system.load|load5</th>\n",
       "      <th>system.net|received</th>\n",
       "      <th>system.net|sent</th>\n",
       "    </tr>\n",
       "    <tr>\n",
       "      <th>time_idx</th>\n",
       "      <th></th>\n",
       "      <th></th>\n",
       "      <th></th>\n",
       "      <th></th>\n",
       "      <th></th>\n",
       "      <th></th>\n",
       "      <th></th>\n",
       "      <th></th>\n",
       "      <th></th>\n",
       "      <th></th>\n",
       "      <th></th>\n",
       "      <th></th>\n",
       "      <th></th>\n",
       "      <th></th>\n",
       "      <th></th>\n",
       "      <th></th>\n",
       "      <th></th>\n",
       "      <th></th>\n",
       "      <th></th>\n",
       "      <th></th>\n",
       "      <th></th>\n",
       "    </tr>\n",
       "  </thead>\n",
       "  <tbody>\n",
       "    <tr>\n",
       "      <th>1604474576</th>\n",
       "      <td>0.0</td>\n",
       "      <td>0.0</td>\n",
       "      <td>0.0</td>\n",
       "      <td>0.0</td>\n",
       "      <td>0.0</td>\n",
       "      <td>0.0</td>\n",
       "      <td>0.0</td>\n",
       "      <td>0.500000</td>\n",
       "      <td>0.500000</td>\n",
       "      <td>82.0</td>\n",
       "      <td>...</td>\n",
       "      <td>46.0</td>\n",
       "      <td>0.0</td>\n",
       "      <td>-11.750492</td>\n",
       "      <td>110.332367</td>\n",
       "      <td>-174.585098</td>\n",
       "      <td>NaN</td>\n",
       "      <td>NaN</td>\n",
       "      <td>NaN</td>\n",
       "      <td>20.880480</td>\n",
       "      <td>-84.349640</td>\n",
       "    </tr>\n",
       "    <tr>\n",
       "      <th>1604474577</th>\n",
       "      <td>0.0</td>\n",
       "      <td>0.0</td>\n",
       "      <td>0.0</td>\n",
       "      <td>0.0</td>\n",
       "      <td>0.0</td>\n",
       "      <td>0.0</td>\n",
       "      <td>0.0</td>\n",
       "      <td>0.505050</td>\n",
       "      <td>0.505050</td>\n",
       "      <td>84.0</td>\n",
       "      <td>...</td>\n",
       "      <td>30.0</td>\n",
       "      <td>0.0</td>\n",
       "      <td>0.000000</td>\n",
       "      <td>192.250900</td>\n",
       "      <td>-64.668961</td>\n",
       "      <td>NaN</td>\n",
       "      <td>NaN</td>\n",
       "      <td>NaN</td>\n",
       "      <td>164.099686</td>\n",
       "      <td>-32.041279</td>\n",
       "    </tr>\n",
       "    <tr>\n",
       "      <th>1604474578</th>\n",
       "      <td>0.0</td>\n",
       "      <td>0.0</td>\n",
       "      <td>0.0</td>\n",
       "      <td>0.0</td>\n",
       "      <td>0.0</td>\n",
       "      <td>0.0</td>\n",
       "      <td>0.0</td>\n",
       "      <td>0.251256</td>\n",
       "      <td>1.005025</td>\n",
       "      <td>78.0</td>\n",
       "      <td>...</td>\n",
       "      <td>27.0</td>\n",
       "      <td>0.0</td>\n",
       "      <td>0.000000</td>\n",
       "      <td>170.466507</td>\n",
       "      <td>-86.694138</td>\n",
       "      <td>NaN</td>\n",
       "      <td>NaN</td>\n",
       "      <td>NaN</td>\n",
       "      <td>124.846687</td>\n",
       "      <td>-37.602589</td>\n",
       "    </tr>\n",
       "    <tr>\n",
       "      <th>1604474579</th>\n",
       "      <td>0.0</td>\n",
       "      <td>0.0</td>\n",
       "      <td>0.0</td>\n",
       "      <td>0.0</td>\n",
       "      <td>0.0</td>\n",
       "      <td>0.0</td>\n",
       "      <td>0.0</td>\n",
       "      <td>0.502513</td>\n",
       "      <td>0.502513</td>\n",
       "      <td>79.0</td>\n",
       "      <td>...</td>\n",
       "      <td>29.0</td>\n",
       "      <td>0.0</td>\n",
       "      <td>0.000000</td>\n",
       "      <td>153.144745</td>\n",
       "      <td>-199.074005</td>\n",
       "      <td>NaN</td>\n",
       "      <td>NaN</td>\n",
       "      <td>NaN</td>\n",
       "      <td>46.703060</td>\n",
       "      <td>-91.418747</td>\n",
       "    </tr>\n",
       "    <tr>\n",
       "      <th>1604474580</th>\n",
       "      <td>0.0</td>\n",
       "      <td>0.0</td>\n",
       "      <td>0.0</td>\n",
       "      <td>0.0</td>\n",
       "      <td>0.0</td>\n",
       "      <td>0.0</td>\n",
       "      <td>0.0</td>\n",
       "      <td>0.503778</td>\n",
       "      <td>0.251889</td>\n",
       "      <td>76.0</td>\n",
       "      <td>...</td>\n",
       "      <td>47.0</td>\n",
       "      <td>0.0</td>\n",
       "      <td>-26.941219</td>\n",
       "      <td>124.466759</td>\n",
       "      <td>-144.531433</td>\n",
       "      <td>0.03</td>\n",
       "      <td>0.02</td>\n",
       "      <td>0.07</td>\n",
       "      <td>39.373100</td>\n",
       "      <td>-58.933270</td>\n",
       "    </tr>\n",
       "  </tbody>\n",
       "</table>\n",
       "<p>5 rows × 21 columns</p>\n",
       "</div>"
      ],
      "text/plain": [
       "            system.cpu|guest  system.cpu|guest_nice  system.cpu|iowait  \\\n",
       "time_idx                                                                 \n",
       "1604474576               0.0                    0.0                0.0   \n",
       "1604474577               0.0                    0.0                0.0   \n",
       "1604474578               0.0                    0.0                0.0   \n",
       "1604474579               0.0                    0.0                0.0   \n",
       "1604474580               0.0                    0.0                0.0   \n",
       "\n",
       "            system.cpu|irq  system.cpu|nice  system.cpu|softirq  \\\n",
       "time_idx                                                          \n",
       "1604474576             0.0              0.0                 0.0   \n",
       "1604474577             0.0              0.0                 0.0   \n",
       "1604474578             0.0              0.0                 0.0   \n",
       "1604474579             0.0              0.0                 0.0   \n",
       "1604474580             0.0              0.0                 0.0   \n",
       "\n",
       "            system.cpu|steal  system.cpu|system  system.cpu|user  \\\n",
       "time_idx                                                           \n",
       "1604474576               0.0           0.500000         0.500000   \n",
       "1604474577               0.0           0.505050         0.505050   \n",
       "1604474578               0.0           0.251256         1.005025   \n",
       "1604474579               0.0           0.502513         0.502513   \n",
       "1604474580               0.0           0.503778         0.251889   \n",
       "\n",
       "            system.idlejitter|average  ...  system.idlejitter|min  \\\n",
       "time_idx                               ...                          \n",
       "1604474576                       82.0  ...                   46.0   \n",
       "1604474577                       84.0  ...                   30.0   \n",
       "1604474578                       78.0  ...                   27.0   \n",
       "1604474579                       79.0  ...                   29.0   \n",
       "1604474580                       76.0  ...                   47.0   \n",
       "\n",
       "            system.io|in  system.io|out  system.ip|received  system.ip|sent  \\\n",
       "time_idx                                                                      \n",
       "1604474576           0.0     -11.750492          110.332367     -174.585098   \n",
       "1604474577           0.0       0.000000          192.250900      -64.668961   \n",
       "1604474578           0.0       0.000000          170.466507      -86.694138   \n",
       "1604474579           0.0       0.000000          153.144745     -199.074005   \n",
       "1604474580           0.0     -26.941219          124.466759     -144.531433   \n",
       "\n",
       "            system.load|load1  system.load|load15  system.load|load5  \\\n",
       "time_idx                                                               \n",
       "1604474576                NaN                 NaN                NaN   \n",
       "1604474577                NaN                 NaN                NaN   \n",
       "1604474578                NaN                 NaN                NaN   \n",
       "1604474579                NaN                 NaN                NaN   \n",
       "1604474580               0.03                0.02               0.07   \n",
       "\n",
       "            system.net|received  system.net|sent  \n",
       "time_idx                                          \n",
       "1604474576            20.880480       -84.349640  \n",
       "1604474577           164.099686       -32.041279  \n",
       "1604474578           124.846687       -37.602589  \n",
       "1604474579            46.703060       -91.418747  \n",
       "1604474580            39.373100       -58.933270  \n",
       "\n",
       "[5 rows x 21 columns]"
      ]
     },
     "execution_count": 6,
     "metadata": {},
     "output_type": "execute_result"
    }
   ],
   "source": [
    "# define the window for the training data to pull\n",
    "before = int(datetime.now().timestamp()) - offset_n_secs\n",
    "after =  before - train_n_secs\n",
    "\n",
    "# get the training data\n",
    "df_train = get_data(hosts=host, charts=charts_in_scope, after=after, before=before, sort_cols=True, numeric_only=True, float_size='float32')\n",
    "print(df_train.info())\n",
    "df_train.head()"
   ]
  },
  {
   "cell_type": "markdown",
   "metadata": {},
   "source": [
    "Above we can see our raw training data is just a pandas `DataFrame` with a timestamp index and a column of floats for each dimension from our `charts_in_scope` list.\n",
    "\n",
    "**Note**: The [netdata-pandas](https://github.com/netdata/netdata-pandas) default naming convention for columns is \"chart.name|dimension.name\" "
   ]
  },
  {
   "cell_type": "markdown",
   "metadata": {},
   "source": [
    "## Preprocess or \"featurize\" the training data"
   ]
  },
  {
   "cell_type": "markdown",
   "metadata": {},
   "source": [
    "Before we train our model we will first do some preprocessing to the raw data to create a \"feature vector\" to try and encode a more flexible and powerful representation for the model to work with as opposed to just looking at the most recently observed values in isolation. \n",
    "\n",
    "This is the \"featurization\" we mentioned at the begining of the notebook. The idea here is to give the model some extra information so that it may spot more complex and interesting anomalies as opposed to just spikes where one metric is a very high or very low value.   "
   ]
  },
  {
   "cell_type": "code",
   "execution_count": 7,
   "metadata": {},
   "outputs": [
    {
     "name": "stdout",
     "output_type": "stream",
     "text": [
      "(14387, 126)\n"
     ]
    },
    {
     "data": {
      "text/html": [
       "<div>\n",
       "<style scoped>\n",
       "    .dataframe tbody tr th:only-of-type {\n",
       "        vertical-align: middle;\n",
       "    }\n",
       "\n",
       "    .dataframe tbody tr th {\n",
       "        vertical-align: top;\n",
       "    }\n",
       "\n",
       "    .dataframe thead th {\n",
       "        text-align: right;\n",
       "    }\n",
       "</style>\n",
       "<table border=\"1\" class=\"dataframe\">\n",
       "  <thead>\n",
       "    <tr style=\"text-align: right;\">\n",
       "      <th></th>\n",
       "      <th>system.cpu|guest_lag0</th>\n",
       "      <th>system.cpu|guest_lag1</th>\n",
       "      <th>system.cpu|guest_lag2</th>\n",
       "      <th>system.cpu|guest_lag3</th>\n",
       "      <th>system.cpu|guest_lag4</th>\n",
       "      <th>system.cpu|guest_lag5</th>\n",
       "      <th>system.cpu|guest_nice_lag0</th>\n",
       "      <th>system.cpu|guest_nice_lag1</th>\n",
       "      <th>system.cpu|guest_nice_lag2</th>\n",
       "      <th>system.cpu|guest_nice_lag3</th>\n",
       "      <th>...</th>\n",
       "      <th>system.net|received_lag2</th>\n",
       "      <th>system.net|received_lag3</th>\n",
       "      <th>system.net|received_lag4</th>\n",
       "      <th>system.net|received_lag5</th>\n",
       "      <th>system.net|sent_lag0</th>\n",
       "      <th>system.net|sent_lag1</th>\n",
       "      <th>system.net|sent_lag2</th>\n",
       "      <th>system.net|sent_lag3</th>\n",
       "      <th>system.net|sent_lag4</th>\n",
       "      <th>system.net|sent_lag5</th>\n",
       "    </tr>\n",
       "    <tr>\n",
       "      <th>time_idx</th>\n",
       "      <th></th>\n",
       "      <th></th>\n",
       "      <th></th>\n",
       "      <th></th>\n",
       "      <th></th>\n",
       "      <th></th>\n",
       "      <th></th>\n",
       "      <th></th>\n",
       "      <th></th>\n",
       "      <th></th>\n",
       "      <th></th>\n",
       "      <th></th>\n",
       "      <th></th>\n",
       "      <th></th>\n",
       "      <th></th>\n",
       "      <th></th>\n",
       "      <th></th>\n",
       "      <th></th>\n",
       "      <th></th>\n",
       "      <th></th>\n",
       "      <th></th>\n",
       "    </tr>\n",
       "  </thead>\n",
       "  <tbody>\n",
       "    <tr>\n",
       "      <th>1604474588</th>\n",
       "      <td>0.0</td>\n",
       "      <td>0.0</td>\n",
       "      <td>0.0</td>\n",
       "      <td>0.0</td>\n",
       "      <td>0.0</td>\n",
       "      <td>0.0</td>\n",
       "      <td>0.0</td>\n",
       "      <td>0.0</td>\n",
       "      <td>0.0</td>\n",
       "      <td>0.0</td>\n",
       "      <td>...</td>\n",
       "      <td>-30.704399</td>\n",
       "      <td>-40.856167</td>\n",
       "      <td>6.443555</td>\n",
       "      <td>32.546180</td>\n",
       "      <td>32.694991</td>\n",
       "      <td>-12.822536</td>\n",
       "      <td>-24.871939</td>\n",
       "      <td>-14.788798</td>\n",
       "      <td>38.332296</td>\n",
       "      <td>7.027175</td>\n",
       "    </tr>\n",
       "    <tr>\n",
       "      <th>1604474589</th>\n",
       "      <td>0.0</td>\n",
       "      <td>0.0</td>\n",
       "      <td>0.0</td>\n",
       "      <td>0.0</td>\n",
       "      <td>0.0</td>\n",
       "      <td>0.0</td>\n",
       "      <td>0.0</td>\n",
       "      <td>0.0</td>\n",
       "      <td>0.0</td>\n",
       "      <td>0.0</td>\n",
       "      <td>...</td>\n",
       "      <td>40.196271</td>\n",
       "      <td>-30.704399</td>\n",
       "      <td>-40.856167</td>\n",
       "      <td>6.443555</td>\n",
       "      <td>-7.484048</td>\n",
       "      <td>32.694991</td>\n",
       "      <td>-12.822536</td>\n",
       "      <td>-24.871939</td>\n",
       "      <td>-14.788798</td>\n",
       "      <td>38.332296</td>\n",
       "    </tr>\n",
       "    <tr>\n",
       "      <th>1604474590</th>\n",
       "      <td>0.0</td>\n",
       "      <td>0.0</td>\n",
       "      <td>0.0</td>\n",
       "      <td>0.0</td>\n",
       "      <td>0.0</td>\n",
       "      <td>0.0</td>\n",
       "      <td>0.0</td>\n",
       "      <td>0.0</td>\n",
       "      <td>0.0</td>\n",
       "      <td>0.0</td>\n",
       "      <td>...</td>\n",
       "      <td>37.268468</td>\n",
       "      <td>40.196271</td>\n",
       "      <td>-30.704399</td>\n",
       "      <td>-40.856167</td>\n",
       "      <td>-12.974803</td>\n",
       "      <td>-7.484048</td>\n",
       "      <td>32.694991</td>\n",
       "      <td>-12.822536</td>\n",
       "      <td>-24.871939</td>\n",
       "      <td>-14.788798</td>\n",
       "    </tr>\n",
       "    <tr>\n",
       "      <th>1604474591</th>\n",
       "      <td>0.0</td>\n",
       "      <td>0.0</td>\n",
       "      <td>0.0</td>\n",
       "      <td>0.0</td>\n",
       "      <td>0.0</td>\n",
       "      <td>0.0</td>\n",
       "      <td>0.0</td>\n",
       "      <td>0.0</td>\n",
       "      <td>0.0</td>\n",
       "      <td>0.0</td>\n",
       "      <td>...</td>\n",
       "      <td>2.695841</td>\n",
       "      <td>37.268468</td>\n",
       "      <td>40.196271</td>\n",
       "      <td>-30.704399</td>\n",
       "      <td>-20.702449</td>\n",
       "      <td>-12.974803</td>\n",
       "      <td>-7.484048</td>\n",
       "      <td>32.694991</td>\n",
       "      <td>-12.822536</td>\n",
       "      <td>-24.871939</td>\n",
       "    </tr>\n",
       "    <tr>\n",
       "      <th>1604474592</th>\n",
       "      <td>0.0</td>\n",
       "      <td>0.0</td>\n",
       "      <td>0.0</td>\n",
       "      <td>0.0</td>\n",
       "      <td>0.0</td>\n",
       "      <td>0.0</td>\n",
       "      <td>0.0</td>\n",
       "      <td>0.0</td>\n",
       "      <td>0.0</td>\n",
       "      <td>0.0</td>\n",
       "      <td>...</td>\n",
       "      <td>-51.627127</td>\n",
       "      <td>2.695841</td>\n",
       "      <td>37.268468</td>\n",
       "      <td>40.196271</td>\n",
       "      <td>15.614039</td>\n",
       "      <td>-20.702449</td>\n",
       "      <td>-12.974803</td>\n",
       "      <td>-7.484048</td>\n",
       "      <td>32.694991</td>\n",
       "      <td>-12.822536</td>\n",
       "    </tr>\n",
       "  </tbody>\n",
       "</table>\n",
       "<p>5 rows × 126 columns</p>\n",
       "</div>"
      ],
      "text/plain": [
       "            system.cpu|guest_lag0  system.cpu|guest_lag1  \\\n",
       "time_idx                                                   \n",
       "1604474588                    0.0                    0.0   \n",
       "1604474589                    0.0                    0.0   \n",
       "1604474590                    0.0                    0.0   \n",
       "1604474591                    0.0                    0.0   \n",
       "1604474592                    0.0                    0.0   \n",
       "\n",
       "            system.cpu|guest_lag2  system.cpu|guest_lag3  \\\n",
       "time_idx                                                   \n",
       "1604474588                    0.0                    0.0   \n",
       "1604474589                    0.0                    0.0   \n",
       "1604474590                    0.0                    0.0   \n",
       "1604474591                    0.0                    0.0   \n",
       "1604474592                    0.0                    0.0   \n",
       "\n",
       "            system.cpu|guest_lag4  system.cpu|guest_lag5  \\\n",
       "time_idx                                                   \n",
       "1604474588                    0.0                    0.0   \n",
       "1604474589                    0.0                    0.0   \n",
       "1604474590                    0.0                    0.0   \n",
       "1604474591                    0.0                    0.0   \n",
       "1604474592                    0.0                    0.0   \n",
       "\n",
       "            system.cpu|guest_nice_lag0  system.cpu|guest_nice_lag1  \\\n",
       "time_idx                                                             \n",
       "1604474588                         0.0                         0.0   \n",
       "1604474589                         0.0                         0.0   \n",
       "1604474590                         0.0                         0.0   \n",
       "1604474591                         0.0                         0.0   \n",
       "1604474592                         0.0                         0.0   \n",
       "\n",
       "            system.cpu|guest_nice_lag2  system.cpu|guest_nice_lag3  ...  \\\n",
       "time_idx                                                            ...   \n",
       "1604474588                         0.0                         0.0  ...   \n",
       "1604474589                         0.0                         0.0  ...   \n",
       "1604474590                         0.0                         0.0  ...   \n",
       "1604474591                         0.0                         0.0  ...   \n",
       "1604474592                         0.0                         0.0  ...   \n",
       "\n",
       "            system.net|received_lag2  system.net|received_lag3  \\\n",
       "time_idx                                                         \n",
       "1604474588                -30.704399                -40.856167   \n",
       "1604474589                 40.196271                -30.704399   \n",
       "1604474590                 37.268468                 40.196271   \n",
       "1604474591                  2.695841                 37.268468   \n",
       "1604474592                -51.627127                  2.695841   \n",
       "\n",
       "            system.net|received_lag4  system.net|received_lag5  \\\n",
       "time_idx                                                         \n",
       "1604474588                  6.443555                 32.546180   \n",
       "1604474589                -40.856167                  6.443555   \n",
       "1604474590                -30.704399                -40.856167   \n",
       "1604474591                 40.196271                -30.704399   \n",
       "1604474592                 37.268468                 40.196271   \n",
       "\n",
       "            system.net|sent_lag0  system.net|sent_lag1  system.net|sent_lag2  \\\n",
       "time_idx                                                                       \n",
       "1604474588             32.694991            -12.822536            -24.871939   \n",
       "1604474589             -7.484048             32.694991            -12.822536   \n",
       "1604474590            -12.974803             -7.484048             32.694991   \n",
       "1604474591            -20.702449            -12.974803             -7.484048   \n",
       "1604474592             15.614039            -20.702449            -12.974803   \n",
       "\n",
       "            system.net|sent_lag3  system.net|sent_lag4  system.net|sent_lag5  \n",
       "time_idx                                                                      \n",
       "1604474588            -14.788798             38.332296              7.027175  \n",
       "1604474589            -24.871939            -14.788798             38.332296  \n",
       "1604474590            -12.822536            -24.871939            -14.788798  \n",
       "1604474591             32.694991            -12.822536            -24.871939  \n",
       "1604474592             -7.484048             32.694991            -12.822536  \n",
       "\n",
       "[5 rows x 126 columns]"
      ]
     },
     "execution_count": 7,
     "metadata": {},
     "output_type": "execute_result"
    }
   ],
   "source": [
    "# lets preprocess or \"featurize\" our raw data\n",
    "df_train_processed = make_features(df_train, lags_n, diffs_n, smooth_n)\n",
    "\n",
    "# print out the shape of our featurized data\n",
    "print(df_train_processed.shape)\n",
    "df_train_processed.head()"
   ]
  },
  {
   "cell_type": "markdown",
   "metadata": {},
   "source": [
    "The below few cells will explore a little what we have just done to try and make the ideas of preprocessing aka \"featurization\" aka \"feature vector\" a little clearer.\n",
    "\n",
    "Terms like \"featurization\" and \"feature vector\" are often used to sound fancy, but in reality its typically just as simple as adding additional columns to each row of your data where those new columns have numbers in them that represent something about your data that you want to make available to the model. \n",
    "\n",
    "So in our case adding lagged values of each smoothed and differenced dimension, is basically a design choice we make whereby we are telling the model we want it to consider `lags_n` recent values as opposed to just the latest observed dimensions. We do this because there are many [different types of anomalies](https://andrewm4894.com/2020/10/19/different-types-of-time-series-anomalies/) we want to try and be able to spot, so making a small snippet of recent data for each dimension available to the model gives us the ability to capture more complex anomaly patterns that might occur.\n",
    "\n",
    "If we were to just train the model on the most recent values for each dimension the best we could reasonably hope for it to capture would be anomalies where one or more dimension takes an unusually high or low value for one time step. This is essentially not that much better then a traditional approach using [z-scores](https://towardsdatascience.com/z-score-for-anomaly-detection-d98b0006f510). (If you are interested in comparing the two we actually also have a [zscores collector](https://github.com/andrewm4894/netdata/tree/zscores-collector/collectors/python.d.plugin/zscores) too, if, for example, you would like to just start simple or cannot install the ML Python libraries the anomalies collector depends on). "
   ]
  },
  {
   "cell_type": "code",
   "execution_count": 8,
   "metadata": {},
   "outputs": [
    {
     "name": "stdout",
     "output_type": "stream",
     "text": [
      "df_train shape is (14399, 21)\n",
      "df_train_processed is (14387, 126)\n",
      "make_features has added 105 new columns, one for each lags_n (21*5=105)\n"
     ]
    }
   ],
   "source": [
    "# Lets look at how the shape of our data has changed due to preprocessing\n",
    "print(f'df_train shape is {df_train.shape}')\n",
    "print(f'df_train_processed is {df_train_processed.shape}')\n",
    "n_cols_added = len(df_train_processed.columns)-len(df_train.columns)\n",
    "print(f'make_features has added {n_cols_added} new columns, one for each lags_n ({df_train.shape[1]}*{lags_n}={n_cols_added})')"
   ]
  },
  {
   "cell_type": "markdown",
   "metadata": {},
   "source": [
    "So as you can see from the above output, our featurization has added a new column for each `lags_n` specified. And we have also lost a few rows due to `smooth_n` and `diffs_n`"
   ]
  },
  {
   "cell_type": "markdown",
   "metadata": {},
   "source": [
    "To be super clear lets look at the first few rows of training data for a specific metric before and after preprocessing. \n",
    "\n",
    "**Note**: Look at the last `time_idx` to see how the featurization works for a specific timestamp of data."
   ]
  },
  {
   "cell_type": "code",
   "execution_count": 9,
   "metadata": {},
   "outputs": [
    {
     "name": "stdout",
     "output_type": "stream",
     "text": [
      "raw data\n"
     ]
    },
    {
     "data": {
      "text/html": [
       "<div>\n",
       "<style scoped>\n",
       "    .dataframe tbody tr th:only-of-type {\n",
       "        vertical-align: middle;\n",
       "    }\n",
       "\n",
       "    .dataframe tbody tr th {\n",
       "        vertical-align: top;\n",
       "    }\n",
       "\n",
       "    .dataframe thead th {\n",
       "        text-align: right;\n",
       "    }\n",
       "</style>\n",
       "<table border=\"1\" class=\"dataframe\">\n",
       "  <thead>\n",
       "    <tr style=\"text-align: right;\">\n",
       "      <th></th>\n",
       "      <th>system.cpu|user</th>\n",
       "    </tr>\n",
       "    <tr>\n",
       "      <th>time_idx</th>\n",
       "      <th></th>\n",
       "    </tr>\n",
       "  </thead>\n",
       "  <tbody>\n",
       "    <tr>\n",
       "      <th>1604474576</th>\n",
       "      <td>0.500000</td>\n",
       "    </tr>\n",
       "    <tr>\n",
       "      <th>1604474577</th>\n",
       "      <td>0.505050</td>\n",
       "    </tr>\n",
       "    <tr>\n",
       "      <th>1604474578</th>\n",
       "      <td>1.005025</td>\n",
       "    </tr>\n",
       "    <tr>\n",
       "      <th>1604474579</th>\n",
       "      <td>0.502513</td>\n",
       "    </tr>\n",
       "    <tr>\n",
       "      <th>1604474580</th>\n",
       "      <td>0.251889</td>\n",
       "    </tr>\n",
       "    <tr>\n",
       "      <th>1604474581</th>\n",
       "      <td>0.251256</td>\n",
       "    </tr>\n",
       "    <tr>\n",
       "      <th>1604474582</th>\n",
       "      <td>0.755668</td>\n",
       "    </tr>\n",
       "    <tr>\n",
       "      <th>1604474583</th>\n",
       "      <td>1.005025</td>\n",
       "    </tr>\n",
       "    <tr>\n",
       "      <th>1604474584</th>\n",
       "      <td>0.503778</td>\n",
       "    </tr>\n",
       "    <tr>\n",
       "      <th>1604474585</th>\n",
       "      <td>0.501253</td>\n",
       "    </tr>\n",
       "    <tr>\n",
       "      <th>1604474586</th>\n",
       "      <td>0.500000</td>\n",
       "    </tr>\n",
       "    <tr>\n",
       "      <th>1604474587</th>\n",
       "      <td>0.753769</td>\n",
       "    </tr>\n",
       "  </tbody>\n",
       "</table>\n",
       "</div>"
      ],
      "text/plain": [
       "            system.cpu|user\n",
       "time_idx                   \n",
       "1604474576         0.500000\n",
       "1604474577         0.505050\n",
       "1604474578         1.005025\n",
       "1604474579         0.502513\n",
       "1604474580         0.251889\n",
       "1604474581         0.251256\n",
       "1604474582         0.755668\n",
       "1604474583         1.005025\n",
       "1604474584         0.503778\n",
       "1604474585         0.501253\n",
       "1604474586         0.500000\n",
       "1604474587         0.753769"
      ]
     },
     "metadata": {},
     "output_type": "display_data"
    }
   ],
   "source": [
    "metric = 'system.cpu|user'\n",
    "print('raw data')\n",
    "display(df_train[df_train.columns[df_train.columns.str.startswith(metric)]].head(3 + lags_n + smooth_n + diffs_n))"
   ]
  },
  {
   "cell_type": "code",
   "execution_count": 10,
   "metadata": {},
   "outputs": [
    {
     "name": "stdout",
     "output_type": "stream",
     "text": [
      "featurized data\n"
     ]
    },
    {
     "data": {
      "text/html": [
       "<div>\n",
       "<style scoped>\n",
       "    .dataframe tbody tr th:only-of-type {\n",
       "        vertical-align: middle;\n",
       "    }\n",
       "\n",
       "    .dataframe tbody tr th {\n",
       "        vertical-align: top;\n",
       "    }\n",
       "\n",
       "    .dataframe thead th {\n",
       "        text-align: right;\n",
       "    }\n",
       "</style>\n",
       "<table border=\"1\" class=\"dataframe\">\n",
       "  <thead>\n",
       "    <tr style=\"text-align: right;\">\n",
       "      <th></th>\n",
       "      <th>system.cpu|user_lag0</th>\n",
       "      <th>system.cpu|user_lag1</th>\n",
       "      <th>system.cpu|user_lag2</th>\n",
       "      <th>system.cpu|user_lag3</th>\n",
       "      <th>system.cpu|user_lag4</th>\n",
       "      <th>system.cpu|user_lag5</th>\n",
       "    </tr>\n",
       "    <tr>\n",
       "      <th>time_idx</th>\n",
       "      <th></th>\n",
       "      <th></th>\n",
       "      <th></th>\n",
       "      <th></th>\n",
       "      <th></th>\n",
       "      <th></th>\n",
       "    </tr>\n",
       "  </thead>\n",
       "  <tbody>\n",
       "    <tr>\n",
       "      <th>1604474588</th>\n",
       "      <td>0.084805</td>\n",
       "      <td>0.08333</td>\n",
       "      <td>-0.168342</td>\n",
       "      <td>-0.084805</td>\n",
       "      <td>0.084174</td>\n",
       "      <td>0.251045</td>\n",
       "    </tr>\n",
       "  </tbody>\n",
       "</table>\n",
       "</div>"
      ],
      "text/plain": [
       "            system.cpu|user_lag0  system.cpu|user_lag1  system.cpu|user_lag2  \\\n",
       "time_idx                                                                       \n",
       "1604474588              0.084805               0.08333             -0.168342   \n",
       "\n",
       "            system.cpu|user_lag3  system.cpu|user_lag4  system.cpu|user_lag5  \n",
       "time_idx                                                                      \n",
       "1604474588             -0.084805              0.084174              0.251045  "
      ]
     },
     "metadata": {},
     "output_type": "display_data"
    }
   ],
   "source": [
    "print('featurized data')\n",
    "display(df_train_processed[df_train_processed.columns[df_train_processed.columns.str.startswith(metric)]].head(1))"
   ]
  },
  {
   "cell_type": "code",
   "execution_count": 11,
   "metadata": {},
   "outputs": [
    {
     "name": "stdout",
     "output_type": "stream",
     "text": [
      "manualy calculated\n"
     ]
    },
    {
     "data": {
      "text/html": [
       "<div>\n",
       "<style scoped>\n",
       "    .dataframe tbody tr th:only-of-type {\n",
       "        vertical-align: middle;\n",
       "    }\n",
       "\n",
       "    .dataframe tbody tr th {\n",
       "        vertical-align: top;\n",
       "    }\n",
       "\n",
       "    .dataframe thead th {\n",
       "        text-align: right;\n",
       "    }\n",
       "</style>\n",
       "<table border=\"1\" class=\"dataframe\">\n",
       "  <thead>\n",
       "    <tr style=\"text-align: right;\">\n",
       "      <th></th>\n",
       "      <th>system.cpu|user</th>\n",
       "      <th>diff</th>\n",
       "      <th>smoothed</th>\n",
       "    </tr>\n",
       "    <tr>\n",
       "      <th>time_idx</th>\n",
       "      <th></th>\n",
       "      <th></th>\n",
       "      <th></th>\n",
       "    </tr>\n",
       "  </thead>\n",
       "  <tbody>\n",
       "    <tr>\n",
       "      <th>1604474583</th>\n",
       "      <td>1.005025</td>\n",
       "      <td>0.249358</td>\n",
       "      <td>0.251045</td>\n",
       "    </tr>\n",
       "    <tr>\n",
       "      <th>1604474584</th>\n",
       "      <td>0.503778</td>\n",
       "      <td>-0.501247</td>\n",
       "      <td>0.084174</td>\n",
       "    </tr>\n",
       "    <tr>\n",
       "      <th>1604474585</th>\n",
       "      <td>0.501253</td>\n",
       "      <td>-0.002525</td>\n",
       "      <td>-0.084805</td>\n",
       "    </tr>\n",
       "    <tr>\n",
       "      <th>1604474586</th>\n",
       "      <td>0.500000</td>\n",
       "      <td>-0.001253</td>\n",
       "      <td>-0.168342</td>\n",
       "    </tr>\n",
       "    <tr>\n",
       "      <th>1604474587</th>\n",
       "      <td>0.753769</td>\n",
       "      <td>0.253769</td>\n",
       "      <td>0.083330</td>\n",
       "    </tr>\n",
       "  </tbody>\n",
       "</table>\n",
       "</div>"
      ],
      "text/plain": [
       "            system.cpu|user      diff  smoothed\n",
       "time_idx                                       \n",
       "1604474583         1.005025  0.249358  0.251045\n",
       "1604474584         0.503778 -0.501247  0.084174\n",
       "1604474585         0.501253 -0.002525 -0.084805\n",
       "1604474586         0.500000 -0.001253 -0.168342\n",
       "1604474587         0.753769  0.253769  0.083330"
      ]
     },
     "metadata": {},
     "output_type": "display_data"
    }
   ],
   "source": [
    "print('manualy calculated')\n",
    "df_manual_example = df_train[df_train.columns[df_train.columns.str.startswith(metric)]].copy()\n",
    "# take diff\n",
    "df_manual_example['diff'] = df_manual_example[metric].diff(diffs_n)\n",
    "# apply smoothing\n",
    "df_manual_example['smoothed'] = df_manual_example['diff'].rolling(smooth_n).mean()\n",
    "display(df_manual_example.head(3 + lags_n + smooth_n + diffs_n).tail(1 + smooth_n + diffs_n))"
   ]
  },
  {
   "cell_type": "markdown",
   "metadata": {},
   "source": [
    "Above you can see how one raw metric value is now being preprocessed to be a vector of `lags_n` differenced and smoothed values. It is this matrix of smoothed differences that the model will use for both training and when making predictions. "
   ]
  },
  {
   "cell_type": "markdown",
   "metadata": {},
   "source": [
    "So, for example, if a chart has 2 dimensions and we have set `lags_n` to be 5 then our featurized 'matrix' of numbers will be a 2*(1+5) matrix. In reality this matrix is just flattened into a feature vector of 2 * (1+5) = 12 floating point values. The cell below shows this for the `system.net` chart as that is an example with 2 dimensions. "
   ]
  },
  {
   "cell_type": "code",
   "execution_count": 39,
   "metadata": {},
   "outputs": [
    {
     "name": "stdout",
     "output_type": "stream",
     "text": [
      "(1, 12)\n",
      "[[ 37.26846759  40.19627126 -30.70439911 -40.85616748   6.4435552\n",
      "   32.54618009  32.69499079 -12.82253647 -24.87193934 -14.78879801\n",
      "   38.33229574   7.02717463]]\n"
     ]
    }
   ],
   "source": [
    "# lets look at our first feature vector for the 'system.net' model \n",
    "chart = 'system.net'\n",
    "print(df_train_processed[df_train_processed.columns[df_train_processed.columns.str.startswith(chart)]].head(1).shape)\n",
    "print(df_train_processed[df_train_processed.columns[df_train_processed.columns.str.startswith(chart)]].head(1).values)"
   ]
  },
  {
   "cell_type": "markdown",
   "metadata": {},
   "source": [
    "## Train models"
   ]
  },
  {
   "cell_type": "markdown",
   "metadata": {},
   "source": [
    "Now that we have our preprocessed training data we will train a model for each chart using our featurized data that represents each time step for each chart as a differenced, smoothed, and lagged matrix for each chart."
   ]
  },
  {
   "cell_type": "code",
   "execution_count": 13,
   "metadata": {},
   "outputs": [
    {
     "name": "stdout",
     "output_type": "stream",
     "text": [
      "train model for system.cpu using X_train of (14387, 54)\n",
      "train model for system.load using X_train of (14387, 18)\n",
      "train model for system.net using X_train of (14387, 12)\n",
      "train model for system.io using X_train of (14387, 12)\n",
      "train model for system.ip using X_train of (14387, 12)\n",
      "train model for system.idlejitter using X_train of (14387, 18)\n"
     ]
    }
   ],
   "source": [
    "# loop over each chart in scope and train a model for each\n",
    "for chart in charts_in_scope:\n",
    "    # pull out the columns relating to the chart based on what thier name startswith and put it into a numpy array of values\n",
    "    X_train = df_train_processed[df_train_processed.columns[df_train_processed.columns.str.startswith(chart)]].values\n",
    "    print(f'train model for {chart} using X_train of {X_train.shape}')\n",
    "    # call the fit() method on each initialized model and pass it the full numpy array of our featurized training data\n",
    "    models[chart] = models[chart].fit(X_train)"
   ]
  },
  {
   "cell_type": "markdown",
   "metadata": {},
   "source": [
    "So we have now trained our models, one for each chart based on our preprocessed training data. To be concrete we will look at some example obvervations our model has been trained on. "
   ]
  },
  {
   "cell_type": "code",
   "execution_count": 14,
   "metadata": {},
   "outputs": [
    {
     "name": "stdout",
     "output_type": "stream",
     "text": [
      "timestamp=1604474588\n",
      "feature vector for 0th training observation for system.cpu model:\n",
      "[ 0.          0.          0.          0.          0.          0.\n",
      "  0.          0.          0.          0.          0.          0.\n",
      "  0.          0.          0.          0.          0.          0.\n",
      "  0.          0.          0.          0.          0.          0.\n",
      "  0.          0.          0.          0.          0.          0.\n",
      " -0.0835422   0.0837521   0.          0.0835422   0.          0.\n",
      "  0.          0.          0.          0.          0.          0.\n",
      "  0.08480479  0.16708229  0.16582914 -0.00084172 -0.08333017 -0.0004219\n",
      "  0.08480479  0.08333017 -0.16834172 -0.08480479  0.084174    0.25104532]\n"
     ]
    }
   ],
   "source": [
    "# lets look at the first matrix or \"feature vector\" for our first model\n",
    "obs_n = 0\n",
    "model_n = 0\n",
    "print(f'timestamp={df_train_processed[df_train_processed.columns[df_train_processed.columns.str.startswith(charts_in_scope[model_n])]].index[obs_n]}')\n",
    "print(f'feature vector for {obs_n}th training observation for {charts_in_scope[model_n]} model:')\n",
    "print(df_train_processed[df_train_processed.columns[df_train_processed.columns.str.startswith(charts_in_scope[model_n])]].values[obs_n]) "
   ]
  },
  {
   "cell_type": "code",
   "execution_count": 15,
   "metadata": {},
   "outputs": [
    {
     "name": "stdout",
     "output_type": "stream",
     "text": [
      "timestamp=1604474589\n",
      "feature vector for 1th training observation for system.cpu model:\n",
      "[ 0.          0.          0.          0.          0.          0.\n",
      "  0.          0.          0.          0.          0.          0.\n",
      "  0.          0.          0.          0.          0.          0.\n",
      "  0.          0.          0.          0.          0.          0.\n",
      "  0.          0.          0.          0.          0.          0.\n",
      "  0.         -0.0835422   0.0837521   0.          0.0835422   0.\n",
      "  0.          0.          0.          0.          0.          0.\n",
      " -0.08144416  0.08480479  0.16708229  0.16582914 -0.00084172 -0.08333017\n",
      " -0.08270361  0.08480479  0.08333017 -0.16834172 -0.08480479  0.084174  ]\n"
     ]
    }
   ],
   "source": [
    "# and the next one\n",
    "obs_n = 1\n",
    "model_n = 0\n",
    "print(f'timestamp={df_train_processed[df_train_processed.columns[df_train_processed.columns.str.startswith(charts_in_scope[model_n])]].index[obs_n]}')\n",
    "print(f'feature vector for {obs_n}th training observation for {charts_in_scope[model_n]} model:')\n",
    "print(df_train_processed[df_train_processed.columns[df_train_processed.columns.str.startswith(charts_in_scope[model_n])]].values[obs_n]) "
   ]
  },
  {
   "cell_type": "markdown",
   "metadata": {},
   "source": [
    "If you look close enough at the above two cells you will see the same values be shifted for each lag."
   ]
  },
  {
   "cell_type": "markdown",
   "metadata": {},
   "source": [
    "Each matrix of numbers above _is_ the representation we give to our model of each time step. This is how the model views each chart - a matrix (\"feature vector\" to sound fancy) of floating point numbers encoding some differenced and smoothed information about the last `lags_n` observations for each dimension in the specific chart we are modeling. "
   ]
  },
  {
   "cell_type": "markdown",
   "metadata": {},
   "source": [
    "**Note**: Within the anomalies collector, at some regular interval, as defined by `train_every_n` in the `anomalies.conf` file, we will repeat the above training step to retrain all models on the most recent window of available training data. "
   ]
  },
  {
   "cell_type": "markdown",
   "metadata": {},
   "source": [
    "#### Vistualize Training Data & Training Anomaly Scores"
   ]
  },
  {
   "cell_type": "markdown",
   "metadata": {},
   "source": [
    "Now that we have covered what our feature vectors look like and trained our model. Lets see if we can visualize things a little to help our intuition of whats going on. \n",
    "\n",
    "To do this we will use our trained model to get back an anomaly score for each of our training observations. \n",
    "\n",
    "Then we will visualize a random sample of training data alongside the most highly scored training data (i.e most 'anomalous') and we should expect to see stark differences. "
   ]
  },
  {
   "cell_type": "code",
   "execution_count": 40,
   "metadata": {},
   "outputs": [
    {
     "name": "stdout",
     "output_type": "stream",
     "text": [
      "(14387, 54)\n",
      "(14387,)\n",
      "(40, 54)\n",
      "(20, 54)\n",
      "(60, 54)\n"
     ]
    }
   ],
   "source": [
    "# lets pick a chart/model to look at\n",
    "chart = 'system.cpu'\n",
    "\n",
    "# pick a number of random samples to look at\n",
    "n_sample_random = 40\n",
    "# look also at the top n most anomalously scored training data\n",
    "n_high_score = 20\n",
    "\n",
    "# get all the training data for that model\n",
    "X_train = df_train_processed[df_train_processed.columns[df_train_processed.columns.str.startswith(chart)]].values\n",
    "X_train_timestamps = df_train_processed[df_train_processed.columns[df_train_processed.columns.str.startswith(chart)]].index.values\n",
    "n_features = X_train.shape[1]\n",
    "\n",
    "# score all our training data using the decision_function() method of the trained model - this will give use the raw internal anomaly score of the trained model\n",
    "X_train_scores = models[chart].decision_function(X_train)\n",
    "\n",
    "# determine some useful indices we can use to pull out the data we want\n",
    "idx_random = np.random.randint(n_sample_random, size=n_sample_random)\n",
    "idx_high = np.argpartition(X_train_scores, -n_high_score)[-n_high_score:]\n",
    "idx = idx_random.tolist() + idx_high.tolist()\n",
    "\n",
    "print(X_train.shape)\n",
    "print(X_train_scores.shape)\n",
    "\n",
    "X_train_random = X_train[idx_random,:]\n",
    "print(X_train_random.shape)\n",
    "\n",
    "X_train_high = X_train[idx_high,:]\n",
    "print(X_train_high.shape)\n",
    "\n",
    "X_train_examples = X_train[idx,:]\n",
    "print(X_train_examples.shape)"
   ]
  },
  {
   "cell_type": "markdown",
   "metadata": {},
   "source": [
    "First we will just plot the random sample of our feature vectors as a line for each observation. \n",
    "\n",
    "**Note**: The x-axis here does not really mean much, it will just be the most recent and last lags_n values for each dimension on the chart. So this line plot if just a way to visualize the raw data for comparing observations. "
   ]
  },
  {
   "cell_type": "code",
   "execution_count": 41,
   "metadata": {},
   "outputs": [
    {
     "data": {
      "image/png": "[encoded data removed]",
      "text/plain": [
       "<Figure size 1080x720 with 1 Axes>"
      ]
     },
     "metadata": {
      "needs_background": "light"
     },
     "output_type": "display_data"
    }
   ],
   "source": [
    "x_axis = np.array([n for n in range(0, n_features)])\n",
    "plt.figure(figsize=(15,10))\n",
    "p1 = plt.plot(x_axis, X_train_random.T)\n",
    "plt.xlim(0, n_features)\n",
    "plt.title(f'Random sample of {n_sample_random} training data feature vectors.')\n",
    "plt.show()"
   ]
  },
  {
   "cell_type": "markdown",
   "metadata": {},
   "source": [
    "Now lets plot the same plot as above, _**but**_ also include the feature vectors of the training observations that had this highest anomaly scores. "
   ]
  },
  {
   "cell_type": "code",
   "execution_count": 42,
   "metadata": {},
   "outputs": [
    {
     "data": {
      "image/png": "[encoded data removed]",
      "text/plain": [
       "<Figure size 1080x720 with 1 Axes>"
      ]
     },
     "metadata": {
      "needs_background": "light"
     },
     "output_type": "display_data"
    }
   ],
   "source": [
    "plt.figure(figsize=(15,10))\n",
    "p1 = plt.plot(x_axis, X_train_examples.T)\n",
    "plt.xlim(0, n_features)\n",
    "plt.title(f'Random sample of {n_sample_random} training data feature vectors & top {n_high_score} highest scored feature vectors in training data')\n",
    "plt.show()"
   ]
  },
  {
   "cell_type": "markdown",
   "metadata": {},
   "source": [
    "Now in the above plot we can see that the highest scored feature vectors or 'line' that we added in seem to stand out and look much 'different' to how the plot did before.\n",
    "\n",
    "**Note**: Don't forget to look at how the y-axis is also very different between the two plots."
   ]
  },
  {
   "cell_type": "markdown",
   "metadata": {},
   "source": [
    "Another way to show this is via a heatmap of our random training data stacked alongside our highly anomalous training data. SO the data above the line in the plot below is our random sample of observations while that below is our highly scored training data. \n",
    "\n",
    "You should be able to see a clear difference, even if its not very interpretable to us what the differences in numbers actually represents visually in terms of how it might look in the normal Netdata dashboard - we left that world behind a couple of cells back and are now looking at things in terms of how the model see's our data."
   ]
  },
  {
   "cell_type": "code",
   "execution_count": 43,
   "metadata": {},
   "outputs": [
    {
     "data": {
      "image/png": "[encoded data removed]",
      "text/plain": [
       "<Figure size 720x1152 with 1 Axes>"
      ]
     },
     "metadata": {
      "needs_background": "light"
     },
     "output_type": "display_data"
    }
   ],
   "source": [
    "fig, ax = plt.subplots(figsize=(10, 16))\n",
    "ax.imshow(X_train_examples, interpolation='nearest', cmap='Reds')\n",
    "plt.title(f'Feature heatmap of random sample of {n_sample_random} random training observations & {n_high_score} most anomalous training observations')\n",
    "plt.plot([n_sample_random for n in range(1,n_features+1)])\n",
    "plt.show()"
   ]
  },
  {
   "cell_type": "markdown",
   "metadata": {},
   "source": [
    "Lets pick the top few anomalies from the training data and highlight them in the Netdata dashboard to see how things look in the normal dashboard view."
   ]
  },
  {
   "cell_type": "code",
   "execution_count": 44,
   "metadata": {},
   "outputs": [
    {
     "name": "stdout",
     "output_type": "stream",
     "text": [
      "(0) http://london.my-netdata.io/#menu_system_submenu_cpu;after=1604480183000;before=1604480503000;highlight_after=1604480473000;highlight_before=1604480493000\n",
      "(1) http://london.my-netdata.io/#menu_system_submenu_cpu;after=1604480181000;before=1604480501000;highlight_after=1604480471000;highlight_before=1604480491000\n",
      "(2) http://london.my-netdata.io/#menu_system_submenu_cpu;after=1604480180000;before=1604480500000;highlight_after=1604480470000;highlight_before=1604480490000\n",
      "(3) http://london.my-netdata.io/#menu_system_submenu_cpu;after=1604480182000;before=1604480502000;highlight_after=1604480472000;highlight_before=1604480492000\n",
      "(4) http://london.my-netdata.io/#menu_system_submenu_cpu;after=1604479154000;before=1604479474000;highlight_after=1604479444000;highlight_before=1604479464000\n"
     ]
    }
   ],
   "source": [
    "for n in range(5):\n",
    "    if chart == 'system.net':\n",
    "        submenu = '#menu_system_submenu_network'\n",
    "    elif chart == 'system.ip':\n",
    "        submenu = '#menu_system_submenu_network'\n",
    "    elif chart == 'system.cpu':\n",
    "        submenu = '#menu_system_submenu_cpu'\n",
    "    elif chart == 'system.load':\n",
    "        submenu = '#menu_system_submenu_load'\n",
    "    elif chart == 'system.io':\n",
    "        submenu = '#menu_system_submenu_disk'\n",
    "    elif chart == 'system.idlejitter':\n",
    "        submenu = '#menu_system_submenu_idlejitter'\n",
    "    after = (X_train_timestamps[idx_high][n]*1000)-(60000*5)\n",
    "    before = (X_train_timestamps[idx_high][n]*1000)+(10000*2)\n",
    "    highlight_after = (X_train_timestamps[idx_high][n]*1000)-10000\n",
    "    highlight_before = (X_train_timestamps[idx_high][n]*1000)+10000\n",
    "    print(f'({n}) http://{host}/{submenu};after={after};before={before};highlight_after={highlight_after};highlight_before={highlight_before}')"
   ]
  },
  {
   "cell_type": "markdown",
   "metadata": {},
   "source": [
    "## Get pediction data"
   ]
  },
  {
   "cell_type": "markdown",
   "metadata": {},
   "source": [
    "Now that we have our trained models for each chart we can use them in looking at incoming observations and 'ask' the trained models how 'unusual' it thinks they are. "
   ]
  },
  {
   "cell_type": "code",
   "execution_count": 21,
   "metadata": {},
   "outputs": [
    {
     "name": "stdout",
     "output_type": "stream",
     "text": [
      "we now have 10 recent preprocessed feature vectors to predict on.\n"
     ]
    }
   ],
   "source": [
    "# define an empty dataframe we can store enough recent data into to generate our feature vector's for recent data on\n",
    "df_recent = pd.DataFrame()\n",
    "\n",
    "# simulate n_prediction_steps of getting latest data, making feature vecotr and getting predicitons\n",
    "for prediction_step in range(n_prediction_steps):\n",
    "    time.sleep(1) # sleep for a second to ensure getting a new timestamp from the host\n",
    "    df_latest = get_allmetrics(host=host, charts=charts_in_scope, wide=True)[df_train.columns]\n",
    "    df_latest['time_idx'] = int(time.time())\n",
    "    df_latest = df_latest.set_index('time_idx')\n",
    "    # just keep enough recent data to generate each feature vector\n",
    "    df_recent = df_recent.append(df_latest).tail((lags_n + smooth_n + diffs_n) * 2)\n",
    "    \n",
    "    # now lets featurize our recent data to be able to get predictions from the model for each observation\n",
    "    df_predict_processed = make_features(df_recent, lags_n, diffs_n, smooth_n)\n",
    "\n",
    "print(f'we now have {df_predict_processed.shape[0]} recent preprocessed feature vectors to predict on.')"
   ]
  },
  {
   "cell_type": "code",
   "execution_count": 22,
   "metadata": {},
   "outputs": [
    {
     "name": "stdout",
     "output_type": "stream",
     "text": [
      "(10, 126)\n"
     ]
    },
    {
     "data": {
      "text/html": [
       "<div>\n",
       "<style scoped>\n",
       "    .dataframe tbody tr th:only-of-type {\n",
       "        vertical-align: middle;\n",
       "    }\n",
       "\n",
       "    .dataframe tbody tr th {\n",
       "        vertical-align: top;\n",
       "    }\n",
       "\n",
       "    .dataframe thead th {\n",
       "        text-align: right;\n",
       "    }\n",
       "</style>\n",
       "<table border=\"1\" class=\"dataframe\">\n",
       "  <thead>\n",
       "    <tr style=\"text-align: right;\">\n",
       "      <th></th>\n",
       "      <th>system.cpu|guest_lag0</th>\n",
       "      <th>system.cpu|guest_lag1</th>\n",
       "      <th>system.cpu|guest_lag2</th>\n",
       "      <th>system.cpu|guest_lag3</th>\n",
       "      <th>system.cpu|guest_lag4</th>\n",
       "      <th>system.cpu|guest_lag5</th>\n",
       "      <th>system.cpu|guest_nice_lag0</th>\n",
       "      <th>system.cpu|guest_nice_lag1</th>\n",
       "      <th>system.cpu|guest_nice_lag2</th>\n",
       "      <th>system.cpu|guest_nice_lag3</th>\n",
       "      <th>...</th>\n",
       "      <th>system.net|received_lag2</th>\n",
       "      <th>system.net|received_lag3</th>\n",
       "      <th>system.net|received_lag4</th>\n",
       "      <th>system.net|received_lag5</th>\n",
       "      <th>system.net|sent_lag0</th>\n",
       "      <th>system.net|sent_lag1</th>\n",
       "      <th>system.net|sent_lag2</th>\n",
       "      <th>system.net|sent_lag3</th>\n",
       "      <th>system.net|sent_lag4</th>\n",
       "      <th>system.net|sent_lag5</th>\n",
       "    </tr>\n",
       "    <tr>\n",
       "      <th>time_idx</th>\n",
       "      <th></th>\n",
       "      <th></th>\n",
       "      <th></th>\n",
       "      <th></th>\n",
       "      <th></th>\n",
       "      <th></th>\n",
       "      <th></th>\n",
       "      <th></th>\n",
       "      <th></th>\n",
       "      <th></th>\n",
       "      <th></th>\n",
       "      <th></th>\n",
       "      <th></th>\n",
       "      <th></th>\n",
       "      <th></th>\n",
       "      <th></th>\n",
       "      <th></th>\n",
       "      <th></th>\n",
       "      <th></th>\n",
       "      <th></th>\n",
       "      <th></th>\n",
       "    </tr>\n",
       "  </thead>\n",
       "  <tbody>\n",
       "    <tr>\n",
       "      <th>1604488989</th>\n",
       "      <td>0.0</td>\n",
       "      <td>0.0</td>\n",
       "      <td>0.0</td>\n",
       "      <td>0.0</td>\n",
       "      <td>0.0</td>\n",
       "      <td>0.0</td>\n",
       "      <td>0.0</td>\n",
       "      <td>0.0</td>\n",
       "      <td>0.0</td>\n",
       "      <td>0.0</td>\n",
       "      <td>...</td>\n",
       "      <td>20.950889</td>\n",
       "      <td>-48.192025</td>\n",
       "      <td>-15.095592</td>\n",
       "      <td>51.158781</td>\n",
       "      <td>33.586547</td>\n",
       "      <td>13.133732</td>\n",
       "      <td>42.412212</td>\n",
       "      <td>-15.099732</td>\n",
       "      <td>26.433434</td>\n",
       "      <td>-54.686425</td>\n",
       "    </tr>\n",
       "    <tr>\n",
       "      <th>1604488991</th>\n",
       "      <td>0.0</td>\n",
       "      <td>0.0</td>\n",
       "      <td>0.0</td>\n",
       "      <td>0.0</td>\n",
       "      <td>0.0</td>\n",
       "      <td>0.0</td>\n",
       "      <td>0.0</td>\n",
       "      <td>0.0</td>\n",
       "      <td>0.0</td>\n",
       "      <td>0.0</td>\n",
       "      <td>...</td>\n",
       "      <td>30.414337</td>\n",
       "      <td>20.950889</td>\n",
       "      <td>-48.192025</td>\n",
       "      <td>-15.095592</td>\n",
       "      <td>2.353946</td>\n",
       "      <td>33.586547</td>\n",
       "      <td>13.133732</td>\n",
       "      <td>42.412212</td>\n",
       "      <td>-15.099732</td>\n",
       "      <td>26.433434</td>\n",
       "    </tr>\n",
       "    <tr>\n",
       "      <th>1604488992</th>\n",
       "      <td>0.0</td>\n",
       "      <td>0.0</td>\n",
       "      <td>0.0</td>\n",
       "      <td>0.0</td>\n",
       "      <td>0.0</td>\n",
       "      <td>0.0</td>\n",
       "      <td>0.0</td>\n",
       "      <td>0.0</td>\n",
       "      <td>0.0</td>\n",
       "      <td>0.0</td>\n",
       "      <td>...</td>\n",
       "      <td>1.330481</td>\n",
       "      <td>30.414337</td>\n",
       "      <td>20.950889</td>\n",
       "      <td>-48.192025</td>\n",
       "      <td>-93.153763</td>\n",
       "      <td>2.353946</td>\n",
       "      <td>33.586547</td>\n",
       "      <td>13.133732</td>\n",
       "      <td>42.412212</td>\n",
       "      <td>-15.099732</td>\n",
       "    </tr>\n",
       "    <tr>\n",
       "      <th>1604488993</th>\n",
       "      <td>0.0</td>\n",
       "      <td>0.0</td>\n",
       "      <td>0.0</td>\n",
       "      <td>0.0</td>\n",
       "      <td>0.0</td>\n",
       "      <td>0.0</td>\n",
       "      <td>0.0</td>\n",
       "      <td>0.0</td>\n",
       "      <td>0.0</td>\n",
       "      <td>0.0</td>\n",
       "      <td>...</td>\n",
       "      <td>-72.029869</td>\n",
       "      <td>1.330481</td>\n",
       "      <td>30.414337</td>\n",
       "      <td>20.950889</td>\n",
       "      <td>-1.209190</td>\n",
       "      <td>-93.153763</td>\n",
       "      <td>2.353946</td>\n",
       "      <td>33.586547</td>\n",
       "      <td>13.133732</td>\n",
       "      <td>42.412212</td>\n",
       "    </tr>\n",
       "    <tr>\n",
       "      <th>1604488994</th>\n",
       "      <td>0.0</td>\n",
       "      <td>0.0</td>\n",
       "      <td>0.0</td>\n",
       "      <td>0.0</td>\n",
       "      <td>0.0</td>\n",
       "      <td>0.0</td>\n",
       "      <td>0.0</td>\n",
       "      <td>0.0</td>\n",
       "      <td>0.0</td>\n",
       "      <td>0.0</td>\n",
       "      <td>...</td>\n",
       "      <td>-12.498062</td>\n",
       "      <td>-72.029869</td>\n",
       "      <td>1.330481</td>\n",
       "      <td>30.414337</td>\n",
       "      <td>-23.862861</td>\n",
       "      <td>-1.209190</td>\n",
       "      <td>-93.153763</td>\n",
       "      <td>2.353946</td>\n",
       "      <td>33.586547</td>\n",
       "      <td>13.133732</td>\n",
       "    </tr>\n",
       "  </tbody>\n",
       "</table>\n",
       "<p>5 rows × 126 columns</p>\n",
       "</div>"
      ],
      "text/plain": [
       "            system.cpu|guest_lag0  system.cpu|guest_lag1  \\\n",
       "time_idx                                                   \n",
       "1604488989                    0.0                    0.0   \n",
       "1604488991                    0.0                    0.0   \n",
       "1604488992                    0.0                    0.0   \n",
       "1604488993                    0.0                    0.0   \n",
       "1604488994                    0.0                    0.0   \n",
       "\n",
       "            system.cpu|guest_lag2  system.cpu|guest_lag3  \\\n",
       "time_idx                                                   \n",
       "1604488989                    0.0                    0.0   \n",
       "1604488991                    0.0                    0.0   \n",
       "1604488992                    0.0                    0.0   \n",
       "1604488993                    0.0                    0.0   \n",
       "1604488994                    0.0                    0.0   \n",
       "\n",
       "            system.cpu|guest_lag4  system.cpu|guest_lag5  \\\n",
       "time_idx                                                   \n",
       "1604488989                    0.0                    0.0   \n",
       "1604488991                    0.0                    0.0   \n",
       "1604488992                    0.0                    0.0   \n",
       "1604488993                    0.0                    0.0   \n",
       "1604488994                    0.0                    0.0   \n",
       "\n",
       "            system.cpu|guest_nice_lag0  system.cpu|guest_nice_lag1  \\\n",
       "time_idx                                                             \n",
       "1604488989                         0.0                         0.0   \n",
       "1604488991                         0.0                         0.0   \n",
       "1604488992                         0.0                         0.0   \n",
       "1604488993                         0.0                         0.0   \n",
       "1604488994                         0.0                         0.0   \n",
       "\n",
       "            system.cpu|guest_nice_lag2  system.cpu|guest_nice_lag3  ...  \\\n",
       "time_idx                                                            ...   \n",
       "1604488989                         0.0                         0.0  ...   \n",
       "1604488991                         0.0                         0.0  ...   \n",
       "1604488992                         0.0                         0.0  ...   \n",
       "1604488993                         0.0                         0.0  ...   \n",
       "1604488994                         0.0                         0.0  ...   \n",
       "\n",
       "            system.net|received_lag2  system.net|received_lag3  \\\n",
       "time_idx                                                         \n",
       "1604488989                 20.950889                -48.192025   \n",
       "1604488991                 30.414337                 20.950889   \n",
       "1604488992                  1.330481                 30.414337   \n",
       "1604488993                -72.029869                  1.330481   \n",
       "1604488994                -12.498062                -72.029869   \n",
       "\n",
       "            system.net|received_lag4  system.net|received_lag5  \\\n",
       "time_idx                                                         \n",
       "1604488989                -15.095592                 51.158781   \n",
       "1604488991                -48.192025                -15.095592   \n",
       "1604488992                 20.950889                -48.192025   \n",
       "1604488993                 30.414337                 20.950889   \n",
       "1604488994                  1.330481                 30.414337   \n",
       "\n",
       "            system.net|sent_lag0  system.net|sent_lag1  system.net|sent_lag2  \\\n",
       "time_idx                                                                       \n",
       "1604488989             33.586547             13.133732             42.412212   \n",
       "1604488991              2.353946             33.586547             13.133732   \n",
       "1604488992            -93.153763              2.353946             33.586547   \n",
       "1604488993             -1.209190            -93.153763              2.353946   \n",
       "1604488994            -23.862861             -1.209190            -93.153763   \n",
       "\n",
       "            system.net|sent_lag3  system.net|sent_lag4  system.net|sent_lag5  \n",
       "time_idx                                                                      \n",
       "1604488989            -15.099732             26.433434            -54.686425  \n",
       "1604488991             42.412212            -15.099732             26.433434  \n",
       "1604488992             13.133732             42.412212            -15.099732  \n",
       "1604488993             33.586547             13.133732             42.412212  \n",
       "1604488994              2.353946             33.586547             13.133732  \n",
       "\n",
       "[5 rows x 126 columns]"
      ]
     },
     "execution_count": 22,
     "metadata": {},
     "output_type": "execute_result"
    }
   ],
   "source": [
    "print(df_predict_processed.shape)\n",
    "df_predict_processed.head()"
   ]
  },
  {
   "cell_type": "markdown",
   "metadata": {},
   "source": [
    "The above featurized prediction data should be identical in terms of structure and schema to the featurized training data we explored above. This is what is expected by the model.  "
   ]
  },
  {
   "cell_type": "markdown",
   "metadata": {},
   "source": [
    "## Get predictions"
   ]
  },
  {
   "cell_type": "code",
   "execution_count": 23,
   "metadata": {},
   "outputs": [
    {
     "name": "stdout",
     "output_type": "stream",
     "text": [
      "----------------------------------------------------------------------------------------------------\n",
      "predictions for time 1604488989\n",
      "model=system.cpu, anomaly_probability=0.0291, anomaly_flag=0\n",
      "model=system.load, anomaly_probability=0.0822, anomaly_flag=0\n",
      "model=system.net, anomaly_probability=0.007, anomaly_flag=0\n",
      "model=system.io, anomaly_probability=0.0014, anomaly_flag=0\n",
      "model=system.ip, anomaly_probability=0.0102, anomaly_flag=0\n",
      "model=system.idlejitter, anomaly_probability=0.0527, anomaly_flag=0\n",
      "----------------------------------------------------------------------------------------------------\n",
      "predictions for time 1604488991\n",
      "model=system.cpu, anomaly_probability=0.0355, anomaly_flag=0\n",
      "model=system.load, anomaly_probability=0.0658, anomaly_flag=0\n",
      "model=system.net, anomaly_probability=0.0082, anomaly_flag=0\n",
      "model=system.io, anomaly_probability=0.0014, anomaly_flag=0\n",
      "model=system.ip, anomaly_probability=0.0077, anomaly_flag=0\n",
      "model=system.idlejitter, anomaly_probability=0.0563, anomaly_flag=0\n",
      "----------------------------------------------------------------------------------------------------\n",
      "predictions for time 1604488992\n",
      "model=system.cpu, anomaly_probability=0.0416, anomaly_flag=0\n",
      "model=system.load, anomaly_probability=0.0438, anomaly_flag=0\n",
      "model=system.net, anomaly_probability=0.013, anomaly_flag=0\n",
      "model=system.io, anomaly_probability=0.0014, anomaly_flag=0\n",
      "model=system.ip, anomaly_probability=0.0143, anomaly_flag=0\n",
      "model=system.idlejitter, anomaly_probability=0.0489, anomaly_flag=0\n",
      "----------------------------------------------------------------------------------------------------\n",
      "predictions for time 1604488993\n",
      "model=system.cpu, anomaly_probability=0.0386, anomaly_flag=0\n",
      "model=system.load, anomaly_probability=0.0068, anomaly_flag=0\n",
      "model=system.net, anomaly_probability=0.0153, anomaly_flag=0\n",
      "model=system.io, anomaly_probability=0.0014, anomaly_flag=0\n",
      "model=system.ip, anomaly_probability=0.0138, anomaly_flag=0\n",
      "model=system.idlejitter, anomaly_probability=0.034, anomaly_flag=0\n",
      "----------------------------------------------------------------------------------------------------\n",
      "predictions for time 1604488994\n",
      "model=system.cpu, anomaly_probability=0.0329, anomaly_flag=0\n",
      "model=system.load, anomaly_probability=0.0078, anomaly_flag=0\n",
      "model=system.net, anomaly_probability=0.0152, anomaly_flag=0\n",
      "model=system.io, anomaly_probability=0.0014, anomaly_flag=0\n",
      "model=system.ip, anomaly_probability=0.0124, anomaly_flag=0\n",
      "model=system.idlejitter, anomaly_probability=0.0307, anomaly_flag=0\n",
      "----------------------------------------------------------------------------------------------------\n",
      "predictions for time 1604488995\n",
      "model=system.cpu, anomaly_probability=0.0347, anomaly_flag=0\n",
      "model=system.load, anomaly_probability=0.006, anomaly_flag=0\n",
      "model=system.net, anomaly_probability=0.0119, anomaly_flag=0\n",
      "model=system.io, anomaly_probability=0.0014, anomaly_flag=0\n",
      "model=system.ip, anomaly_probability=0.0062, anomaly_flag=0\n",
      "model=system.idlejitter, anomaly_probability=0.0275, anomaly_flag=0\n",
      "----------------------------------------------------------------------------------------------------\n",
      "predictions for time 1604488996\n",
      "model=system.cpu, anomaly_probability=0.0356, anomaly_flag=0\n",
      "model=system.load, anomaly_probability=0.0036, anomaly_flag=0\n",
      "model=system.net, anomaly_probability=0.0051, anomaly_flag=0\n",
      "model=system.io, anomaly_probability=0.0014, anomaly_flag=0\n",
      "model=system.ip, anomaly_probability=0.0051, anomaly_flag=0\n",
      "model=system.idlejitter, anomaly_probability=0.0304, anomaly_flag=0\n",
      "----------------------------------------------------------------------------------------------------\n",
      "predictions for time 1604488998\n",
      "model=system.cpu, anomaly_probability=0.031, anomaly_flag=0\n",
      "model=system.load, anomaly_probability=0.0012, anomaly_flag=0\n",
      "model=system.net, anomaly_probability=0.0068, anomaly_flag=0\n",
      "model=system.io, anomaly_probability=0.0014, anomaly_flag=0\n",
      "model=system.ip, anomaly_probability=0.0119, anomaly_flag=0\n",
      "model=system.idlejitter, anomaly_probability=0.0241, anomaly_flag=0\n",
      "----------------------------------------------------------------------------------------------------\n",
      "predictions for time 1604488999\n",
      "model=system.cpu, anomaly_probability=0.023, anomaly_flag=0\n",
      "model=system.load, anomaly_probability=0.0012, anomaly_flag=0\n",
      "model=system.net, anomaly_probability=0.0121, anomaly_flag=0\n",
      "model=system.io, anomaly_probability=0.0014, anomaly_flag=0\n",
      "model=system.ip, anomaly_probability=0.0163, anomaly_flag=0\n",
      "model=system.idlejitter, anomaly_probability=0.0198, anomaly_flag=0\n",
      "----------------------------------------------------------------------------------------------------\n",
      "predictions for time 1604489000\n",
      "model=system.cpu, anomaly_probability=0.0226, anomaly_flag=0\n",
      "model=system.load, anomaly_probability=0.0018, anomaly_flag=0\n",
      "model=system.net, anomaly_probability=0.0171, anomaly_flag=0\n",
      "model=system.io, anomaly_probability=0.0014, anomaly_flag=0\n",
      "model=system.ip, anomaly_probability=0.0193, anomaly_flag=0\n",
      "model=system.idlejitter, anomaly_probability=0.0184, anomaly_flag=0\n"
     ]
    }
   ],
   "source": [
    "# for each recent feature vector, get a prediction\n",
    "for time_idx, row in df_predict_processed.iterrows():\n",
    "    \n",
    "    print('-'*100)\n",
    "    print(f'predictions for time {time_idx}')\n",
    "    \n",
    "    # convert our row into the expected 'flattened' feature vector\n",
    "    df_tmp = row.to_frame().transpose()\n",
    "    \n",
    "    for model in models:\n",
    "        \n",
    "        # pull out relevant array of features for the model in question\n",
    "        X_predict = df_tmp[df_tmp.columns[df_tmp.columns.str.startswith(model)]].values\n",
    "        \n",
    "        # call the predict_proba() and predict() methods on the trained data in order to make a prediction\n",
    "        anomaly_probability = round(models[model].predict_proba(X_predict)[-1][1],4)\n",
    "        anomaly_flag = models[model].predict(X_predict)[-1]\n",
    "        \n",
    "        print(f'model={model}, anomaly_probability={anomaly_probability}, anomaly_flag={anomaly_flag}')\n"
   ]
  },
  {
   "cell_type": "markdown",
   "metadata": {},
   "source": [
    "In the above we should generally see low `anomaly_probability` values (assuming nothing has blown up on the host you used between the time you ran the training cells above and the predictions above). "
   ]
  },
  {
   "cell_type": "markdown",
   "metadata": {},
   "source": [
    "Lets just do one last little thing to try show what is going on here and why we put so much effort and focus into the featurization above.\n",
    "\n",
    "We will take some of the feature vectors we predicted on for each model, randomly shuffle the values around so as to make an unusual looking observation, and see what sort of an anomaly probability that gives us. (hint: it should be higher then those above :) )."
   ]
  },
  {
   "cell_type": "code",
   "execution_count": 24,
   "metadata": {},
   "outputs": [
    {
     "name": "stdout",
     "output_type": "stream",
     "text": [
      "------------------------------------------------------------------------------------------------------------------------------------------------------\n",
      "model=system.cpu, anomaly_probability=1.0, anomaly_flag=1\n",
      "model=system.load, anomaly_probability=1.0, anomaly_flag=1\n",
      "model=system.net, anomaly_probability=0.0119, anomaly_flag=0\n",
      "model=system.io, anomaly_probability=0.0058, anomaly_flag=0\n",
      "model=system.ip, anomaly_probability=0.0085, anomaly_flag=0\n",
      "model=system.idlejitter, anomaly_probability=0.0248, anomaly_flag=0\n",
      "------------------------------------------------------------------------------------------------------------------------------------------------------\n",
      "model=system.cpu, anomaly_probability=1.0, anomaly_flag=1\n",
      "model=system.load, anomaly_probability=1.0, anomaly_flag=1\n",
      "model=system.net, anomaly_probability=0.0063, anomaly_flag=0\n",
      "model=system.io, anomaly_probability=0.0063, anomaly_flag=0\n",
      "model=system.ip, anomaly_probability=0.0103, anomaly_flag=0\n",
      "model=system.idlejitter, anomaly_probability=0.1029, anomaly_flag=0\n",
      "------------------------------------------------------------------------------------------------------------------------------------------------------\n",
      "model=system.cpu, anomaly_probability=1.0, anomaly_flag=1\n",
      "model=system.load, anomaly_probability=1.0, anomaly_flag=1\n",
      "model=system.net, anomaly_probability=0.0093, anomaly_flag=0\n",
      "model=system.io, anomaly_probability=0.0028, anomaly_flag=0\n",
      "model=system.ip, anomaly_probability=0.0099, anomaly_flag=0\n",
      "model=system.idlejitter, anomaly_probability=0.1332, anomaly_flag=0\n",
      "------------------------------------------------------------------------------------------------------------------------------------------------------\n",
      "model=system.cpu, anomaly_probability=1.0, anomaly_flag=1\n",
      "model=system.load, anomaly_probability=1.0, anomaly_flag=1\n",
      "model=system.net, anomaly_probability=0.0128, anomaly_flag=0\n",
      "model=system.io, anomaly_probability=0.0053, anomaly_flag=0\n",
      "model=system.ip, anomaly_probability=0.0064, anomaly_flag=0\n",
      "model=system.idlejitter, anomaly_probability=0.0155, anomaly_flag=0\n",
      "------------------------------------------------------------------------------------------------------------------------------------------------------\n",
      "model=system.cpu, anomaly_probability=1.0, anomaly_flag=1\n",
      "model=system.load, anomaly_probability=1.0, anomaly_flag=1\n",
      "model=system.net, anomaly_probability=0.0074, anomaly_flag=0\n",
      "model=system.io, anomaly_probability=0.0138, anomaly_flag=0\n",
      "model=system.ip, anomaly_probability=0.0078, anomaly_flag=0\n",
      "model=system.idlejitter, anomaly_probability=0.2852, anomaly_flag=0\n"
     ]
    }
   ],
   "source": [
    "# sample some prediction data and shuffle values\n",
    "n_predict_sample = 5\n",
    "X_predict_sample = df_predict_processed.sample(n_predict_sample).values.T\n",
    "np.random.shuffle(X_predict_sample)\n",
    "X_predict_sample = X_predict_sample.T\n",
    "df_predict_shuffled = pd.DataFrame(X_predict_sample, columns=df_predict_processed.columns)\n",
    "for row in df_predict_shuffled.index:\n",
    "    print('-'*150)\n",
    "    for model in models:\n",
    "        X_predict = df_predict_shuffled.loc[row:row][df_predict_shuffled.columns[df_predict_shuffled.columns.str.startswith(model)]].values\n",
    "        anomaly_probability = round(models[model].predict_proba(X_predict)[-1][1],4)\n",
    "        anomaly_flag = models[model].predict(X_predict)[-1]\n",
    "        print(f'model={model}, anomaly_probability={anomaly_probability}, anomaly_flag={anomaly_flag}')"
   ]
  },
  {
   "cell_type": "markdown",
   "metadata": {},
   "source": [
    "We _should_ see some higher anomaly probabilities above than in the actual real predictions we had previously made. "
   ]
  },
  {
   "cell_type": "markdown",
   "metadata": {},
   "source": [
    "## But what _is_ the model?"
   ]
  },
  {
   "cell_type": "markdown",
   "metadata": {},
   "source": [
    "To try and lift the lid a little on what the model actually is and how it is calculating anomaly probabilities lets take a look at one trained model and what it actually is. "
   ]
  },
  {
   "cell_type": "code",
   "execution_count": 25,
   "metadata": {},
   "outputs": [
    {
     "name": "stdout",
     "output_type": "stream",
     "text": [
      "model for chart system.cpu:\n"
     ]
    },
    {
     "data": {
      "text/plain": [
       "{'contamination': 0.001,\n",
       " 'n_components': 2,\n",
       " 'n_selected_components': 2,\n",
       " 'copy': True,\n",
       " 'whiten': False,\n",
       " 'svd_solver': 'auto',\n",
       " 'tol': 0.0,\n",
       " 'iterated_power': 'auto',\n",
       " 'random_state': None,\n",
       " 'weighted': True,\n",
       " 'standardization': True,\n",
       " '_classes': 2,\n",
       " 'scaler_': StandardScaler(),\n",
       " 'detector_': PCA(n_components=2),\n",
       " 'n_components_': 2,\n",
       " 'components_': array([[ 2.80082352e-18,  3.03794228e-18, -2.70731444e-19,\n",
       "         -3.92363821e-19,  1.48369551e-19, -3.63283111e-19,\n",
       "         -4.39041383e-22, -8.31401705e-21,  1.39900394e-20,\n",
       "          1.30685531e-20, -9.11087543e-21,  0.00000000e+00,\n",
       "         -2.43885139e-01, -3.29203940e-01, -1.73697634e-01,\n",
       "          1.29799362e-01,  3.23636716e-01,  2.79958132e-01,\n",
       "          0.00000000e+00,  0.00000000e+00,  0.00000000e+00,\n",
       "          0.00000000e+00,  0.00000000e+00,  0.00000000e+00,\n",
       "         -1.51045154e-01, -8.76462672e-02,  6.10211833e-02,\n",
       "          1.98659891e-01,  2.27264690e-01,  1.49883841e-01,\n",
       "         -1.12372782e-01, -9.74261497e-02, -3.51807526e-02,\n",
       "          8.00901689e-02,  1.02115746e-01,  7.26665255e-02,\n",
       "         -1.24195520e-03, -1.22739202e-02, -1.72542528e-02,\n",
       "         -3.10527251e-03,  6.40218609e-03,  1.38531055e-02,\n",
       "         -2.85767294e-01, -2.95111985e-01, -1.27987592e-01,\n",
       "          1.47699610e-01,  3.13336131e-01,  2.93640283e-01,\n",
       "         -4.51371443e-02, -6.59597548e-02, -7.06319548e-02,\n",
       "         -1.24793697e-02,  2.99234105e-02,  6.52240921e-02],\n",
       "        [-1.60824947e-17, -1.14827710e-17,  9.61490236e-19,\n",
       "         -3.01121753e-19,  9.15825774e-20, -1.79272007e-19,\n",
       "         -3.09077873e-20, -2.81027414e-20, -4.26944492e-21,\n",
       "          1.35805909e-20, -1.02490202e-20, -0.00000000e+00,\n",
       "          9.19937111e-02, -1.01829472e-01, -2.77808201e-01,\n",
       "         -2.74783232e-01, -9.60873349e-02,  9.77127933e-02,\n",
       "         -0.00000000e+00, -0.00000000e+00, -0.00000000e+00,\n",
       "         -0.00000000e+00, -0.00000000e+00, -0.00000000e+00,\n",
       "         -1.93270784e-01, -3.33926708e-01, -3.73609183e-01,\n",
       "         -2.84145201e-01, -1.33619732e-01, -1.36922292e-02,\n",
       "         -1.04312593e-03, -7.56532493e-02, -1.20059231e-01,\n",
       "         -9.40272399e-02, -2.46077516e-02,  3.28380477e-02,\n",
       "          1.53039332e-02,  9.98811847e-03, -1.30719454e-03,\n",
       "         -1.23054923e-02, -1.04461356e-02, -2.39789225e-03,\n",
       "         -4.56703551e-02, -2.42918118e-01, -3.80897606e-01,\n",
       "         -3.54023992e-01, -1.80861638e-01,  1.67598654e-02,\n",
       "          1.10389117e-02, -1.99933307e-02, -6.19464953e-02,\n",
       "         -1.01962973e-01, -9.31777410e-02, -5.72142476e-02]]),\n",
       " 'n_selected_components_': 2,\n",
       " 'w_components_': array([0.09782853, 0.08702647]),\n",
       " 'selected_components_': array([[ 2.80082352e-18,  3.03794228e-18, -2.70731444e-19,\n",
       "         -3.92363821e-19,  1.48369551e-19, -3.63283111e-19,\n",
       "         -4.39041383e-22, -8.31401705e-21,  1.39900394e-20,\n",
       "          1.30685531e-20, -9.11087543e-21,  0.00000000e+00,\n",
       "         -2.43885139e-01, -3.29203940e-01, -1.73697634e-01,\n",
       "          1.29799362e-01,  3.23636716e-01,  2.79958132e-01,\n",
       "          0.00000000e+00,  0.00000000e+00,  0.00000000e+00,\n",
       "          0.00000000e+00,  0.00000000e+00,  0.00000000e+00,\n",
       "         -1.51045154e-01, -8.76462672e-02,  6.10211833e-02,\n",
       "          1.98659891e-01,  2.27264690e-01,  1.49883841e-01,\n",
       "         -1.12372782e-01, -9.74261497e-02, -3.51807526e-02,\n",
       "          8.00901689e-02,  1.02115746e-01,  7.26665255e-02,\n",
       "         -1.24195520e-03, -1.22739202e-02, -1.72542528e-02,\n",
       "         -3.10527251e-03,  6.40218609e-03,  1.38531055e-02,\n",
       "         -2.85767294e-01, -2.95111985e-01, -1.27987592e-01,\n",
       "          1.47699610e-01,  3.13336131e-01,  2.93640283e-01,\n",
       "         -4.51371443e-02, -6.59597548e-02, -7.06319548e-02,\n",
       "         -1.24793697e-02,  2.99234105e-02,  6.52240921e-02],\n",
       "        [-1.60824947e-17, -1.14827710e-17,  9.61490236e-19,\n",
       "         -3.01121753e-19,  9.15825774e-20, -1.79272007e-19,\n",
       "         -3.09077873e-20, -2.81027414e-20, -4.26944492e-21,\n",
       "          1.35805909e-20, -1.02490202e-20, -0.00000000e+00,\n",
       "          9.19937111e-02, -1.01829472e-01, -2.77808201e-01,\n",
       "         -2.74783232e-01, -9.60873349e-02,  9.77127933e-02,\n",
       "         -0.00000000e+00, -0.00000000e+00, -0.00000000e+00,\n",
       "         -0.00000000e+00, -0.00000000e+00, -0.00000000e+00,\n",
       "         -1.93270784e-01, -3.33926708e-01, -3.73609183e-01,\n",
       "         -2.84145201e-01, -1.33619732e-01, -1.36922292e-02,\n",
       "         -1.04312593e-03, -7.56532493e-02, -1.20059231e-01,\n",
       "         -9.40272399e-02, -2.46077516e-02,  3.28380477e-02,\n",
       "          1.53039332e-02,  9.98811847e-03, -1.30719454e-03,\n",
       "         -1.23054923e-02, -1.04461356e-02, -2.39789225e-03,\n",
       "         -4.56703551e-02, -2.42918118e-01, -3.80897606e-01,\n",
       "         -3.54023992e-01, -1.80861638e-01,  1.67598654e-02,\n",
       "          1.10389117e-02, -1.99933307e-02, -6.19464953e-02,\n",
       "         -1.01962973e-01, -9.31777410e-02, -5.72142476e-02]]),\n",
       " 'selected_w_components_': array([0.09782853, 0.08702647]),\n",
       " 'decision_scores_': array([68.8878554 , 63.17257343, 67.21956501, ..., 75.31682611,\n",
       "        76.71194073, 74.30143433]),\n",
       " 'threshold_': 1311.4654267524904,\n",
       " 'labels_': array([0, 0, 0, ..., 0, 0, 0]),\n",
       " '_mu': 89.38196355699694,\n",
       " '_sigma': 97.22056202996157}"
      ]
     },
     "execution_count": 25,
     "metadata": {},
     "output_type": "execute_result"
    }
   ],
   "source": [
    "# lets pick our first trained model\n",
    "model_to_explore = charts_in_scope[0]\n",
    "\n",
    "print(f'model for chart {model_to_explore}:')\n",
    "models[model_to_explore].__dict__"
   ]
  },
  {
   "cell_type": "markdown",
   "metadata": {},
   "source": [
    "So above we see the various objects, mostly array's of numbers, that make up the internal state of the trained model. \n",
    "\n",
    "**Note**: for different types of models you will see different things in here. The below cells all assume `model='pca'` to walk through the example of how the default PCA model calculates an anomaly probability. Also for simplicity when we initialized the PCA model we set `n_selected_components=2` to make the calculations below easier to follow by telling PyOD to just use the first 2 principle components when calculating the anomaly scores. In the actual anomalies collector we use all the principle components.\n",
    "\n",
    "For PCA the main things of relevance below will be: \n",
    "\n",
    "- `selected_components_`: The actual principle components we want to use when calculating the anomaly score (aka `decision_score`).\n",
    "- `selected_w_components_`: The weights applied to each selected component, the first few typically matter more as they capture most of the variance in the original training data. \n",
    "- `decision_scores_`: The raw anomaly scores on all of the training observations, used to convert the anomaly score into something that more looks like an anomaly probability. "
   ]
  },
  {
   "cell_type": "markdown",
   "metadata": {},
   "source": [
    "#### Lets look at the 'training' source code"
   ]
  },
  {
   "cell_type": "markdown",
   "metadata": {},
   "source": [
    "Lets look at what the PCA model does when it trains a model. W can see from the below that most of what is going on is fitting a [PCA from Sklearn](https://scikit-learn.org/stable/modules/generated/sklearn.decomposition.PCA.html) to the training data `X`"
   ]
  },
  {
   "cell_type": "code",
   "execution_count": 26,
   "metadata": {},
   "outputs": [
    {
     "data": {
      "text/plain": [
       "\u001b[1;31mSignature:\u001b[0m \u001b[0mPCA\u001b[0m\u001b[1;33m.\u001b[0m\u001b[0mfit\u001b[0m\u001b[1;33m(\u001b[0m\u001b[0mself\u001b[0m\u001b[1;33m,\u001b[0m \u001b[0mX\u001b[0m\u001b[1;33m,\u001b[0m \u001b[0my\u001b[0m\u001b[1;33m=\u001b[0m\u001b[1;32mNone\u001b[0m\u001b[1;33m)\u001b[0m\u001b[1;33m\u001b[0m\u001b[1;33m\u001b[0m\u001b[0m\n",
       "\u001b[1;31mSource:\u001b[0m   \n",
       "    \u001b[1;32mdef\u001b[0m \u001b[0mfit\u001b[0m\u001b[1;33m(\u001b[0m\u001b[0mself\u001b[0m\u001b[1;33m,\u001b[0m \u001b[0mX\u001b[0m\u001b[1;33m,\u001b[0m \u001b[0my\u001b[0m\u001b[1;33m=\u001b[0m\u001b[1;32mNone\u001b[0m\u001b[1;33m)\u001b[0m\u001b[1;33m:\u001b[0m\u001b[1;33m\n",
       "\u001b[0m        \u001b[1;34m\"\"\"Fit detector. y is ignored in unsupervised methods.\n",
       "\n",
       "        Parameters\n",
       "        ----------\n",
       "        X : numpy array of shape (n_samples, n_features)\n",
       "            The input samples.\n",
       "\n",
       "        y : Ignored\n",
       "            Not used, present for API consistency by convention.\n",
       "\n",
       "        Returns\n",
       "        -------\n",
       "        self : object\n",
       "            Fitted estimator.\n",
       "        \"\"\"\u001b[0m\u001b[1;33m\n",
       "\u001b[0m        \u001b[1;31m# validate inputs X and y (optional)\u001b[0m\u001b[1;33m\n",
       "\u001b[0m        \u001b[0mX\u001b[0m \u001b[1;33m=\u001b[0m \u001b[0mcheck_array\u001b[0m\u001b[1;33m(\u001b[0m\u001b[0mX\u001b[0m\u001b[1;33m)\u001b[0m\u001b[1;33m\n",
       "\u001b[0m        \u001b[0mself\u001b[0m\u001b[1;33m.\u001b[0m\u001b[0m_set_n_classes\u001b[0m\u001b[1;33m(\u001b[0m\u001b[0my\u001b[0m\u001b[1;33m)\u001b[0m\u001b[1;33m\n",
       "\u001b[0m\u001b[1;33m\n",
       "\u001b[0m        \u001b[1;31m# PCA is recommended to use on the standardized data (zero mean and\u001b[0m\u001b[1;33m\n",
       "\u001b[0m        \u001b[1;31m# unit variance).\u001b[0m\u001b[1;33m\n",
       "\u001b[0m        \u001b[1;32mif\u001b[0m \u001b[0mself\u001b[0m\u001b[1;33m.\u001b[0m\u001b[0mstandardization\u001b[0m\u001b[1;33m:\u001b[0m\u001b[1;33m\n",
       "\u001b[0m            \u001b[0mX\u001b[0m\u001b[1;33m,\u001b[0m \u001b[0mself\u001b[0m\u001b[1;33m.\u001b[0m\u001b[0mscaler_\u001b[0m \u001b[1;33m=\u001b[0m \u001b[0mstandardizer\u001b[0m\u001b[1;33m(\u001b[0m\u001b[0mX\u001b[0m\u001b[1;33m,\u001b[0m \u001b[0mkeep_scalar\u001b[0m\u001b[1;33m=\u001b[0m\u001b[1;32mTrue\u001b[0m\u001b[1;33m)\u001b[0m\u001b[1;33m\n",
       "\u001b[0m\u001b[1;33m\n",
       "\u001b[0m        \u001b[0mself\u001b[0m\u001b[1;33m.\u001b[0m\u001b[0mdetector_\u001b[0m \u001b[1;33m=\u001b[0m \u001b[0msklearn_PCA\u001b[0m\u001b[1;33m(\u001b[0m\u001b[0mn_components\u001b[0m\u001b[1;33m=\u001b[0m\u001b[0mself\u001b[0m\u001b[1;33m.\u001b[0m\u001b[0mn_components\u001b[0m\u001b[1;33m,\u001b[0m\u001b[1;33m\n",
       "\u001b[0m                                     \u001b[0mcopy\u001b[0m\u001b[1;33m=\u001b[0m\u001b[0mself\u001b[0m\u001b[1;33m.\u001b[0m\u001b[0mcopy\u001b[0m\u001b[1;33m,\u001b[0m\u001b[1;33m\n",
       "\u001b[0m                                     \u001b[0mwhiten\u001b[0m\u001b[1;33m=\u001b[0m\u001b[0mself\u001b[0m\u001b[1;33m.\u001b[0m\u001b[0mwhiten\u001b[0m\u001b[1;33m,\u001b[0m\u001b[1;33m\n",
       "\u001b[0m                                     \u001b[0msvd_solver\u001b[0m\u001b[1;33m=\u001b[0m\u001b[0mself\u001b[0m\u001b[1;33m.\u001b[0m\u001b[0msvd_solver\u001b[0m\u001b[1;33m,\u001b[0m\u001b[1;33m\n",
       "\u001b[0m                                     \u001b[0mtol\u001b[0m\u001b[1;33m=\u001b[0m\u001b[0mself\u001b[0m\u001b[1;33m.\u001b[0m\u001b[0mtol\u001b[0m\u001b[1;33m,\u001b[0m\u001b[1;33m\n",
       "\u001b[0m                                     \u001b[0miterated_power\u001b[0m\u001b[1;33m=\u001b[0m\u001b[0mself\u001b[0m\u001b[1;33m.\u001b[0m\u001b[0miterated_power\u001b[0m\u001b[1;33m,\u001b[0m\u001b[1;33m\n",
       "\u001b[0m                                     \u001b[0mrandom_state\u001b[0m\u001b[1;33m=\u001b[0m\u001b[0mself\u001b[0m\u001b[1;33m.\u001b[0m\u001b[0mrandom_state\u001b[0m\u001b[1;33m)\u001b[0m\u001b[1;33m\n",
       "\u001b[0m        \u001b[0mself\u001b[0m\u001b[1;33m.\u001b[0m\u001b[0mdetector_\u001b[0m\u001b[1;33m.\u001b[0m\u001b[0mfit\u001b[0m\u001b[1;33m(\u001b[0m\u001b[0mX\u001b[0m\u001b[1;33m=\u001b[0m\u001b[0mX\u001b[0m\u001b[1;33m,\u001b[0m \u001b[0my\u001b[0m\u001b[1;33m=\u001b[0m\u001b[0my\u001b[0m\u001b[1;33m)\u001b[0m\u001b[1;33m\n",
       "\u001b[0m\u001b[1;33m\n",
       "\u001b[0m        \u001b[1;31m# copy the attributes from the sklearn PCA object\u001b[0m\u001b[1;33m\n",
       "\u001b[0m        \u001b[0mself\u001b[0m\u001b[1;33m.\u001b[0m\u001b[0mn_components_\u001b[0m \u001b[1;33m=\u001b[0m \u001b[0mself\u001b[0m\u001b[1;33m.\u001b[0m\u001b[0mdetector_\u001b[0m\u001b[1;33m.\u001b[0m\u001b[0mn_components_\u001b[0m\u001b[1;33m\n",
       "\u001b[0m        \u001b[0mself\u001b[0m\u001b[1;33m.\u001b[0m\u001b[0mcomponents_\u001b[0m \u001b[1;33m=\u001b[0m \u001b[0mself\u001b[0m\u001b[1;33m.\u001b[0m\u001b[0mdetector_\u001b[0m\u001b[1;33m.\u001b[0m\u001b[0mcomponents_\u001b[0m\u001b[1;33m\n",
       "\u001b[0m\u001b[1;33m\n",
       "\u001b[0m        \u001b[1;31m# validate the number of components to be used for outlier detection\u001b[0m\u001b[1;33m\n",
       "\u001b[0m        \u001b[1;32mif\u001b[0m \u001b[0mself\u001b[0m\u001b[1;33m.\u001b[0m\u001b[0mn_selected_components\u001b[0m \u001b[1;32mis\u001b[0m \u001b[1;32mNone\u001b[0m\u001b[1;33m:\u001b[0m\u001b[1;33m\n",
       "\u001b[0m            \u001b[0mself\u001b[0m\u001b[1;33m.\u001b[0m\u001b[0mn_selected_components_\u001b[0m \u001b[1;33m=\u001b[0m \u001b[0mself\u001b[0m\u001b[1;33m.\u001b[0m\u001b[0mn_components_\u001b[0m\u001b[1;33m\n",
       "\u001b[0m        \u001b[1;32melse\u001b[0m\u001b[1;33m:\u001b[0m\u001b[1;33m\n",
       "\u001b[0m            \u001b[0mself\u001b[0m\u001b[1;33m.\u001b[0m\u001b[0mn_selected_components_\u001b[0m \u001b[1;33m=\u001b[0m \u001b[0mself\u001b[0m\u001b[1;33m.\u001b[0m\u001b[0mn_selected_components\u001b[0m\u001b[1;33m\n",
       "\u001b[0m        \u001b[0mcheck_parameter\u001b[0m\u001b[1;33m(\u001b[0m\u001b[0mself\u001b[0m\u001b[1;33m.\u001b[0m\u001b[0mn_selected_components_\u001b[0m\u001b[1;33m,\u001b[0m \u001b[1;36m1\u001b[0m\u001b[1;33m,\u001b[0m \u001b[0mself\u001b[0m\u001b[1;33m.\u001b[0m\u001b[0mn_components_\u001b[0m\u001b[1;33m,\u001b[0m\u001b[1;33m\n",
       "\u001b[0m                        \u001b[0minclude_left\u001b[0m\u001b[1;33m=\u001b[0m\u001b[1;32mTrue\u001b[0m\u001b[1;33m,\u001b[0m \u001b[0minclude_right\u001b[0m\u001b[1;33m=\u001b[0m\u001b[1;32mTrue\u001b[0m\u001b[1;33m,\u001b[0m\u001b[1;33m\n",
       "\u001b[0m                        \u001b[0mparam_name\u001b[0m\u001b[1;33m=\u001b[0m\u001b[1;34m'n_selected_components_'\u001b[0m\u001b[1;33m)\u001b[0m\u001b[1;33m\n",
       "\u001b[0m\u001b[1;33m\n",
       "\u001b[0m        \u001b[1;31m# use eigenvalues as the weights of eigenvectors\u001b[0m\u001b[1;33m\n",
       "\u001b[0m        \u001b[0mself\u001b[0m\u001b[1;33m.\u001b[0m\u001b[0mw_components_\u001b[0m \u001b[1;33m=\u001b[0m \u001b[0mnp\u001b[0m\u001b[1;33m.\u001b[0m\u001b[0mones\u001b[0m\u001b[1;33m(\u001b[0m\u001b[1;33m[\u001b[0m\u001b[0mself\u001b[0m\u001b[1;33m.\u001b[0m\u001b[0mn_components_\u001b[0m\u001b[1;33m,\u001b[0m \u001b[1;33m]\u001b[0m\u001b[1;33m)\u001b[0m\u001b[1;33m\n",
       "\u001b[0m        \u001b[1;32mif\u001b[0m \u001b[0mself\u001b[0m\u001b[1;33m.\u001b[0m\u001b[0mweighted\u001b[0m\u001b[1;33m:\u001b[0m\u001b[1;33m\n",
       "\u001b[0m            \u001b[0mself\u001b[0m\u001b[1;33m.\u001b[0m\u001b[0mw_components_\u001b[0m \u001b[1;33m=\u001b[0m \u001b[0mself\u001b[0m\u001b[1;33m.\u001b[0m\u001b[0mdetector_\u001b[0m\u001b[1;33m.\u001b[0m\u001b[0mexplained_variance_ratio_\u001b[0m\u001b[1;33m\n",
       "\u001b[0m\u001b[1;33m\n",
       "\u001b[0m        \u001b[1;31m# outlier scores is the sum of the weighted distances between each\u001b[0m\u001b[1;33m\n",
       "\u001b[0m        \u001b[1;31m# sample to the eigenvectors. The eigenvectors with smaller\u001b[0m\u001b[1;33m\n",
       "\u001b[0m        \u001b[1;31m# eigenvalues have more influence\u001b[0m\u001b[1;33m\n",
       "\u001b[0m        \u001b[1;31m# Not all eigenvectors are used, only n_selected_components_ smallest\u001b[0m\u001b[1;33m\n",
       "\u001b[0m        \u001b[1;31m# are used since they better reflect the variance change\u001b[0m\u001b[1;33m\n",
       "\u001b[0m\u001b[1;33m\n",
       "\u001b[0m        \u001b[0mself\u001b[0m\u001b[1;33m.\u001b[0m\u001b[0mselected_components_\u001b[0m \u001b[1;33m=\u001b[0m \u001b[0mself\u001b[0m\u001b[1;33m.\u001b[0m\u001b[0mcomponents_\u001b[0m\u001b[1;33m[\u001b[0m\u001b[1;33m\n",
       "\u001b[0m                                    \u001b[1;33m-\u001b[0m\u001b[1;36m1\u001b[0m \u001b[1;33m*\u001b[0m \u001b[0mself\u001b[0m\u001b[1;33m.\u001b[0m\u001b[0mn_selected_components_\u001b[0m\u001b[1;33m:\u001b[0m\u001b[1;33m,\u001b[0m \u001b[1;33m:\u001b[0m\u001b[1;33m]\u001b[0m\u001b[1;33m\n",
       "\u001b[0m        \u001b[0mself\u001b[0m\u001b[1;33m.\u001b[0m\u001b[0mselected_w_components_\u001b[0m \u001b[1;33m=\u001b[0m \u001b[0mself\u001b[0m\u001b[1;33m.\u001b[0m\u001b[0mw_components_\u001b[0m\u001b[1;33m[\u001b[0m\u001b[1;33m\n",
       "\u001b[0m                                      \u001b[1;33m-\u001b[0m\u001b[1;36m1\u001b[0m \u001b[1;33m*\u001b[0m \u001b[0mself\u001b[0m\u001b[1;33m.\u001b[0m\u001b[0mn_selected_components_\u001b[0m\u001b[1;33m:\u001b[0m\u001b[1;33m]\u001b[0m\u001b[1;33m\n",
       "\u001b[0m\u001b[1;33m\n",
       "\u001b[0m        \u001b[0mself\u001b[0m\u001b[1;33m.\u001b[0m\u001b[0mdecision_scores_\u001b[0m \u001b[1;33m=\u001b[0m \u001b[0mnp\u001b[0m\u001b[1;33m.\u001b[0m\u001b[0msum\u001b[0m\u001b[1;33m(\u001b[0m\u001b[1;33m\n",
       "\u001b[0m            \u001b[0mcdist\u001b[0m\u001b[1;33m(\u001b[0m\u001b[0mX\u001b[0m\u001b[1;33m,\u001b[0m \u001b[0mself\u001b[0m\u001b[1;33m.\u001b[0m\u001b[0mselected_components_\u001b[0m\u001b[1;33m)\u001b[0m \u001b[1;33m/\u001b[0m \u001b[0mself\u001b[0m\u001b[1;33m.\u001b[0m\u001b[0mselected_w_components_\u001b[0m\u001b[1;33m,\u001b[0m\u001b[1;33m\n",
       "\u001b[0m            \u001b[0maxis\u001b[0m\u001b[1;33m=\u001b[0m\u001b[1;36m1\u001b[0m\u001b[1;33m)\u001b[0m\u001b[1;33m.\u001b[0m\u001b[0mravel\u001b[0m\u001b[1;33m(\u001b[0m\u001b[1;33m)\u001b[0m\u001b[1;33m\n",
       "\u001b[0m\u001b[1;33m\n",
       "\u001b[0m        \u001b[0mself\u001b[0m\u001b[1;33m.\u001b[0m\u001b[0m_process_decision_scores\u001b[0m\u001b[1;33m(\u001b[0m\u001b[1;33m)\u001b[0m\u001b[1;33m\n",
       "\u001b[0m        \u001b[1;32mreturn\u001b[0m \u001b[0mself\u001b[0m\u001b[1;33m\u001b[0m\u001b[1;33m\u001b[0m\u001b[0m\n",
       "\u001b[1;31mFile:\u001b[0m      c:\\users\\andre\\documents\\repos\\netdata-community\\netdata-agent-api\\netdata-pandas\\venv\\lib\\site-packages\\pyod\\models\\pca.py\n",
       "\u001b[1;31mType:\u001b[0m      function\n"
      ]
     },
     "metadata": {},
     "output_type": "display_data"
    }
   ],
   "source": [
    "PCA.fit??"
   ]
  },
  {
   "cell_type": "markdown",
   "metadata": {},
   "source": [
    "#### Lets look at the 'prediction' source code"
   ]
  },
  {
   "cell_type": "markdown",
   "metadata": {},
   "source": [
    "Lets look at the source code for generating the anomaly probabilities."
   ]
  },
  {
   "cell_type": "code",
   "execution_count": 27,
   "metadata": {},
   "outputs": [
    {
     "data": {
      "text/plain": [
       "\u001b[1;31mSignature:\u001b[0m \u001b[0mPCA\u001b[0m\u001b[1;33m.\u001b[0m\u001b[0mpredict_proba\u001b[0m\u001b[1;33m(\u001b[0m\u001b[0mself\u001b[0m\u001b[1;33m,\u001b[0m \u001b[0mX\u001b[0m\u001b[1;33m,\u001b[0m \u001b[0mmethod\u001b[0m\u001b[1;33m=\u001b[0m\u001b[1;34m'linear'\u001b[0m\u001b[1;33m)\u001b[0m\u001b[1;33m\u001b[0m\u001b[1;33m\u001b[0m\u001b[0m\n",
       "\u001b[1;31mSource:\u001b[0m   \n",
       "    \u001b[1;32mdef\u001b[0m \u001b[0mpredict_proba\u001b[0m\u001b[1;33m(\u001b[0m\u001b[0mself\u001b[0m\u001b[1;33m,\u001b[0m \u001b[0mX\u001b[0m\u001b[1;33m,\u001b[0m \u001b[0mmethod\u001b[0m\u001b[1;33m=\u001b[0m\u001b[1;34m'linear'\u001b[0m\u001b[1;33m)\u001b[0m\u001b[1;33m:\u001b[0m\u001b[1;33m\n",
       "\u001b[0m        \u001b[1;34m\"\"\"Predict the probability of a sample being outlier. Two approaches\n",
       "        are possible:\n",
       "\n",
       "        1. simply use Min-max conversion to linearly transform the outlier\n",
       "           scores into the range of [0,1]. The model must be\n",
       "           fitted first.\n",
       "        2. use unifying scores, see :cite:`kriegel2011interpreting`.\n",
       "\n",
       "        Parameters\n",
       "        ----------\n",
       "        X : numpy array of shape (n_samples, n_features)\n",
       "            The input samples.\n",
       "\n",
       "        method : str, optional (default='linear')\n",
       "            probability conversion method. It must be one of\n",
       "            'linear' or 'unify'.\n",
       "\n",
       "        Returns\n",
       "        -------\n",
       "        outlier_probability : numpy array of shape (n_samples,)\n",
       "            For each observation, tells whether or not\n",
       "            it should be considered as an outlier according to the\n",
       "            fitted model. Return the outlier probability, ranging\n",
       "            in [0,1].\n",
       "        \"\"\"\u001b[0m\u001b[1;33m\n",
       "\u001b[0m\u001b[1;33m\n",
       "\u001b[0m        \u001b[0mcheck_is_fitted\u001b[0m\u001b[1;33m(\u001b[0m\u001b[0mself\u001b[0m\u001b[1;33m,\u001b[0m \u001b[1;33m[\u001b[0m\u001b[1;34m'decision_scores_'\u001b[0m\u001b[1;33m,\u001b[0m \u001b[1;34m'threshold_'\u001b[0m\u001b[1;33m,\u001b[0m \u001b[1;34m'labels_'\u001b[0m\u001b[1;33m]\u001b[0m\u001b[1;33m)\u001b[0m\u001b[1;33m\n",
       "\u001b[0m        \u001b[0mtrain_scores\u001b[0m \u001b[1;33m=\u001b[0m \u001b[0mself\u001b[0m\u001b[1;33m.\u001b[0m\u001b[0mdecision_scores_\u001b[0m\u001b[1;33m\n",
       "\u001b[0m\u001b[1;33m\n",
       "\u001b[0m        \u001b[0mtest_scores\u001b[0m \u001b[1;33m=\u001b[0m \u001b[0mself\u001b[0m\u001b[1;33m.\u001b[0m\u001b[0mdecision_function\u001b[0m\u001b[1;33m(\u001b[0m\u001b[0mX\u001b[0m\u001b[1;33m)\u001b[0m\u001b[1;33m\n",
       "\u001b[0m\u001b[1;33m\n",
       "\u001b[0m        \u001b[0mprobs\u001b[0m \u001b[1;33m=\u001b[0m \u001b[0mnp\u001b[0m\u001b[1;33m.\u001b[0m\u001b[0mzeros\u001b[0m\u001b[1;33m(\u001b[0m\u001b[1;33m[\u001b[0m\u001b[0mX\u001b[0m\u001b[1;33m.\u001b[0m\u001b[0mshape\u001b[0m\u001b[1;33m[\u001b[0m\u001b[1;36m0\u001b[0m\u001b[1;33m]\u001b[0m\u001b[1;33m,\u001b[0m \u001b[0mint\u001b[0m\u001b[1;33m(\u001b[0m\u001b[0mself\u001b[0m\u001b[1;33m.\u001b[0m\u001b[0m_classes\u001b[0m\u001b[1;33m)\u001b[0m\u001b[1;33m]\u001b[0m\u001b[1;33m)\u001b[0m\u001b[1;33m\n",
       "\u001b[0m        \u001b[1;32mif\u001b[0m \u001b[0mmethod\u001b[0m \u001b[1;33m==\u001b[0m \u001b[1;34m'linear'\u001b[0m\u001b[1;33m:\u001b[0m\u001b[1;33m\n",
       "\u001b[0m            \u001b[0mscaler\u001b[0m \u001b[1;33m=\u001b[0m \u001b[0mMinMaxScaler\u001b[0m\u001b[1;33m(\u001b[0m\u001b[1;33m)\u001b[0m\u001b[1;33m.\u001b[0m\u001b[0mfit\u001b[0m\u001b[1;33m(\u001b[0m\u001b[0mtrain_scores\u001b[0m\u001b[1;33m.\u001b[0m\u001b[0mreshape\u001b[0m\u001b[1;33m(\u001b[0m\u001b[1;33m-\u001b[0m\u001b[1;36m1\u001b[0m\u001b[1;33m,\u001b[0m \u001b[1;36m1\u001b[0m\u001b[1;33m)\u001b[0m\u001b[1;33m)\u001b[0m\u001b[1;33m\n",
       "\u001b[0m            \u001b[0mprobs\u001b[0m\u001b[1;33m[\u001b[0m\u001b[1;33m:\u001b[0m\u001b[1;33m,\u001b[0m \u001b[1;36m1\u001b[0m\u001b[1;33m]\u001b[0m \u001b[1;33m=\u001b[0m \u001b[0mscaler\u001b[0m\u001b[1;33m.\u001b[0m\u001b[0mtransform\u001b[0m\u001b[1;33m(\u001b[0m\u001b[1;33m\n",
       "\u001b[0m                \u001b[0mtest_scores\u001b[0m\u001b[1;33m.\u001b[0m\u001b[0mreshape\u001b[0m\u001b[1;33m(\u001b[0m\u001b[1;33m-\u001b[0m\u001b[1;36m1\u001b[0m\u001b[1;33m,\u001b[0m \u001b[1;36m1\u001b[0m\u001b[1;33m)\u001b[0m\u001b[1;33m)\u001b[0m\u001b[1;33m.\u001b[0m\u001b[0mravel\u001b[0m\u001b[1;33m(\u001b[0m\u001b[1;33m)\u001b[0m\u001b[1;33m.\u001b[0m\u001b[0mclip\u001b[0m\u001b[1;33m(\u001b[0m\u001b[1;36m0\u001b[0m\u001b[1;33m,\u001b[0m \u001b[1;36m1\u001b[0m\u001b[1;33m)\u001b[0m\u001b[1;33m\n",
       "\u001b[0m            \u001b[0mprobs\u001b[0m\u001b[1;33m[\u001b[0m\u001b[1;33m:\u001b[0m\u001b[1;33m,\u001b[0m \u001b[1;36m0\u001b[0m\u001b[1;33m]\u001b[0m \u001b[1;33m=\u001b[0m \u001b[1;36m1\u001b[0m \u001b[1;33m-\u001b[0m \u001b[0mprobs\u001b[0m\u001b[1;33m[\u001b[0m\u001b[1;33m:\u001b[0m\u001b[1;33m,\u001b[0m \u001b[1;36m1\u001b[0m\u001b[1;33m]\u001b[0m\u001b[1;33m\n",
       "\u001b[0m            \u001b[1;32mreturn\u001b[0m \u001b[0mprobs\u001b[0m\u001b[1;33m\n",
       "\u001b[0m\u001b[1;33m\n",
       "\u001b[0m        \u001b[1;32melif\u001b[0m \u001b[0mmethod\u001b[0m \u001b[1;33m==\u001b[0m \u001b[1;34m'unify'\u001b[0m\u001b[1;33m:\u001b[0m\u001b[1;33m\n",
       "\u001b[0m            \u001b[1;31m# turn output into probability\u001b[0m\u001b[1;33m\n",
       "\u001b[0m            \u001b[0mpre_erf_score\u001b[0m \u001b[1;33m=\u001b[0m \u001b[1;33m(\u001b[0m\u001b[0mtest_scores\u001b[0m \u001b[1;33m-\u001b[0m \u001b[0mself\u001b[0m\u001b[1;33m.\u001b[0m\u001b[0m_mu\u001b[0m\u001b[1;33m)\u001b[0m \u001b[1;33m/\u001b[0m \u001b[1;33m(\u001b[0m\u001b[1;33m\n",
       "\u001b[0m                    \u001b[0mself\u001b[0m\u001b[1;33m.\u001b[0m\u001b[0m_sigma\u001b[0m \u001b[1;33m*\u001b[0m \u001b[0mnp\u001b[0m\u001b[1;33m.\u001b[0m\u001b[0msqrt\u001b[0m\u001b[1;33m(\u001b[0m\u001b[1;36m2\u001b[0m\u001b[1;33m)\u001b[0m\u001b[1;33m)\u001b[0m\u001b[1;33m\n",
       "\u001b[0m            \u001b[0merf_score\u001b[0m \u001b[1;33m=\u001b[0m \u001b[0merf\u001b[0m\u001b[1;33m(\u001b[0m\u001b[0mpre_erf_score\u001b[0m\u001b[1;33m)\u001b[0m\u001b[1;33m\n",
       "\u001b[0m            \u001b[0mprobs\u001b[0m\u001b[1;33m[\u001b[0m\u001b[1;33m:\u001b[0m\u001b[1;33m,\u001b[0m \u001b[1;36m1\u001b[0m\u001b[1;33m]\u001b[0m \u001b[1;33m=\u001b[0m \u001b[0merf_score\u001b[0m\u001b[1;33m.\u001b[0m\u001b[0mclip\u001b[0m\u001b[1;33m(\u001b[0m\u001b[1;36m0\u001b[0m\u001b[1;33m,\u001b[0m \u001b[1;36m1\u001b[0m\u001b[1;33m)\u001b[0m\u001b[1;33m.\u001b[0m\u001b[0mravel\u001b[0m\u001b[1;33m(\u001b[0m\u001b[1;33m)\u001b[0m\u001b[1;33m\n",
       "\u001b[0m            \u001b[0mprobs\u001b[0m\u001b[1;33m[\u001b[0m\u001b[1;33m:\u001b[0m\u001b[1;33m,\u001b[0m \u001b[1;36m0\u001b[0m\u001b[1;33m]\u001b[0m \u001b[1;33m=\u001b[0m \u001b[1;36m1\u001b[0m \u001b[1;33m-\u001b[0m \u001b[0mprobs\u001b[0m\u001b[1;33m[\u001b[0m\u001b[1;33m:\u001b[0m\u001b[1;33m,\u001b[0m \u001b[1;36m1\u001b[0m\u001b[1;33m]\u001b[0m\u001b[1;33m\n",
       "\u001b[0m            \u001b[1;32mreturn\u001b[0m \u001b[0mprobs\u001b[0m\u001b[1;33m\n",
       "\u001b[0m        \u001b[1;32melse\u001b[0m\u001b[1;33m:\u001b[0m\u001b[1;33m\n",
       "\u001b[0m            \u001b[1;32mraise\u001b[0m \u001b[0mValueError\u001b[0m\u001b[1;33m(\u001b[0m\u001b[0mmethod\u001b[0m\u001b[1;33m,\u001b[0m\u001b[1;33m\n",
       "\u001b[0m                             \u001b[1;34m'is not a valid probability conversion method'\u001b[0m\u001b[1;33m)\u001b[0m\u001b[1;33m\u001b[0m\u001b[1;33m\u001b[0m\u001b[0m\n",
       "\u001b[1;31mFile:\u001b[0m      c:\\users\\andre\\documents\\repos\\netdata-community\\netdata-agent-api\\netdata-pandas\\venv\\lib\\site-packages\\pyod\\models\\base.py\n",
       "\u001b[1;31mType:\u001b[0m      function\n"
      ]
     },
     "metadata": {},
     "output_type": "display_data"
    }
   ],
   "source": [
    "PCA.predict_proba??"
   ]
  },
  {
   "cell_type": "markdown",
   "metadata": {},
   "source": [
    "We can see its getting scores from some `decision_function()` method, so lets look at that."
   ]
  },
  {
   "cell_type": "code",
   "execution_count": 28,
   "metadata": {},
   "outputs": [
    {
     "data": {
      "text/plain": [
       "\u001b[1;31mSignature:\u001b[0m \u001b[0mPCA\u001b[0m\u001b[1;33m.\u001b[0m\u001b[0mdecision_function\u001b[0m\u001b[1;33m(\u001b[0m\u001b[0mself\u001b[0m\u001b[1;33m,\u001b[0m \u001b[0mX\u001b[0m\u001b[1;33m)\u001b[0m\u001b[1;33m\u001b[0m\u001b[1;33m\u001b[0m\u001b[0m\n",
       "\u001b[1;31mSource:\u001b[0m   \n",
       "    \u001b[1;32mdef\u001b[0m \u001b[0mdecision_function\u001b[0m\u001b[1;33m(\u001b[0m\u001b[0mself\u001b[0m\u001b[1;33m,\u001b[0m \u001b[0mX\u001b[0m\u001b[1;33m)\u001b[0m\u001b[1;33m:\u001b[0m\u001b[1;33m\n",
       "\u001b[0m        \u001b[1;34m\"\"\"Predict raw anomaly score of X using the fitted detector.\n",
       "\n",
       "        The anomaly score of an input sample is computed based on different\n",
       "        detector algorithms. For consistency, outliers are assigned with\n",
       "        larger anomaly scores.\n",
       "\n",
       "        Parameters\n",
       "        ----------\n",
       "        X : numpy array of shape (n_samples, n_features)\n",
       "            The training input samples. Sparse matrices are accepted only\n",
       "            if they are supported by the base estimator.\n",
       "\n",
       "        Returns\n",
       "        -------\n",
       "        anomaly_scores : numpy array of shape (n_samples,)\n",
       "            The anomaly score of the input samples.\n",
       "        \"\"\"\u001b[0m\u001b[1;33m\n",
       "\u001b[0m        \u001b[0mcheck_is_fitted\u001b[0m\u001b[1;33m(\u001b[0m\u001b[0mself\u001b[0m\u001b[1;33m,\u001b[0m \u001b[1;33m[\u001b[0m\u001b[1;34m'components_'\u001b[0m\u001b[1;33m,\u001b[0m \u001b[1;34m'w_components_'\u001b[0m\u001b[1;33m]\u001b[0m\u001b[1;33m)\u001b[0m\u001b[1;33m\n",
       "\u001b[0m\u001b[1;33m\n",
       "\u001b[0m        \u001b[0mX\u001b[0m \u001b[1;33m=\u001b[0m \u001b[0mcheck_array\u001b[0m\u001b[1;33m(\u001b[0m\u001b[0mX\u001b[0m\u001b[1;33m)\u001b[0m\u001b[1;33m\n",
       "\u001b[0m        \u001b[1;32mif\u001b[0m \u001b[0mself\u001b[0m\u001b[1;33m.\u001b[0m\u001b[0mstandardization\u001b[0m\u001b[1;33m:\u001b[0m\u001b[1;33m\n",
       "\u001b[0m            \u001b[0mX\u001b[0m \u001b[1;33m=\u001b[0m \u001b[0mself\u001b[0m\u001b[1;33m.\u001b[0m\u001b[0mscaler_\u001b[0m\u001b[1;33m.\u001b[0m\u001b[0mtransform\u001b[0m\u001b[1;33m(\u001b[0m\u001b[0mX\u001b[0m\u001b[1;33m)\u001b[0m\u001b[1;33m\n",
       "\u001b[0m\u001b[1;33m\n",
       "\u001b[0m        \u001b[1;32mreturn\u001b[0m \u001b[0mnp\u001b[0m\u001b[1;33m.\u001b[0m\u001b[0msum\u001b[0m\u001b[1;33m(\u001b[0m\u001b[1;33m\n",
       "\u001b[0m            \u001b[0mcdist\u001b[0m\u001b[1;33m(\u001b[0m\u001b[0mX\u001b[0m\u001b[1;33m,\u001b[0m \u001b[0mself\u001b[0m\u001b[1;33m.\u001b[0m\u001b[0mselected_components_\u001b[0m\u001b[1;33m)\u001b[0m \u001b[1;33m/\u001b[0m \u001b[0mself\u001b[0m\u001b[1;33m.\u001b[0m\u001b[0mselected_w_components_\u001b[0m\u001b[1;33m,\u001b[0m\u001b[1;33m\n",
       "\u001b[0m            \u001b[0maxis\u001b[0m\u001b[1;33m=\u001b[0m\u001b[1;36m1\u001b[0m\u001b[1;33m)\u001b[0m\u001b[1;33m.\u001b[0m\u001b[0mravel\u001b[0m\u001b[1;33m(\u001b[0m\u001b[1;33m)\u001b[0m\u001b[1;33m\u001b[0m\u001b[1;33m\u001b[0m\u001b[0m\n",
       "\u001b[1;31mFile:\u001b[0m      c:\\users\\andre\\documents\\repos\\netdata-community\\netdata-agent-api\\netdata-pandas\\venv\\lib\\site-packages\\pyod\\models\\pca.py\n",
       "\u001b[1;31mType:\u001b[0m      function\n"
      ]
     },
     "metadata": {},
     "output_type": "display_data"
    }
   ],
   "source": [
    "PCA.decision_function??"
   ]
  },
  {
   "cell_type": "markdown",
   "metadata": {},
   "source": [
    "We can see here what actually look like relativley straightforward calculations, so lets try step through them below. "
   ]
  },
  {
   "cell_type": "markdown",
   "metadata": {},
   "source": [
    "## Ok so lets step through that!"
   ]
  },
  {
   "cell_type": "markdown",
   "metadata": {},
   "source": [
    "So the cells above show the PyOD code under the hood - lets step through and recreate the a predicted score, step by step."
   ]
  },
  {
   "cell_type": "markdown",
   "metadata": {},
   "source": [
    "Lets begin by getting our feature vector that we would like an anomaly probability for."
   ]
  },
  {
   "cell_type": "code",
   "execution_count": 29,
   "metadata": {},
   "outputs": [
    {
     "name": "stdout",
     "output_type": "stream",
     "text": [
      "feature vector\n",
      "(1, 54)\n",
      "[[ 0.          0.          0.          0.          0.          0.\n",
      "   0.          0.          0.          0.          0.          0.\n",
      "   0.          0.          0.          0.          0.          0.\n",
      "   0.          0.          0.          0.          0.          0.\n",
      "   0.          0.          0.          0.          0.          0.\n",
      "  -0.1675042   0.          0.          0.1675042  -0.08291873  0.\n",
      "   0.          0.         -0.08333333  0.          0.          0.08333333\n",
      "  -0.167924   -0.08270047 -0.0824958   0.         -0.16396713 -0.00252527\n",
      "  -0.00104953  0.00168347  0.08500837  0.0837521  -0.32918117 -0.00252527]]\n"
     ]
    }
   ],
   "source": [
    "from scipy.spatial.distance import cdist\n",
    "from sklearn.preprocessing import MinMaxScaler\n",
    "\n",
    "# get our feature vector for a random observation from our prediction data\n",
    "X = df_predict_processed[df_predict_processed.columns[df_predict_processed.columns.str.startswith(model_to_explore)]].sample(1).values\n",
    "\n",
    "print('feature vector')\n",
    "print(X.shape)\n",
    "print(X)"
   ]
  },
  {
   "cell_type": "markdown",
   "metadata": {},
   "source": [
    "Lets look at the principle components the model will use to calculate our anomaly score."
   ]
  },
  {
   "cell_type": "code",
   "execution_count": 30,
   "metadata": {},
   "outputs": [
    {
     "name": "stdout",
     "output_type": "stream",
     "text": [
      "selected components learned by model\n",
      "(2, 54)\n",
      "[[ 2.80082352e-18  3.03794228e-18 -2.70731444e-19 -3.92363821e-19\n",
      "   1.48369551e-19 -3.63283111e-19 -4.39041383e-22 -8.31401705e-21\n",
      "   1.39900394e-20  1.30685531e-20 -9.11087543e-21  0.00000000e+00\n",
      "  -2.43885139e-01 -3.29203940e-01 -1.73697634e-01  1.29799362e-01\n",
      "   3.23636716e-01  2.79958132e-01  0.00000000e+00  0.00000000e+00\n",
      "   0.00000000e+00  0.00000000e+00  0.00000000e+00  0.00000000e+00\n",
      "  -1.51045154e-01 -8.76462672e-02  6.10211833e-02  1.98659891e-01\n",
      "   2.27264690e-01  1.49883841e-01 -1.12372782e-01 -9.74261497e-02\n",
      "  -3.51807526e-02  8.00901689e-02  1.02115746e-01  7.26665255e-02\n",
      "  -1.24195520e-03 -1.22739202e-02 -1.72542528e-02 -3.10527251e-03\n",
      "   6.40218609e-03  1.38531055e-02 -2.85767294e-01 -2.95111985e-01\n",
      "  -1.27987592e-01  1.47699610e-01  3.13336131e-01  2.93640283e-01\n",
      "  -4.51371443e-02 -6.59597548e-02 -7.06319548e-02 -1.24793697e-02\n",
      "   2.99234105e-02  6.52240921e-02]\n",
      " [-1.60824947e-17 -1.14827710e-17  9.61490236e-19 -3.01121753e-19\n",
      "   9.15825774e-20 -1.79272007e-19 -3.09077873e-20 -2.81027414e-20\n",
      "  -4.26944492e-21  1.35805909e-20 -1.02490202e-20 -0.00000000e+00\n",
      "   9.19937111e-02 -1.01829472e-01 -2.77808201e-01 -2.74783232e-01\n",
      "  -9.60873349e-02  9.77127933e-02 -0.00000000e+00 -0.00000000e+00\n",
      "  -0.00000000e+00 -0.00000000e+00 -0.00000000e+00 -0.00000000e+00\n",
      "  -1.93270784e-01 -3.33926708e-01 -3.73609183e-01 -2.84145201e-01\n",
      "  -1.33619732e-01 -1.36922292e-02 -1.04312593e-03 -7.56532493e-02\n",
      "  -1.20059231e-01 -9.40272399e-02 -2.46077516e-02  3.28380477e-02\n",
      "   1.53039332e-02  9.98811847e-03 -1.30719454e-03 -1.23054923e-02\n",
      "  -1.04461356e-02 -2.39789225e-03 -4.56703551e-02 -2.42918118e-01\n",
      "  -3.80897606e-01 -3.54023992e-01 -1.80861638e-01  1.67598654e-02\n",
      "   1.10389117e-02 -1.99933307e-02 -6.19464953e-02 -1.01962973e-01\n",
      "  -9.31777410e-02 -5.72142476e-02]]\n"
     ]
    }
   ],
   "source": [
    "print('selected components learned by model')\n",
    "selected_components = models[model_to_explore].selected_components_\n",
    "print(selected_components.shape)\n",
    "print(selected_components)"
   ]
  },
  {
   "cell_type": "markdown",
   "metadata": {},
   "source": [
    "Lets look at the weighting that the model will apply to each component when working out a weighted distance that will form the score."
   ]
  },
  {
   "cell_type": "code",
   "execution_count": 31,
   "metadata": {},
   "outputs": [
    {
     "name": "stdout",
     "output_type": "stream",
     "text": [
      "selected components weights set by model\n",
      "(2,)\n",
      "[0.09782853 0.08702647]\n"
     ]
    }
   ],
   "source": [
    "print('selected components weights set by model')\n",
    "selected_w_components = models[model_to_explore].selected_w_components_\n",
    "print(selected_w_components.shape)\n",
    "print(selected_w_components)"
   ]
  },
  {
   "cell_type": "markdown",
   "metadata": {},
   "source": [
    "Lets just call `predict_proba(X)` to get the score we will try to recreate."
   ]
  },
  {
   "cell_type": "code",
   "execution_count": 32,
   "metadata": {},
   "outputs": [
    {
     "name": "stdout",
     "output_type": "stream",
     "text": [
      "anomaly probability [p(anomaly), p(not anomaly)]\n",
      "(1, 2)\n",
      "[[0.96450375 0.03549625]]\n"
     ]
    }
   ],
   "source": [
    "print('anomaly probability [p(anomaly), p(not anomaly)]')\n",
    "anomaly_probability = models[model_to_explore].predict_proba(X)\n",
    "print(anomaly_probability.shape)\n",
    "print(anomaly_probability)"
   ]
  },
  {
   "cell_type": "markdown",
   "metadata": {},
   "source": [
    "#### Step 1: Standardize the feature vector"
   ]
  },
  {
   "cell_type": "markdown",
   "metadata": {},
   "source": [
    "The first step is to standardize the data as this is a default common practice when fitting a PCA to data. \n",
    "\n",
    "This is the default here which is good as it means that if you define any [custom models](https://github.com/netdata/netdata/blob/master/collectors/python.d.plugin/anomalies#custom-models) in your `anomalies.conf` file, you dont need to worry about them not being on the same or similar scales (e.g. cpu % vs disk usage etc) as that is all taken care of internally by the PyOD model. "
   ]
  },
  {
   "cell_type": "code",
   "execution_count": 33,
   "metadata": {},
   "outputs": [
    {
     "name": "stdout",
     "output_type": "stream",
     "text": [
      "[[ 0.00000000e+00  0.00000000e+00  0.00000000e+00  0.00000000e+00\n",
      "   0.00000000e+00  0.00000000e+00  0.00000000e+00  0.00000000e+00\n",
      "   0.00000000e+00  0.00000000e+00  0.00000000e+00  0.00000000e+00\n",
      "  -2.70067980e-10 -2.70067979e-10 -2.70067980e-10 -2.70067979e-10\n",
      "  -2.70067980e-10 -2.70067979e-10  0.00000000e+00  0.00000000e+00\n",
      "   0.00000000e+00  0.00000000e+00  0.00000000e+00  0.00000000e+00\n",
      "   2.40674662e-10  2.40674661e-10  2.40674662e-10  2.40674661e-10\n",
      "   2.40674662e-10  2.40674661e-10 -2.66664208e+00 -9.29120645e-05\n",
      "  -4.65713239e-07  2.66664268e+00 -1.32018223e+00 -9.29236062e-05\n",
      "  -6.02436866e-12 -6.02436881e-12 -1.55106650e+00 -6.02436888e-12\n",
      "  -6.02436872e-12  1.55106650e+00 -3.86095274e-01 -1.90187398e-01\n",
      "  -1.89755931e-01 -5.35431133e-05 -3.77037179e-01 -5.84708821e-03\n",
      "  -5.22050433e-03  8.09092270e-03  4.15752327e-01  4.09701175e-01\n",
      "  -1.61015895e+00 -1.24094202e-02]]\n"
     ]
    }
   ],
   "source": [
    "X_scaled = models[model_to_explore].scaler_.transform(X)\n",
    "print(X_scaled)"
   ]
  },
  {
   "cell_type": "markdown",
   "metadata": {},
   "source": [
    "#### Step 2: Calculate distance from each selected component "
   ]
  },
  {
   "cell_type": "markdown",
   "metadata": {},
   "source": [
    "Now we want to work out the distance of our feature vector to each of the selected components. \n",
    "\n",
    "This is the core part of what is going on when calculating an anomaly score using this model. \n",
    "\n",
    "If we have a strange feature vector then its going to be something we have not really seen before and so will not fit well into the lower dimensional representation learned by the PCA model. Hence it will have a somewhat larger distance from the selected principle components."
   ]
  },
  {
   "cell_type": "code",
   "execution_count": 34,
   "metadata": {},
   "outputs": [
    {
     "name": "stdout",
     "output_type": "stream",
     "text": [
      "(1, 2)\n",
      "[[4.92401167 4.99332981]]\n"
     ]
    }
   ],
   "source": [
    "distance = cdist(X_scaled, selected_components)\n",
    "print(distance.shape)\n",
    "print(distance)"
   ]
  },
  {
   "cell_type": "markdown",
   "metadata": {},
   "source": [
    "**Note**: These distance numbers are just numbers, where bigger means more distant, but on their own are hard to interpret it terms of what they mean. So the next step will be to try and go from the weighted distance score to an anomaly probability by comparing the anomay score with all those we saw within the training data. It's the training data that will be our yardstick for trying to say just how anomalous a new observation is. "
   ]
  },
  {
   "cell_type": "markdown",
   "metadata": {},
   "source": [
    "#### Step 3: Use a weighted average distance as the anomaly score"
   ]
  },
  {
   "cell_type": "markdown",
   "metadata": {},
   "source": [
    "We will take a weighted average of the distances, where the weights for each component will, by default, be related to the amount of variance in the original training data that each component 'explained' or represented (we can see this in the PyOD code [here](https://github.com/yzhao062/pyod/blob/master/pyod/models/pca.py#L252))."
   ]
  },
  {
   "cell_type": "code",
   "execution_count": 35,
   "metadata": {},
   "outputs": [
    {
     "name": "stdout",
     "output_type": "stream",
     "text": [
      "anomaly score\n",
      "[107.7102246]\n"
     ]
    }
   ],
   "source": [
    "print('anomaly score')\n",
    "anomaly_score = np.sum(distance / selected_w_components, axis=1).ravel()\n",
    "print(anomaly_score)"
   ]
  },
  {
   "cell_type": "markdown",
   "metadata": {},
   "source": [
    "#### Step 4: Convert anomaly score into anomaly probabilities based on the anomaly scores of the training data"
   ]
  },
  {
   "cell_type": "markdown",
   "metadata": {},
   "source": [
    "Now we will use the decision scores we calculated from basically running the prediction process back over the training data when we originally fit our model. \n",
    "\n",
    "We will use the distribution of scores in the training data to try and re-scale our raw anomaly score to look more like something that can pass as a probability.\n",
    "\n",
    "**Note**: Strictly speaking this \"anomaly probability\" is not really a \"real\" probability in the sense of being some sort of more formal or theoretical output from some probabilistic process we have statistically modeled directly. Rather, its just a sensible re-scaling of our raw score based on what we saw in the training data. So a high 'probability' here really just means an unusual value in reference to the training data."
   ]
  },
  {
   "cell_type": "code",
   "execution_count": 36,
   "metadata": {},
   "outputs": [
    {
     "name": "stdout",
     "output_type": "stream",
     "text": [
      "[[0.96450375 0.03549625]]\n"
     ]
    }
   ],
   "source": [
    "# get the raw anomaly scores from the training data\n",
    "train_anomaly_scores = models[model_to_explore].decision_scores_\n",
    "\n",
    "# create empty array for probabilities to go into\n",
    "anomaly_probability_manual_calc = np.zeros([X.shape[0], int(models[model_to_explore]._classes)])\n",
    "\n",
    "# create a scaler to rescale raw anomaly score to look more like a probability and be on the 0, 1 range\n",
    "scaler = MinMaxScaler().fit(train_anomaly_scores.reshape(-1, 1))\n",
    "\n",
    "# transform anomaly score into a probability by rescaling it based on the training data and clipping at 1\n",
    "anomaly_probability_manual_calc[:, 1] = scaler.transform(anomaly_score.reshape(-1, 1)).ravel().clip(0, 1)\n",
    "\n",
    "# use 1 - p(anomaly) as p(not anomaly)\n",
    "anomaly_probability_manual_calc[:, 0] = 1 - anomaly_probability_manual_calc[:, 1]\n",
    "\n",
    "print(anomaly_probability_manual_calc)"
   ]
  },
  {
   "cell_type": "markdown",
   "metadata": {},
   "source": [
    "#### Do they match?"
   ]
  },
  {
   "cell_type": "code",
   "execution_count": 37,
   "metadata": {},
   "outputs": [
    {
     "name": "stdout",
     "output_type": "stream",
     "text": [
      "[[0.96450375 0.03549625]]\n",
      "[[0.96450375 0.03549625]]\n",
      "[[ True  True]]\n"
     ]
    }
   ],
   "source": [
    "# do they match?\n",
    "print(anomaly_probability)\n",
    "print(anomaly_probability_manual_calc)\n",
    "print(anomaly_probability == anomaly_probability_manual_calc)\n",
    "assert np.sum(anomaly_probability == anomaly_probability_manual_calc) == 2"
   ]
  },
  {
   "cell_type": "code",
   "execution_count": null,
   "metadata": {},
   "outputs": [],
   "source": []
  },
  {
   "cell_type": "code",
   "execution_count": null,
   "metadata": {},
   "outputs": [],
   "source": []
  },
  {
   "cell_type": "markdown",
   "metadata": {},
   "source": [
    "....phew, thats it! Go get yourself a coffee :)"
   ]
  },
  {
   "cell_type": "code",
   "execution_count": null,
   "metadata": {},
   "outputs": [],
   "source": []
  }
 ],
 "metadata": {
  "kernelspec": {
   "display_name": "Python 3",
   "language": "python",
   "name": "python3"
  },
  "language_info": {
   "codemirror_mode": {
    "name": "ipython",
    "version": 3
   },
   "file_extension": ".py",
   "mimetype": "text/x-python",
   "name": "python",
   "nbconvert_exporter": "python",
   "pygments_lexer": "ipython3",
   "version": "3.8.1"
  }
 },
 "nbformat": 4,
 "nbformat_minor": 4
}